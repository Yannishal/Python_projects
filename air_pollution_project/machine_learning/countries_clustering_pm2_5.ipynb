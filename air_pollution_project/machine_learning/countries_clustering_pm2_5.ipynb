{
 "cells": [
  {
   "cell_type": "markdown",
   "id": "a12dbcde-c879-4352-be51-e7587a1080c8",
   "metadata": {},
   "source": [
    "# Countries K-Means Clustering"
   ]
  },
  {
   "cell_type": "code",
   "execution_count": 279,
   "id": "05d161c4-3460-4c90-917e-0c5a2b1a33e7",
   "metadata": {},
   "outputs": [],
   "source": [
    "import pandas as pd\n",
    "import numpy as np\n",
    "import matplotlib.pyplot as plt\n",
    "import matplotlib.cm as cm\n",
    "import seaborn as sns\n",
    "import plotly.express as px\n",
    "import chart_studio.plotly as cs\n",
    "import plotly.graph_objs as pgo\n",
    "import glob\n",
    "from plotly.subplots import make_subplots\n",
    "import plotly.graph_objects as go\n",
    "from sklearn.cluster import KMeans\n",
    "from sklearn.metrics import silhouette_samples, silhouette_score\n",
    "from sklearn.preprocessing import StandardScaler\n",
    "from sklearn.preprocessing import MinMaxScaler\n",
    "import statsmodels.api as sm\n",
    "import statsmodels.formula.api as smf\n",
    "import linearmodels.iv.model as lm\n",
    "from sklearn.decomposition import PCA\n",
    "import plotly.io as pio"
   ]
  },
  {
   "cell_type": "code",
   "execution_count": 280,
   "id": "cce1040a-6089-4e94-91ac-619c85daf2ee",
   "metadata": {},
   "outputs": [],
   "source": [
    "df = pd.read_csv('../project_data/pm2_5.csv')"
   ]
  },
  {
   "cell_type": "code",
   "execution_count": 281,
   "id": "1e415171-15dc-455d-90d6-d7de4cc15734",
   "metadata": {},
   "outputs": [
    {
     "data": {
      "text/html": [
       "<div>\n",
       "<style scoped>\n",
       "    .dataframe tbody tr th:only-of-type {\n",
       "        vertical-align: middle;\n",
       "    }\n",
       "\n",
       "    .dataframe tbody tr th {\n",
       "        vertical-align: top;\n",
       "    }\n",
       "\n",
       "    .dataframe thead th {\n",
       "        text-align: right;\n",
       "    }\n",
       "</style>\n",
       "<table border=\"1\" class=\"dataframe\">\n",
       "  <thead>\n",
       "    <tr style=\"text-align: right;\">\n",
       "      <th></th>\n",
       "      <th>continent</th>\n",
       "      <th>continent_iso</th>\n",
       "      <th>code</th>\n",
       "      <th>country</th>\n",
       "      <th>year</th>\n",
       "      <th>pm2_5</th>\n",
       "      <th>gdp_per_capita</th>\n",
       "      <th>access_to_e_per</th>\n",
       "      <th>urban_pop</th>\n",
       "    </tr>\n",
       "  </thead>\n",
       "  <tbody>\n",
       "    <tr>\n",
       "      <th>0</th>\n",
       "      <td>Africa</td>\n",
       "      <td>AF</td>\n",
       "      <td>ZWE</td>\n",
       "      <td>Zimbabwe</td>\n",
       "      <td>2010</td>\n",
       "      <td>23.231479</td>\n",
       "      <td>937.840338</td>\n",
       "      <td>38.782551</td>\n",
       "      <td>4262290</td>\n",
       "    </tr>\n",
       "    <tr>\n",
       "      <th>1</th>\n",
       "      <td>Africa</td>\n",
       "      <td>AF</td>\n",
       "      <td>ZWE</td>\n",
       "      <td>Zimbabwe</td>\n",
       "      <td>2011</td>\n",
       "      <td>23.074213</td>\n",
       "      <td>1082.615774</td>\n",
       "      <td>36.900002</td>\n",
       "      <td>4300463</td>\n",
       "    </tr>\n",
       "    <tr>\n",
       "      <th>2</th>\n",
       "      <td>Africa</td>\n",
       "      <td>AF</td>\n",
       "      <td>ZWE</td>\n",
       "      <td>Zimbabwe</td>\n",
       "      <td>2012</td>\n",
       "      <td>23.198097</td>\n",
       "      <td>1290.193956</td>\n",
       "      <td>44.000000</td>\n",
       "      <td>4355539</td>\n",
       "    </tr>\n",
       "    <tr>\n",
       "      <th>3</th>\n",
       "      <td>Africa</td>\n",
       "      <td>AF</td>\n",
       "      <td>ZWE</td>\n",
       "      <td>Zimbabwe</td>\n",
       "      <td>2013</td>\n",
       "      <td>23.111088</td>\n",
       "      <td>1408.367810</td>\n",
       "      <td>40.498375</td>\n",
       "      <td>4426387</td>\n",
       "    </tr>\n",
       "    <tr>\n",
       "      <th>4</th>\n",
       "      <td>Africa</td>\n",
       "      <td>AF</td>\n",
       "      <td>ZWE</td>\n",
       "      <td>Zimbabwe</td>\n",
       "      <td>2014</td>\n",
       "      <td>22.805950</td>\n",
       "      <td>1407.034293</td>\n",
       "      <td>32.299999</td>\n",
       "      <td>4503674</td>\n",
       "    </tr>\n",
       "  </tbody>\n",
       "</table>\n",
       "</div>"
      ],
      "text/plain": [
       "  continent continent_iso code   country  year      pm2_5  gdp_per_capita  \\\n",
       "0    Africa            AF  ZWE  Zimbabwe  2010  23.231479      937.840338   \n",
       "1    Africa            AF  ZWE  Zimbabwe  2011  23.074213     1082.615774   \n",
       "2    Africa            AF  ZWE  Zimbabwe  2012  23.198097     1290.193956   \n",
       "3    Africa            AF  ZWE  Zimbabwe  2013  23.111088     1408.367810   \n",
       "4    Africa            AF  ZWE  Zimbabwe  2014  22.805950     1407.034293   \n",
       "\n",
       "   access_to_e_per  urban_pop  \n",
       "0        38.782551    4262290  \n",
       "1        36.900002    4300463  \n",
       "2        44.000000    4355539  \n",
       "3        40.498375    4426387  \n",
       "4        32.299999    4503674  "
      ]
     },
     "execution_count": 281,
     "metadata": {},
     "output_type": "execute_result"
    }
   ],
   "source": [
    "df.head()"
   ]
  },
  {
   "cell_type": "code",
   "execution_count": 282,
   "id": "f3ba1e89-4d8a-4d62-84da-96d8e464f35c",
   "metadata": {},
   "outputs": [],
   "source": [
    "# cluster countries according to latest year of the dataset 2017"
   ]
  },
  {
   "cell_type": "code",
   "execution_count": 283,
   "id": "5e6ae653-09c9-403d-8bf7-53d30b7ab5ba",
   "metadata": {},
   "outputs": [],
   "source": [
    "df_1 = df[df['year'] == 2017]"
   ]
  },
  {
   "cell_type": "code",
   "execution_count": 284,
   "id": "def83c2c-b71f-44e5-9506-5108624acfe6",
   "metadata": {},
   "outputs": [],
   "source": [
    "df_1 = df_1[['continent','country','pm2_5', 'gdp_per_capita', 'access_to_e_per', 'urban_pop']]"
   ]
  },
  {
   "cell_type": "code",
   "execution_count": 285,
   "id": "1c338870-fcfa-42a8-b8d5-c2541ceeb150",
   "metadata": {},
   "outputs": [
    {
     "data": {
      "text/html": [
       "<div>\n",
       "<style scoped>\n",
       "    .dataframe tbody tr th:only-of-type {\n",
       "        vertical-align: middle;\n",
       "    }\n",
       "\n",
       "    .dataframe tbody tr th {\n",
       "        vertical-align: top;\n",
       "    }\n",
       "\n",
       "    .dataframe thead th {\n",
       "        text-align: right;\n",
       "    }\n",
       "</style>\n",
       "<table border=\"1\" class=\"dataframe\">\n",
       "  <thead>\n",
       "    <tr style=\"text-align: right;\">\n",
       "      <th></th>\n",
       "      <th>continent</th>\n",
       "      <th>country</th>\n",
       "      <th>pm2_5</th>\n",
       "      <th>gdp_per_capita</th>\n",
       "      <th>access_to_e_per</th>\n",
       "      <th>urban_pop</th>\n",
       "    </tr>\n",
       "  </thead>\n",
       "  <tbody>\n",
       "    <tr>\n",
       "      <th>7</th>\n",
       "      <td>Africa</td>\n",
       "      <td>Zimbabwe</td>\n",
       "      <td>22.251671</td>\n",
       "      <td>1192.107012</td>\n",
       "      <td>44.178635</td>\n",
       "      <td>4755312</td>\n",
       "    </tr>\n",
       "    <tr>\n",
       "      <th>15</th>\n",
       "      <td>Africa</td>\n",
       "      <td>Zambia</td>\n",
       "      <td>27.438035</td>\n",
       "      <td>1495.752138</td>\n",
       "      <td>40.299999</td>\n",
       "      <td>7434012</td>\n",
       "    </tr>\n",
       "    <tr>\n",
       "      <th>23</th>\n",
       "      <td>Asia</td>\n",
       "      <td>Yemen, Rep.</td>\n",
       "      <td>50.456007</td>\n",
       "      <td>893.716573</td>\n",
       "      <td>79.199997</td>\n",
       "      <td>10817186</td>\n",
       "    </tr>\n",
       "    <tr>\n",
       "      <th>31</th>\n",
       "      <td>Asia</td>\n",
       "      <td>West Bank and Gaza</td>\n",
       "      <td>33.225630</td>\n",
       "      <td>3620.360487</td>\n",
       "      <td>99.699997</td>\n",
       "      <td>3380930</td>\n",
       "    </tr>\n",
       "    <tr>\n",
       "      <th>39</th>\n",
       "      <td>North America</td>\n",
       "      <td>Virgin Islands (U.S.)</td>\n",
       "      <td>10.265312</td>\n",
       "      <td>35365.069300</td>\n",
       "      <td>100.000000</td>\n",
       "      <td>102564</td>\n",
       "    </tr>\n",
       "    <tr>\n",
       "      <th>...</th>\n",
       "      <td>...</td>\n",
       "      <td>...</td>\n",
       "      <td>...</td>\n",
       "      <td>...</td>\n",
       "      <td>...</td>\n",
       "      <td>...</td>\n",
       "    </tr>\n",
       "    <tr>\n",
       "      <th>1471</th>\n",
       "      <td>Africa</td>\n",
       "      <td>Angola</td>\n",
       "      <td>32.388505</td>\n",
       "      <td>2283.214233</td>\n",
       "      <td>43.013260</td>\n",
       "      <td>19586972</td>\n",
       "    </tr>\n",
       "    <tr>\n",
       "      <th>1479</th>\n",
       "      <td>Europe</td>\n",
       "      <td>Andorra</td>\n",
       "      <td>10.307621</td>\n",
       "      <td>40632.484390</td>\n",
       "      <td>100.000000</td>\n",
       "      <td>65087</td>\n",
       "    </tr>\n",
       "    <tr>\n",
       "      <th>1487</th>\n",
       "      <td>Africa</td>\n",
       "      <td>Algeria</td>\n",
       "      <td>38.884011</td>\n",
       "      <td>4134.936720</td>\n",
       "      <td>99.635490</td>\n",
       "      <td>29639704</td>\n",
       "    </tr>\n",
       "    <tr>\n",
       "      <th>1495</th>\n",
       "      <td>Europe</td>\n",
       "      <td>Albania</td>\n",
       "      <td>18.200603</td>\n",
       "      <td>4531.019374</td>\n",
       "      <td>99.889999</td>\n",
       "      <td>1706345</td>\n",
       "    </tr>\n",
       "    <tr>\n",
       "      <th>1503</th>\n",
       "      <td>Asia</td>\n",
       "      <td>Afghanistan</td>\n",
       "      <td>56.910808</td>\n",
       "      <td>530.149831</td>\n",
       "      <td>97.699997</td>\n",
       "      <td>8999963</td>\n",
       "    </tr>\n",
       "  </tbody>\n",
       "</table>\n",
       "<p>188 rows × 6 columns</p>\n",
       "</div>"
      ],
      "text/plain": [
       "          continent                country      pm2_5  gdp_per_capita  \\\n",
       "7            Africa               Zimbabwe  22.251671     1192.107012   \n",
       "15           Africa                 Zambia  27.438035     1495.752138   \n",
       "23             Asia            Yemen, Rep.  50.456007      893.716573   \n",
       "31             Asia     West Bank and Gaza  33.225630     3620.360487   \n",
       "39    North America  Virgin Islands (U.S.)  10.265312    35365.069300   \n",
       "...             ...                    ...        ...             ...   \n",
       "1471         Africa                 Angola  32.388505     2283.214233   \n",
       "1479         Europe                Andorra  10.307621    40632.484390   \n",
       "1487         Africa                Algeria  38.884011     4134.936720   \n",
       "1495         Europe                Albania  18.200603     4531.019374   \n",
       "1503           Asia            Afghanistan  56.910808      530.149831   \n",
       "\n",
       "      access_to_e_per  urban_pop  \n",
       "7           44.178635    4755312  \n",
       "15          40.299999    7434012  \n",
       "23          79.199997   10817186  \n",
       "31          99.699997    3380930  \n",
       "39         100.000000     102564  \n",
       "...               ...        ...  \n",
       "1471        43.013260   19586972  \n",
       "1479       100.000000      65087  \n",
       "1487        99.635490   29639704  \n",
       "1495        99.889999    1706345  \n",
       "1503        97.699997    8999963  \n",
       "\n",
       "[188 rows x 6 columns]"
      ]
     },
     "execution_count": 285,
     "metadata": {},
     "output_type": "execute_result"
    }
   ],
   "source": [
    "df_1"
   ]
  },
  {
   "cell_type": "code",
   "execution_count": 286,
   "id": "ea2be292-43a7-47a8-92a8-4e238374d319",
   "metadata": {},
   "outputs": [
    {
     "name": "stderr",
     "output_type": "stream",
     "text": [
      "C:\\Users\\tomah\\AppData\\Local\\Temp\\ipykernel_328\\4186062700.py:1: FutureWarning:\n",
      "\n",
      "The default value of numeric_only in DataFrame.corr is deprecated. In a future version, it will default to False. Select only valid columns or specify the value of numeric_only to silence this warning.\n",
      "\n"
     ]
    },
    {
     "data": {
      "text/plain": [
       "<AxesSubplot: >"
      ]
     },
     "execution_count": 286,
     "metadata": {},
     "output_type": "execute_result"
    },
    {
     "data": {
      "image/png": "[encoded data removed]",
      "text/plain": [
       "<Figure size 640x480 with 2 Axes>"
      ]
     },
     "metadata": {},
     "output_type": "display_data"
    }
   ],
   "source": [
    "sns.heatmap(data = df_1.corr())"
   ]
  },
  {
   "cell_type": "code",
   "execution_count": 287,
   "id": "f3115593-cdf9-43f5-bfac-a63610d4bf37",
   "metadata": {},
   "outputs": [],
   "source": [
    "# we can observe that high correlation does not exist among the variables "
   ]
  },
  {
   "cell_type": "markdown",
   "id": "bd0746aa-a1fa-49de-b816-27934c1b788c",
   "metadata": {},
   "source": [
    "## Data preparation for K-Means Clustering"
   ]
  },
  {
   "cell_type": "code",
   "execution_count": 288,
   "id": "d0c5d67a-e479-481c-9688-06f73c7b2474",
   "metadata": {},
   "outputs": [],
   "source": [
    "# log transformation of the variables cause they are highly skewed"
   ]
  },
  {
   "cell_type": "code",
   "execution_count": 289,
   "id": "93ce1b21-32c9-4bd1-ac95-1237049096eb",
   "metadata": {},
   "outputs": [],
   "source": [
    "df_2 = df_1"
   ]
  },
  {
   "cell_type": "code",
   "execution_count": 290,
   "id": "601a97e8-7e47-4918-a3dd-490b0f6c60ca",
   "metadata": {},
   "outputs": [],
   "source": [
    "df_2['pm2_5'] = np.log(df_2['pm2_5'])"
   ]
  },
  {
   "cell_type": "code",
   "execution_count": 291,
   "id": "232e13e9-5077-4e58-9ae6-bbdc28725187",
   "metadata": {},
   "outputs": [],
   "source": [
    "df_2['urban_pop'] = np.log(df_2['urban_pop'])"
   ]
  },
  {
   "cell_type": "code",
   "execution_count": 292,
   "id": "5b9610cb-13b3-4f21-ada5-e6bb617793a2",
   "metadata": {},
   "outputs": [],
   "source": [
    "df_2['access_to_e_per'] = np.log(df_2['access_to_e_per'])"
   ]
  },
  {
   "cell_type": "code",
   "execution_count": 293,
   "id": "919d472c-b745-4ef1-ae6a-22e66b1ab99c",
   "metadata": {},
   "outputs": [],
   "source": [
    "df_2['gdp_per_capita'] = np.log(df_2['gdp_per_capita'])"
   ]
  },
  {
   "cell_type": "code",
   "execution_count": 294,
   "id": "f0adc04a-5d5e-4550-911b-5d1dc6cf1633",
   "metadata": {},
   "outputs": [
    {
     "data": {
      "text/html": [
       "<div>\n",
       "<style scoped>\n",
       "    .dataframe tbody tr th:only-of-type {\n",
       "        vertical-align: middle;\n",
       "    }\n",
       "\n",
       "    .dataframe tbody tr th {\n",
       "        vertical-align: top;\n",
       "    }\n",
       "\n",
       "    .dataframe thead th {\n",
       "        text-align: right;\n",
       "    }\n",
       "</style>\n",
       "<table border=\"1\" class=\"dataframe\">\n",
       "  <thead>\n",
       "    <tr style=\"text-align: right;\">\n",
       "      <th></th>\n",
       "      <th>continent</th>\n",
       "      <th>country</th>\n",
       "      <th>pm2_5</th>\n",
       "      <th>gdp_per_capita</th>\n",
       "      <th>access_to_e_per</th>\n",
       "      <th>urban_pop</th>\n",
       "    </tr>\n",
       "  </thead>\n",
       "  <tbody>\n",
       "    <tr>\n",
       "      <th>7</th>\n",
       "      <td>Africa</td>\n",
       "      <td>Zimbabwe</td>\n",
       "      <td>3.102417</td>\n",
       "      <td>7.083478</td>\n",
       "      <td>3.788241</td>\n",
       "      <td>15.374773</td>\n",
       "    </tr>\n",
       "    <tr>\n",
       "      <th>15</th>\n",
       "      <td>Africa</td>\n",
       "      <td>Zambia</td>\n",
       "      <td>3.311930</td>\n",
       "      <td>7.310384</td>\n",
       "      <td>3.696351</td>\n",
       "      <td>15.821576</td>\n",
       "    </tr>\n",
       "    <tr>\n",
       "      <th>23</th>\n",
       "      <td>Asia</td>\n",
       "      <td>Yemen, Rep.</td>\n",
       "      <td>3.921102</td>\n",
       "      <td>6.795389</td>\n",
       "      <td>4.371976</td>\n",
       "      <td>16.196647</td>\n",
       "    </tr>\n",
       "    <tr>\n",
       "      <th>31</th>\n",
       "      <td>Asia</td>\n",
       "      <td>West Bank and Gaza</td>\n",
       "      <td>3.503322</td>\n",
       "      <td>8.194329</td>\n",
       "      <td>4.602166</td>\n",
       "      <td>15.033661</td>\n",
       "    </tr>\n",
       "    <tr>\n",
       "      <th>39</th>\n",
       "      <td>North America</td>\n",
       "      <td>Virgin Islands (U.S.)</td>\n",
       "      <td>2.328770</td>\n",
       "      <td>10.473480</td>\n",
       "      <td>4.605170</td>\n",
       "      <td>11.538242</td>\n",
       "    </tr>\n",
       "    <tr>\n",
       "      <th>...</th>\n",
       "      <td>...</td>\n",
       "      <td>...</td>\n",
       "      <td>...</td>\n",
       "      <td>...</td>\n",
       "      <td>...</td>\n",
       "      <td>...</td>\n",
       "    </tr>\n",
       "    <tr>\n",
       "      <th>1471</th>\n",
       "      <td>Africa</td>\n",
       "      <td>Angola</td>\n",
       "      <td>3.477804</td>\n",
       "      <td>7.733339</td>\n",
       "      <td>3.761508</td>\n",
       "      <td>16.790375</td>\n",
       "    </tr>\n",
       "    <tr>\n",
       "      <th>1479</th>\n",
       "      <td>Europe</td>\n",
       "      <td>Andorra</td>\n",
       "      <td>2.332884</td>\n",
       "      <td>10.612323</td>\n",
       "      <td>4.605170</td>\n",
       "      <td>11.083480</td>\n",
       "    </tr>\n",
       "    <tr>\n",
       "      <th>1487</th>\n",
       "      <td>Africa</td>\n",
       "      <td>Algeria</td>\n",
       "      <td>3.660583</td>\n",
       "      <td>8.327227</td>\n",
       "      <td>4.601518</td>\n",
       "      <td>17.204625</td>\n",
       "    </tr>\n",
       "    <tr>\n",
       "      <th>1495</th>\n",
       "      <td>Europe</td>\n",
       "      <td>Albania</td>\n",
       "      <td>2.901455</td>\n",
       "      <td>8.418702</td>\n",
       "      <td>4.604070</td>\n",
       "      <td>14.349864</td>\n",
       "    </tr>\n",
       "    <tr>\n",
       "      <th>1503</th>\n",
       "      <td>Asia</td>\n",
       "      <td>Afghanistan</td>\n",
       "      <td>4.041485</td>\n",
       "      <td>6.273160</td>\n",
       "      <td>4.581902</td>\n",
       "      <td>16.012731</td>\n",
       "    </tr>\n",
       "  </tbody>\n",
       "</table>\n",
       "<p>188 rows × 6 columns</p>\n",
       "</div>"
      ],
      "text/plain": [
       "          continent                country     pm2_5  gdp_per_capita  \\\n",
       "7            Africa               Zimbabwe  3.102417        7.083478   \n",
       "15           Africa                 Zambia  3.311930        7.310384   \n",
       "23             Asia            Yemen, Rep.  3.921102        6.795389   \n",
       "31             Asia     West Bank and Gaza  3.503322        8.194329   \n",
       "39    North America  Virgin Islands (U.S.)  2.328770       10.473480   \n",
       "...             ...                    ...       ...             ...   \n",
       "1471         Africa                 Angola  3.477804        7.733339   \n",
       "1479         Europe                Andorra  2.332884       10.612323   \n",
       "1487         Africa                Algeria  3.660583        8.327227   \n",
       "1495         Europe                Albania  2.901455        8.418702   \n",
       "1503           Asia            Afghanistan  4.041485        6.273160   \n",
       "\n",
       "      access_to_e_per  urban_pop  \n",
       "7            3.788241  15.374773  \n",
       "15           3.696351  15.821576  \n",
       "23           4.371976  16.196647  \n",
       "31           4.602166  15.033661  \n",
       "39           4.605170  11.538242  \n",
       "...               ...        ...  \n",
       "1471         3.761508  16.790375  \n",
       "1479         4.605170  11.083480  \n",
       "1487         4.601518  17.204625  \n",
       "1495         4.604070  14.349864  \n",
       "1503         4.581902  16.012731  \n",
       "\n",
       "[188 rows x 6 columns]"
      ]
     },
     "execution_count": 294,
     "metadata": {},
     "output_type": "execute_result"
    }
   ],
   "source": [
    "df_2"
   ]
  },
  {
   "cell_type": "code",
   "execution_count": 295,
   "id": "2c030e23-7087-4104-a017-d4678c399548",
   "metadata": {},
   "outputs": [],
   "source": [
    "# data scaling "
   ]
  },
  {
   "cell_type": "code",
   "execution_count": 296,
   "id": "4eb7f9a0-cbf6-42aa-bf4f-3cc8c0f72b13",
   "metadata": {},
   "outputs": [],
   "source": [
    "scaler = StandardScaler()"
   ]
  },
  {
   "cell_type": "code",
   "execution_count": 297,
   "id": "672b946e-7d8a-4402-a946-d27f7de75ef3",
   "metadata": {},
   "outputs": [
    {
     "data": {
      "text/plain": [
       "StandardScaler()"
      ]
     },
     "execution_count": 297,
     "metadata": {},
     "output_type": "execute_result"
    }
   ],
   "source": [
    "scaler.fit(df_2[['pm2_5', 'gdp_per_capita', 'access_to_e_per', 'urban_pop']])"
   ]
  },
  {
   "cell_type": "code",
   "execution_count": 298,
   "id": "bf9d6b4f-e35c-45e5-8b37-e7443614bbd8",
   "metadata": {},
   "outputs": [],
   "source": [
    "df_2[['pm2_5', 'gdp_per_capita', 'access_to_e_per', 'urban_pop']] = scaler.transform(df_2[[\n",
    "    'pm2_5', 'gdp_per_capita', 'access_to_e_per', 'urban_pop']])"
   ]
  },
  {
   "cell_type": "code",
   "execution_count": 299,
   "id": "eb54955b-3b04-4aa6-8e58-db6b21ec2cfc",
   "metadata": {},
   "outputs": [
    {
     "data": {
      "text/html": [
       "<div>\n",
       "<style scoped>\n",
       "    .dataframe tbody tr th:only-of-type {\n",
       "        vertical-align: middle;\n",
       "    }\n",
       "\n",
       "    .dataframe tbody tr th {\n",
       "        vertical-align: top;\n",
       "    }\n",
       "\n",
       "    .dataframe thead th {\n",
       "        text-align: right;\n",
       "    }\n",
       "</style>\n",
       "<table border=\"1\" class=\"dataframe\">\n",
       "  <thead>\n",
       "    <tr style=\"text-align: right;\">\n",
       "      <th></th>\n",
       "      <th>continent</th>\n",
       "      <th>country</th>\n",
       "      <th>pm2_5</th>\n",
       "      <th>gdp_per_capita</th>\n",
       "      <th>access_to_e_per</th>\n",
       "      <th>urban_pop</th>\n",
       "    </tr>\n",
       "  </thead>\n",
       "  <tbody>\n",
       "    <tr>\n",
       "      <th>7</th>\n",
       "      <td>Africa</td>\n",
       "      <td>Zimbabwe</td>\n",
       "      <td>0.028016</td>\n",
       "      <td>-1.142654</td>\n",
       "      <td>-1.162760</td>\n",
       "      <td>0.153467</td>\n",
       "    </tr>\n",
       "    <tr>\n",
       "      <th>15</th>\n",
       "      <td>Africa</td>\n",
       "      <td>Zambia</td>\n",
       "      <td>0.354550</td>\n",
       "      <td>-0.982604</td>\n",
       "      <td>-1.352576</td>\n",
       "      <td>0.362785</td>\n",
       "    </tr>\n",
       "    <tr>\n",
       "      <th>23</th>\n",
       "      <td>Asia</td>\n",
       "      <td>Yemen, Rep.</td>\n",
       "      <td>1.303968</td>\n",
       "      <td>-1.345859</td>\n",
       "      <td>0.043054</td>\n",
       "      <td>0.538498</td>\n",
       "    </tr>\n",
       "    <tr>\n",
       "      <th>31</th>\n",
       "      <td>Asia</td>\n",
       "      <td>West Bank and Gaza</td>\n",
       "      <td>0.652841</td>\n",
       "      <td>-0.359111</td>\n",
       "      <td>0.518553</td>\n",
       "      <td>-0.006337</td>\n",
       "    </tr>\n",
       "    <tr>\n",
       "      <th>39</th>\n",
       "      <td>North America</td>\n",
       "      <td>Virgin Islands (U.S.)</td>\n",
       "      <td>-1.177744</td>\n",
       "      <td>1.248497</td>\n",
       "      <td>0.524760</td>\n",
       "      <td>-1.643869</td>\n",
       "    </tr>\n",
       "    <tr>\n",
       "      <th>...</th>\n",
       "      <td>...</td>\n",
       "      <td>...</td>\n",
       "      <td>...</td>\n",
       "      <td>...</td>\n",
       "      <td>...</td>\n",
       "      <td>...</td>\n",
       "    </tr>\n",
       "    <tr>\n",
       "      <th>1471</th>\n",
       "      <td>Africa</td>\n",
       "      <td>Angola</td>\n",
       "      <td>0.613070</td>\n",
       "      <td>-0.684272</td>\n",
       "      <td>-1.217982</td>\n",
       "      <td>0.816647</td>\n",
       "    </tr>\n",
       "    <tr>\n",
       "      <th>1479</th>\n",
       "      <td>Europe</td>\n",
       "      <td>Andorra</td>\n",
       "      <td>-1.171333</td>\n",
       "      <td>1.346430</td>\n",
       "      <td>0.524760</td>\n",
       "      <td>-1.856916</td>\n",
       "    </tr>\n",
       "    <tr>\n",
       "      <th>1487</th>\n",
       "      <td>Africa</td>\n",
       "      <td>Algeria</td>\n",
       "      <td>0.897940</td>\n",
       "      <td>-0.265371</td>\n",
       "      <td>0.517216</td>\n",
       "      <td>1.010715</td>\n",
       "    </tr>\n",
       "    <tr>\n",
       "      <th>1495</th>\n",
       "      <td>Europe</td>\n",
       "      <td>Albania</td>\n",
       "      <td>-0.285192</td>\n",
       "      <td>-0.200848</td>\n",
       "      <td>0.522486</td>\n",
       "      <td>-0.326682</td>\n",
       "    </tr>\n",
       "    <tr>\n",
       "      <th>1503</th>\n",
       "      <td>Asia</td>\n",
       "      <td>Afghanistan</td>\n",
       "      <td>1.491591</td>\n",
       "      <td>-1.714215</td>\n",
       "      <td>0.476694</td>\n",
       "      <td>0.452337</td>\n",
       "    </tr>\n",
       "  </tbody>\n",
       "</table>\n",
       "<p>188 rows × 6 columns</p>\n",
       "</div>"
      ],
      "text/plain": [
       "          continent                country     pm2_5  gdp_per_capita  \\\n",
       "7            Africa               Zimbabwe  0.028016       -1.142654   \n",
       "15           Africa                 Zambia  0.354550       -0.982604   \n",
       "23             Asia            Yemen, Rep.  1.303968       -1.345859   \n",
       "31             Asia     West Bank and Gaza  0.652841       -0.359111   \n",
       "39    North America  Virgin Islands (U.S.) -1.177744        1.248497   \n",
       "...             ...                    ...       ...             ...   \n",
       "1471         Africa                 Angola  0.613070       -0.684272   \n",
       "1479         Europe                Andorra -1.171333        1.346430   \n",
       "1487         Africa                Algeria  0.897940       -0.265371   \n",
       "1495         Europe                Albania -0.285192       -0.200848   \n",
       "1503           Asia            Afghanistan  1.491591       -1.714215   \n",
       "\n",
       "      access_to_e_per  urban_pop  \n",
       "7           -1.162760   0.153467  \n",
       "15          -1.352576   0.362785  \n",
       "23           0.043054   0.538498  \n",
       "31           0.518553  -0.006337  \n",
       "39           0.524760  -1.643869  \n",
       "...               ...        ...  \n",
       "1471        -1.217982   0.816647  \n",
       "1479         0.524760  -1.856916  \n",
       "1487         0.517216   1.010715  \n",
       "1495         0.522486  -0.326682  \n",
       "1503         0.476694   0.452337  \n",
       "\n",
       "[188 rows x 6 columns]"
      ]
     },
     "execution_count": 299,
     "metadata": {},
     "output_type": "execute_result"
    }
   ],
   "source": [
    "df_2"
   ]
  },
  {
   "cell_type": "code",
   "execution_count": 300,
   "id": "4ff93fcd-ca8a-4ab6-9948-e8cbe4dc09bb",
   "metadata": {},
   "outputs": [],
   "source": [
    "df_3 = df_2[['pm2_5', 'gdp_per_capita', 'access_to_e_per', 'urban_pop']]"
   ]
  },
  {
   "cell_type": "code",
   "execution_count": 301,
   "id": "51cd2e0c-062b-4ee6-900c-ca3195c6af10",
   "metadata": {},
   "outputs": [
    {
     "name": "stderr",
     "output_type": "stream",
     "text": [
      "C:\\Users\\tomah\\AppData\\Local\\Temp\\ipykernel_328\\1974394952.py:1: SettingWithCopyWarning:\n",
      "\n",
      "\n",
      "A value is trying to be set on a copy of a slice from a DataFrame.\n",
      "Try using .loc[row_indexer,col_indexer] = value instead\n",
      "\n",
      "See the caveats in the documentation: https://pandas.pydata.org/pandas-docs/stable/user_guide/indexing.html#returning-a-view-versus-a-copy\n",
      "\n"
     ]
    }
   ],
   "source": [
    "df_3['urban_pop'] = df_3['urban_pop']/1000000"
   ]
  },
  {
   "cell_type": "markdown",
   "id": "47647c4a-d5d2-4ce4-84fc-86594ad024af",
   "metadata": {},
   "source": [
    "## K-Means Clustering"
   ]
  },
  {
   "cell_type": "markdown",
   "id": "2d57637d-38be-4e33-9f06-dcd57c457967",
   "metadata": {},
   "source": [
    "### Silhouette Method-Elbow Method metrics"
   ]
  },
  {
   "cell_type": "code",
   "execution_count": 302,
   "id": "621bf459-f4aa-4c61-a327-f31cc6fed9e3",
   "metadata": {},
   "outputs": [],
   "source": [
    "df_clustering = df_3[['pm2_5','gdp_per_capita','urban_pop']]"
   ]
  },
  {
   "cell_type": "code",
   "execution_count": 303,
   "id": "c37c1d7f-12f0-4259-b42b-13419896cd5c",
   "metadata": {},
   "outputs": [],
   "source": [
    "wcss = []\n",
    "K = range(1,10)\n",
    "for k in K:\n",
    "    kmeanModel = KMeans(n_clusters=k)\n",
    "    kmeanModel.fit(df_clustering)\n",
    "    wcss.append(kmeanModel.inertia_)"
   ]
  },
  {
   "cell_type": "code",
   "execution_count": 304,
   "id": "52de8165-ba4b-441b-a645-ad7fd340d816",
   "metadata": {},
   "outputs": [
    {
     "data": {
      "image/png": "[encoded data removed]",
      "text/plain": [
       "<Figure size 1600x800 with 1 Axes>"
      ]
     },
     "metadata": {},
     "output_type": "display_data"
    }
   ],
   "source": [
    "plt.figure(figsize=(16,8))\n",
    "plt.plot(K, wcss, 'bx-')\n",
    "plt.xlabel('k')\n",
    "plt.ylabel('Wcss')\n",
    "plt.title('Elbow Method')\n",
    "plt.show()"
   ]
  },
  {
   "cell_type": "code",
   "execution_count": 305,
   "id": "3770bb48-bb58-4531-9cbf-c2e41e06f04e",
   "metadata": {},
   "outputs": [],
   "source": [
    "silhouette_coefficients = []\n",
    "for k in range (2,11):\n",
    "    kmeans = KMeans(n_clusters = k, init = 'k-means++', random_state=42 )\n",
    "    kmeans.fit(df_clustering)\n",
    "    score = silhouette_score(df_clustering, kmeans.labels_)\n",
    "    silhouette_coefficients.append(score)"
   ]
  },
  {
   "cell_type": "code",
   "execution_count": 306,
   "id": "642fd453-927d-4be7-8cc7-b90dbe00955e",
   "metadata": {},
   "outputs": [
    {
     "data": {
      "image/png": "[encoded data removed]",
      "text/plain": [
       "<Figure size 640x480 with 1 Axes>"
      ]
     },
     "metadata": {},
     "output_type": "display_data"
    }
   ],
   "source": [
    "plt.style.use(\"fivethirtyeight\")\n",
    "plt.plot(range(2, 11), silhouette_coefficients)\n",
    "plt.xticks(range(2, 11))\n",
    "plt.xlabel(\"Number of Clusters\")\n",
    "plt.ylabel(\"Silhouette Coefficient\")\n",
    "plt.show()"
   ]
  },
  {
   "cell_type": "code",
   "execution_count": 307,
   "id": "738f3fb6-86ee-4eb3-a750-d2245023ddba",
   "metadata": {},
   "outputs": [],
   "source": [
    "k_means = KMeans(n_clusters=3, random_state=42, init='k-means++')"
   ]
  },
  {
   "cell_type": "code",
   "execution_count": 308,
   "id": "a7002b2a-b131-4c8d-b421-48ffddb1d7c1",
   "metadata": {},
   "outputs": [],
   "source": [
    "fit = k_means.fit(df_clustering)"
   ]
  },
  {
   "cell_type": "code",
   "execution_count": 309,
   "id": "6c7d8f43-0561-46b2-9094-af05a1fe32a0",
   "metadata": {},
   "outputs": [],
   "source": [
    "pred = fit.predict(df_clustering)"
   ]
  },
  {
   "cell_type": "code",
   "execution_count": 310,
   "id": "178415b8-0f81-43b1-b7e1-3e0b335574d6",
   "metadata": {},
   "outputs": [
    {
     "data": {
      "text/plain": [
       "array([2, 2, 2, 2, 1, 2, 0, 2, 1, 1, 1, 0, 0, 2, 0, 2, 2, 0, 0, 2, 0, 0,\n",
       "       2, 2, 2, 1, 1, 0, 2, 0, 0, 0, 1, 0, 0, 1, 0, 1, 2, 0, 0, 2, 2, 2,\n",
       "       0, 2, 0, 0, 2, 1, 1, 0, 0, 0, 0, 0, 1, 2, 0, 1, 1, 0, 2, 2, 0, 1,\n",
       "       1, 2, 0, 2, 2, 2, 0, 2, 0, 0, 0, 0, 2, 0, 1, 2, 1, 0, 2, 2, 1, 1,\n",
       "       2, 2, 2, 0, 1, 2, 2, 2, 0, 0, 2, 0, 2, 1, 0, 1, 1, 1, 2, 2, 0, 2,\n",
       "       1, 0, 0, 0, 0, 2, 2, 0, 1, 0, 1, 0, 2, 1, 0, 2, 2, 1, 1, 0, 2, 0,\n",
       "       1, 2, 0, 2, 0, 0, 0, 2, 1, 1, 1, 0, 0, 2, 0, 2, 2, 0, 0, 2, 0, 2,\n",
       "       2, 1, 2, 2, 2, 2, 2, 0, 1, 0, 0, 0, 0, 2, 1, 2, 0, 1, 0, 0, 2, 2,\n",
       "       1, 0, 1, 1, 2, 1, 0, 2, 1, 2, 0, 2])"
      ]
     },
     "execution_count": 310,
     "metadata": {},
     "output_type": "execute_result"
    }
   ],
   "source": [
    "pred"
   ]
  },
  {
   "cell_type": "code",
   "execution_count": 311,
   "id": "d17b434e-4c00-4a20-ba95-dba7b26cf2a9",
   "metadata": {},
   "outputs": [],
   "source": [
    "df_1['cluster'] = pred"
   ]
  },
  {
   "cell_type": "code",
   "execution_count": 312,
   "id": "0d5eb793-aaa6-4456-82dc-cd67ed06425b",
   "metadata": {},
   "outputs": [],
   "source": [
    "df_5 = df[df['year'] == 2017]"
   ]
  },
  {
   "cell_type": "code",
   "execution_count": 313,
   "id": "75bb98f6-b548-4114-9c74-44ca7cfe9d00",
   "metadata": {},
   "outputs": [
    {
     "name": "stderr",
     "output_type": "stream",
     "text": [
      "C:\\Users\\tomah\\AppData\\Local\\Temp\\ipykernel_328\\294330953.py:1: SettingWithCopyWarning:\n",
      "\n",
      "\n",
      "A value is trying to be set on a copy of a slice from a DataFrame.\n",
      "Try using .loc[row_indexer,col_indexer] = value instead\n",
      "\n",
      "See the caveats in the documentation: https://pandas.pydata.org/pandas-docs/stable/user_guide/indexing.html#returning-a-view-versus-a-copy\n",
      "\n"
     ]
    }
   ],
   "source": [
    "df_5['clusters'] = pred"
   ]
  },
  {
   "cell_type": "code",
   "execution_count": 314,
   "id": "3ff8ed84-6155-4bd5-b6bc-bbf8101ffe25",
   "metadata": {},
   "outputs": [
    {
     "data": {
      "text/html": [
       "<div>\n",
       "<style scoped>\n",
       "    .dataframe tbody tr th:only-of-type {\n",
       "        vertical-align: middle;\n",
       "    }\n",
       "\n",
       "    .dataframe tbody tr th {\n",
       "        vertical-align: top;\n",
       "    }\n",
       "\n",
       "    .dataframe thead th {\n",
       "        text-align: right;\n",
       "    }\n",
       "</style>\n",
       "<table border=\"1\" class=\"dataframe\">\n",
       "  <thead>\n",
       "    <tr style=\"text-align: right;\">\n",
       "      <th></th>\n",
       "      <th>continent</th>\n",
       "      <th>continent_iso</th>\n",
       "      <th>code</th>\n",
       "      <th>country</th>\n",
       "      <th>year</th>\n",
       "      <th>pm2_5</th>\n",
       "      <th>gdp_per_capita</th>\n",
       "      <th>access_to_e_per</th>\n",
       "      <th>urban_pop</th>\n",
       "      <th>clusters</th>\n",
       "    </tr>\n",
       "  </thead>\n",
       "  <tbody>\n",
       "    <tr>\n",
       "      <th>7</th>\n",
       "      <td>Africa</td>\n",
       "      <td>AF</td>\n",
       "      <td>ZWE</td>\n",
       "      <td>Zimbabwe</td>\n",
       "      <td>2017</td>\n",
       "      <td>22.251671</td>\n",
       "      <td>1192.107012</td>\n",
       "      <td>44.178635</td>\n",
       "      <td>4755312</td>\n",
       "      <td>2</td>\n",
       "    </tr>\n",
       "    <tr>\n",
       "      <th>15</th>\n",
       "      <td>Africa</td>\n",
       "      <td>AF</td>\n",
       "      <td>ZMB</td>\n",
       "      <td>Zambia</td>\n",
       "      <td>2017</td>\n",
       "      <td>27.438035</td>\n",
       "      <td>1495.752138</td>\n",
       "      <td>40.299999</td>\n",
       "      <td>7434012</td>\n",
       "      <td>2</td>\n",
       "    </tr>\n",
       "    <tr>\n",
       "      <th>23</th>\n",
       "      <td>Asia</td>\n",
       "      <td>AS</td>\n",
       "      <td>YEM</td>\n",
       "      <td>Yemen, Rep.</td>\n",
       "      <td>2017</td>\n",
       "      <td>50.456007</td>\n",
       "      <td>893.716573</td>\n",
       "      <td>79.199997</td>\n",
       "      <td>10817186</td>\n",
       "      <td>2</td>\n",
       "    </tr>\n",
       "    <tr>\n",
       "      <th>31</th>\n",
       "      <td>Asia</td>\n",
       "      <td>AS</td>\n",
       "      <td>PSE</td>\n",
       "      <td>West Bank and Gaza</td>\n",
       "      <td>2017</td>\n",
       "      <td>33.225630</td>\n",
       "      <td>3620.360487</td>\n",
       "      <td>99.699997</td>\n",
       "      <td>3380930</td>\n",
       "      <td>2</td>\n",
       "    </tr>\n",
       "    <tr>\n",
       "      <th>39</th>\n",
       "      <td>North America</td>\n",
       "      <td>NaN</td>\n",
       "      <td>VIR</td>\n",
       "      <td>Virgin Islands (U.S.)</td>\n",
       "      <td>2017</td>\n",
       "      <td>10.265312</td>\n",
       "      <td>35365.069300</td>\n",
       "      <td>100.000000</td>\n",
       "      <td>102564</td>\n",
       "      <td>1</td>\n",
       "    </tr>\n",
       "    <tr>\n",
       "      <th>...</th>\n",
       "      <td>...</td>\n",
       "      <td>...</td>\n",
       "      <td>...</td>\n",
       "      <td>...</td>\n",
       "      <td>...</td>\n",
       "      <td>...</td>\n",
       "      <td>...</td>\n",
       "      <td>...</td>\n",
       "      <td>...</td>\n",
       "      <td>...</td>\n",
       "    </tr>\n",
       "    <tr>\n",
       "      <th>1471</th>\n",
       "      <td>Africa</td>\n",
       "      <td>AF</td>\n",
       "      <td>AGO</td>\n",
       "      <td>Angola</td>\n",
       "      <td>2017</td>\n",
       "      <td>32.388505</td>\n",
       "      <td>2283.214233</td>\n",
       "      <td>43.013260</td>\n",
       "      <td>19586972</td>\n",
       "      <td>2</td>\n",
       "    </tr>\n",
       "    <tr>\n",
       "      <th>1479</th>\n",
       "      <td>Europe</td>\n",
       "      <td>EU</td>\n",
       "      <td>AND</td>\n",
       "      <td>Andorra</td>\n",
       "      <td>2017</td>\n",
       "      <td>10.307621</td>\n",
       "      <td>40632.484390</td>\n",
       "      <td>100.000000</td>\n",
       "      <td>65087</td>\n",
       "      <td>1</td>\n",
       "    </tr>\n",
       "    <tr>\n",
       "      <th>1487</th>\n",
       "      <td>Africa</td>\n",
       "      <td>AF</td>\n",
       "      <td>DZA</td>\n",
       "      <td>Algeria</td>\n",
       "      <td>2017</td>\n",
       "      <td>38.884011</td>\n",
       "      <td>4134.936720</td>\n",
       "      <td>99.635490</td>\n",
       "      <td>29639704</td>\n",
       "      <td>2</td>\n",
       "    </tr>\n",
       "    <tr>\n",
       "      <th>1495</th>\n",
       "      <td>Europe</td>\n",
       "      <td>EU</td>\n",
       "      <td>ALB</td>\n",
       "      <td>Albania</td>\n",
       "      <td>2017</td>\n",
       "      <td>18.200603</td>\n",
       "      <td>4531.019374</td>\n",
       "      <td>99.889999</td>\n",
       "      <td>1706345</td>\n",
       "      <td>0</td>\n",
       "    </tr>\n",
       "    <tr>\n",
       "      <th>1503</th>\n",
       "      <td>Asia</td>\n",
       "      <td>AS</td>\n",
       "      <td>AFG</td>\n",
       "      <td>Afghanistan</td>\n",
       "      <td>2017</td>\n",
       "      <td>56.910808</td>\n",
       "      <td>530.149831</td>\n",
       "      <td>97.699997</td>\n",
       "      <td>8999963</td>\n",
       "      <td>2</td>\n",
       "    </tr>\n",
       "  </tbody>\n",
       "</table>\n",
       "<p>188 rows × 10 columns</p>\n",
       "</div>"
      ],
      "text/plain": [
       "          continent continent_iso code                country  year  \\\n",
       "7            Africa            AF  ZWE               Zimbabwe  2017   \n",
       "15           Africa            AF  ZMB                 Zambia  2017   \n",
       "23             Asia            AS  YEM            Yemen, Rep.  2017   \n",
       "31             Asia            AS  PSE     West Bank and Gaza  2017   \n",
       "39    North America           NaN  VIR  Virgin Islands (U.S.)  2017   \n",
       "...             ...           ...  ...                    ...   ...   \n",
       "1471         Africa            AF  AGO                 Angola  2017   \n",
       "1479         Europe            EU  AND                Andorra  2017   \n",
       "1487         Africa            AF  DZA                Algeria  2017   \n",
       "1495         Europe            EU  ALB                Albania  2017   \n",
       "1503           Asia            AS  AFG            Afghanistan  2017   \n",
       "\n",
       "          pm2_5  gdp_per_capita  access_to_e_per  urban_pop  clusters  \n",
       "7     22.251671     1192.107012        44.178635    4755312         2  \n",
       "15    27.438035     1495.752138        40.299999    7434012         2  \n",
       "23    50.456007      893.716573        79.199997   10817186         2  \n",
       "31    33.225630     3620.360487        99.699997    3380930         2  \n",
       "39    10.265312    35365.069300       100.000000     102564         1  \n",
       "...         ...             ...              ...        ...       ...  \n",
       "1471  32.388505     2283.214233        43.013260   19586972         2  \n",
       "1479  10.307621    40632.484390       100.000000      65087         1  \n",
       "1487  38.884011     4134.936720        99.635490   29639704         2  \n",
       "1495  18.200603     4531.019374        99.889999    1706345         0  \n",
       "1503  56.910808      530.149831        97.699997    8999963         2  \n",
       "\n",
       "[188 rows x 10 columns]"
      ]
     },
     "execution_count": 314,
     "metadata": {},
     "output_type": "execute_result"
    }
   ],
   "source": [
    "df_5"
   ]
  },
  {
   "cell_type": "code",
   "execution_count": 315,
   "id": "f6a919ad-f22e-421f-9233-eefe08f89259",
   "metadata": {},
   "outputs": [
    {
     "name": "stderr",
     "output_type": "stream",
     "text": [
      "C:\\Users\\tomah\\AppData\\Local\\Temp\\ipykernel_328\\4032250293.py:1: SettingWithCopyWarning:\n",
      "\n",
      "\n",
      "A value is trying to be set on a copy of a slice from a DataFrame.\n",
      "Try using .loc[row_indexer,col_indexer] = value instead\n",
      "\n",
      "See the caveats in the documentation: https://pandas.pydata.org/pandas-docs/stable/user_guide/indexing.html#returning-a-view-versus-a-copy\n",
      "\n"
     ]
    }
   ],
   "source": [
    "df_5['urban_pop'] = df_5['urban_pop']/1000000"
   ]
  },
  {
   "cell_type": "code",
   "execution_count": 316,
   "id": "4a6d99d9-0862-4576-ba06-f97cf79898ba",
   "metadata": {},
   "outputs": [],
   "source": [
    "fig = go.Figure()"
   ]
  },
  {
   "cell_type": "code",
   "execution_count": 317,
   "id": "436e47cd-5d6d-45b8-a771-18c5bb14638c",
   "metadata": {},
   "outputs": [
    {
     "data": {
      "application/vnd.plotly.v1+json": {
       "config": {
        "plotlyServerURL": "https://plot.ly"
       },
       "data": [
        {
         "marker": {
          "color": [
           2,
           2,
           2,
           2,
           1,
           2,
           0,
           2,
           1,
           1,
           1,
           0,
           0,
           2,
           0,
           2,
           2,
           0,
           0,
           2,
           0,
           0,
           2,
           2,
           2,
           1,
           1,
           0,
           2,
           0,
           0,
           0,
           1,
           0,
           0,
           1,
           0,
           1,
           2,
           0,
           0,
           2,
           2,
           2,
           0,
           2,
           0,
           0,
           2,
           1,
           1,
           0,
           0,
           0,
           0,
           0,
           1,
           2,
           0,
           1,
           1,
           0,
           2,
           2,
           0,
           1,
           1,
           2,
           0,
           2,
           2,
           2,
           0,
           2,
           0,
           0,
           0,
           0,
           2,
           0,
           1,
           2,
           1,
           0,
           2,
           2,
           1,
           1,
           2,
           2,
           2,
           0,
           1,
           2,
           2,
           2,
           0,
           0,
           2,
           0,
           2,
           1,
           0,
           1,
           1,
           1,
           2,
           2,
           0,
           2,
           1,
           0,
           0,
           0,
           0,
           2,
           2,
           0,
           1,
           0,
           1,
           0,
           2,
           1,
           0,
           2,
           2,
           1,
           1,
           0,
           2,
           0,
           1,
           2,
           0,
           2,
           0,
           0,
           0,
           2,
           1,
           1,
           1,
           0,
           0,
           2,
           0,
           2,
           2,
           0,
           0,
           2,
           0,
           2,
           2,
           1,
           2,
           2,
           2,
           2,
           2,
           0,
           1,
           0,
           0,
           0,
           0,
           2,
           1,
           2,
           0,
           1,
           0,
           0,
           2,
           2,
           1,
           0,
           1,
           1,
           2,
           1,
           0,
           2,
           1,
           2,
           0,
           2
          ],
          "colorscale": [
           [
            0,
            "rgb(252, 222, 156)"
           ],
           [
            0.16666666666666666,
            "rgb(250, 164, 118)"
           ],
           [
            0.3333333333333333,
            "rgb(240, 116, 110)"
           ],
           [
            0.5,
            "rgb(227, 79, 111)"
           ],
           [
            0.6666666666666666,
            "rgb(220, 57, 119)"
           ],
           [
            0.8333333333333334,
            "rgb(185, 37, 122)"
           ],
           [
            1,
            "rgb(124, 29, 111)"
           ]
          ],
          "size": 10
         },
         "mode": "markers",
         "name": "Countries",
         "opacity": 0.6,
         "text": [
          "Zimbabwe",
          "Zambia",
          "Yemen, Rep.",
          "West Bank and Gaza",
          "Virgin Islands (U.S.)",
          "Vietnam",
          "Vanuatu",
          "Uzbekistan",
          "Uruguay",
          "United States",
          "United Kingdom",
          "United Arab Emirates",
          "Ukraine",
          "Uganda",
          "Turkmenistan",
          "Turkiye",
          "Tunisia",
          "Trinidad and Tobago",
          "Tonga",
          "Togo",
          "Timor-Leste",
          "Thailand",
          "Tanzania",
          "Tajikistan",
          "Syrian Arab Republic",
          "Switzerland",
          "Sweden",
          "Suriname",
          "Sudan",
          "St. Vincent and the Grenadines",
          "St. Lucia",
          "Sri Lanka",
          "Spain",
          "South Africa",
          "Solomon Islands",
          "Slovenia",
          "Slovak Republic",
          "Singapore",
          "Sierra Leone",
          "Seychelles",
          "Serbia",
          "Senegal",
          "Saudi Arabia",
          "Sao Tome and Principe",
          "Samoa",
          "Rwanda",
          "Russian Federation",
          "Romania",
          "Qatar",
          "Puerto Rico",
          "Portugal",
          "Poland",
          "Philippines",
          "Peru",
          "Paraguay",
          "Papua New Guinea",
          "Panama",
          "Pakistan",
          "Oman",
          "Norway",
          "Northern Mariana Islands",
          "North Macedonia",
          "Nigeria",
          "Niger",
          "Nicaragua",
          "New Zealand",
          "Netherlands",
          "Nepal",
          "Namibia",
          "Myanmar",
          "Mozambique",
          "Morocco",
          "Montenegro",
          "Mongolia",
          "Moldova",
          "Micronesia, Fed. Sts.",
          "Mexico",
          "Mauritius",
          "Mauritania",
          "Marshall Islands",
          "Malta",
          "Mali",
          "Maldives",
          "Malaysia",
          "Malawi",
          "Madagascar",
          "Luxembourg",
          "Lithuania",
          "Libya",
          "Liberia",
          "Lesotho",
          "Lebanon",
          "Latvia",
          "Lao PDR",
          "Kyrgyz Republic",
          "Kuwait",
          "Korea, Rep.",
          "Kiribati",
          "Kenya",
          "Kazakhstan",
          "Jordan",
          "Japan",
          "Jamaica",
          "Italy",
          "Israel",
          "Ireland",
          "Iraq",
          "Iran, Islamic Rep.",
          "Indonesia",
          "India",
          "Iceland",
          "Hungary",
          "Honduras",
          "Haiti",
          "Guyana",
          "Guinea-Bissau",
          "Guinea",
          "Guatemala",
          "Guam",
          "Grenada",
          "Greenland",
          "Greece",
          "Ghana",
          "Germany",
          "Georgia",
          "Gambia, The",
          "Gabon",
          "France",
          "Finland",
          "Fiji",
          "Ethiopia",
          "Eswatini",
          "Estonia",
          "Equatorial Guinea",
          "El Salvador",
          "Egypt, Arab Rep.",
          "Ecuador",
          "Dominican Republic",
          "Dominica",
          "Djibouti",
          "Denmark",
          "Czechia",
          "Cyprus",
          "Cuba",
          "Croatia",
          "Cote d'Ivoire",
          "Costa Rica",
          "Congo, Rep.",
          "Congo, Dem. Rep.",
          "Comoros",
          "Colombia",
          "China",
          "Chile",
          "Chad",
          "Central African Republic",
          "Canada",
          "Cameroon",
          "Cambodia",
          "Cabo Verde",
          "Burundi",
          "Burkina Faso",
          "Bulgaria",
          "Brunei Darussalam",
          "Brazil",
          "Botswana",
          "Bosnia and Herzegovina",
          "Bolivia",
          "Bhutan",
          "Bermuda",
          "Benin",
          "Belize",
          "Belgium",
          "Belarus",
          "Barbados",
          "Bangladesh",
          "Bahrain",
          "Bahamas, The",
          "Azerbaijan",
          "Austria",
          "Australia",
          "Armenia",
          "Argentina",
          "Antigua and Barbuda",
          "Angola",
          "Andorra",
          "Algeria",
          "Albania",
          "Afghanistan"
         ],
         "type": "scatter3d",
         "x": [
          1192.107012,
          1495.752138,
          893.7165729,
          3620.360487,
          35365.0693,
          2992.071742,
          3032.197958,
          1916.764642,
          18769.78752,
          59907.75426,
          40621.33448,
          43063.96748,
          2638.326172,
          766.1776058,
          6354.53283,
          10464.1014,
          3569.755725,
          16094.66678,
          4367.302044,
          814.4199071,
          1283.52585,
          6436.791746,
          976.2122192,
          844.3693648,
          862.3190638,
          82254.37693,
          53791.50873,
          6112.851175,
          3188.75,
          8030.585057,
          11270.47161,
          4401.056075,
          28185.32137,
          6734.475153,
          2283.576156,
          23514.02546,
          17585.197,
          61150.7272,
          484.4464498,
          16416.77619,
          6292.543629,
          1385.199333,
          20138.14633,
          1805.524651,
          4261.653789,
          756.5476411,
          10720.33301,
          10727.94969,
          59407.69805,
          31108.76057,
          21490.42986,
          13815.6218,
          3077.43564,
          6676.284221,
          6136.058301,
          2495.131383,
          15185.97248,
          1567.640986,
          17802.57512,
          75496.75406,
          30751.64107,
          5450.492881,
          1941.879485,
          514.5433128,
          2127.280585,
          42924.9956,
          48675.22234,
          1027.965486,
          5453.570622,
          1175.202557,
          462.7001369,
          3288.502197,
          7803.411137,
          3708.248223,
          3509.64734,
          3320.354976,
          9434.386487,
          10844.03633,
          1634.643606,
          4507.622862,
          28823.52512,
          795.682733,
          10062.98312,
          9979.800841,
          500.1655472,
          503.4980587,
          110193.2138,
          16885.40739,
          10529.26744,
          706.892692,
          1062.712512,
          8679.897422,
          15695.11515,
          2439.463355,
          1242.769643,
          29263.08965,
          31616.8434,
          1563.550457,
          1675.973916,
          9247.581331,
          4073.116404,
          38834.05293,
          5273.150744,
          32406.72032,
          41114.78171,
          69970.94891,
          4725.193573,
          5758.59072,
          3839.785069,
          1957.968841,
          72010.14903,
          14621.2396,
          2403.304451,
          1384.038372,
          6220.978568,
          718.2457991,
          843.4642789,
          4454.04815,
          35663.02504,
          9309.230667,
          50766.59942,
          18582.08934,
          1998.73798,
          44652.58917,
          4357.000936,
          632.0011462,
          6975.695793,
          38781.04949,
          46412.13648,
          5825.129207,
          755.7517677,
          3824.046783,
          20437.76538,
          8410.39725,
          3986.049014,
          2315.896627,
          6246.404252,
          7513.491343,
          7408.091301,
          2655.73322,
          57610.09818,
          20636.19995,
          26697.17188,
          8543.360968,
          13655.81594,
          2076.148,
          12118.13341,
          2088.500117,
          451.0890984,
          1414.586566,
          6450.319585,
          8816.986905,
          15045.52768,
          662.89753,
          414.7402866,
          45129.4293,
          1479.862349,
          1400.89926,
          3132.621798,
          243.1358094,
          711.1846047,
          8366.293221,
          28186.80303,
          9896.684783,
          6705.351862,
          5255.807058,
          3280.008213,
          3240.704766,
          111820.5815,
          1095.274459,
          6100.994681,
          44198.48239,
          5785.670673,
          17843.19793,
          1815.609426,
          24349.90987,
          30969.8762,
          4147.089716,
          47429.15846,
          53936.14025,
          4041.995021,
          14613.04182,
          16110.55628,
          2283.214233,
          40632.48439,
          4134.93672,
          4531.019374,
          530.1498308
         ],
         "y": [
          22.25167109,
          27.43803476,
          50.45600689,
          33.22563038,
          10.26531228,
          29.62672834,
          11.65277703,
          28.4559012,
          9.27488332,
          7.409441662,
          10.47269039,
          40.91750982,
          20.30977582,
          50.49432132,
          21.76772098,
          44.31152568,
          37.65599375,
          24.10856843,
          10.78547886,
          35.73133561,
          19.25720917,
          26.25672656,
          29.07664051,
          46.15218537,
          43.75725947,
          10.3031001,
          6.18466509,
          24.78001054,
          55.37083444,
          22.20051632,
          22.40081712,
          11.09961724,
          9.697927863,
          25.10220499,
          11.87912184,
          16.02397998,
          17.56291134,
          19.0782565,
          21.62594668,
          20.17864936,
          24.72635819,
          40.6958259,
          87.94544668,
          28.53958436,
          11.54802701,
          43.21021716,
          16.16022381,
          14.61134019,
          91.18732793,
          8.349033339,
          8.160752248,
          20.87782222,
          18.06979891,
          24.78672805,
          11.90908085,
          12.29441826,
          11.40005433,
          58.28241877,
          41.11523827,
          6.956519803,
          9.892981129,
          29.72694451,
          71.79817438,
          94.05381768,
          17.61418045,
          5.956001129,
          12.03440807,
          99.73437372,
          25.3587654,
          35.55745292,
          21.29869546,
          32.59354146,
          20.78181355,
          40.11284905,
          16.25103271,
          11.28339944,
          20.92111579,
          14.45782732,
          47.42299178,
          10.24133222,
          13.90954337,
          38.52660616,
          7.795820799,
          16.03580871,
          23.56592147,
          22.54228288,
          10.3646374,
          11.85328236,
          54.25468179,
          17.98411246,
          28.02865352,
          30.62111051,
          13.42645752,
          25.10953834,
          22.73776806,
          60.74515954,
          25.03942539,
          10.64085586,
          28.57837427,
          13.82428836,
          33.00608118,
          11.70477819,
          13.40415053,
          16.75071194,
          21.38110224,
          8.208576735,
          61.63623571,
          38.97876028,
          16.5026533,
          90.87321047,
          6.481147263,
          15.92604819,
          20.62885065,
          15.01982438,
          22.37557463,
          29.77470228,
          26.0624902,
          24.07064893,
          11.63440681,
          22.72268748,
          11.60217946,
          16.21826638,
          34.7135141,
          12.02876736,
          22.19605462,
          33.98263855,
          44.38554846,
          11.81496362,
          5.861331001,
          10.8401599,
          38.97873776,
          17.16878731,
          6.732124015,
          53.24062104,
          24.47229229,
          86.99945205,
          14.88610066,
          13.72632115,
          19.49315376,
          45.5496176,
          10.02965344,
          16.07124535,
          17.2944062,
          19.7060474,
          17.90177229,
          25.88626634,
          15.7259203,
          46.63822028,
          44.9092636,
          20.5468246,
          16.52721022,
          52.66459583,
          21.03629906,
          66.0292055,
          56.82849738,
          6.428383133,
          72.79309622,
          25.61429187,
          34.7787001,
          38.89626795,
          42.93559251,
          19.14913234,
          5.903065468,
          12.70662947,
          23.09438618,
          27.74766896,
          21.5689866,
          37.9265032,
          11.64635919,
          38.99995876,
          23.01189211,
          12.88651847,
          18.76557991,
          23.0801758,
          60.84578458,
          70.81620768,
          17.36772049,
          19.92866362,
          12.47796673,
          8.550324401,
          32.52811834,
          13.31183395,
          18.62234285,
          32.38850491,
          10.30762139,
          38.8840107,
          18.20060252,
          56.91080835
         ],
         "z": [
          4.755312,
          7.434012,
          10.817186,
          3.38093,
          0.102564,
          33.111857,
          0.073033,
          16.372437,
          3.259303,
          266.788716,
          54.923317,
          7.821224,
          31.043768,
          9.307879,
          3.053007,
          61.27513,
          8.107611,
          0.786693,
          0.024424,
          3.232367,
          0.375606,
          34.881915,
          18.597942,
          2.408285,
          10.156105,
          6.234162,
          8.764881,
          0.38803,
          13.981657,
          0.054657,
          0.032974,
          3.942265,
          37.311863,
          37.298236,
          0.149877,
          1.121491,
          2.923642,
          5.612253,
          3.196631,
          0.053922,
          3.927608,
          7.084752,
          28.592972,
          0.149719,
          0.038312,
          2.094446,
          107.349517,
          10.565369,
          2.686753,
          3.112035,
          6.65935,
          22.824769,
          49.827667,
          24.563784,
          3.895863,
          1.194221,
          2.759313,
          78.853074,
          3.795173,
          4.320306,
          0.046432,
          1.197983,
          95.817238,
          3.55415,
          3.778085,
          4.162127,
          15.60267,
          5.449547,
          1.15874,
          15.854871,
          10.129295,
          21.994745,
          0.413735,
          2.116539,
          1.172526,
          0.024966,
          98.10803,
          0.516481,
          2.197486,
          0.036161,
          0.442474,
          8.028117,
          0.186048,
          24.124786,
          2.988658,
          9.55764,
          0.541038,
          1.909625,
          5.090937,
          2.431748,
          0.601912,
          5.40235,
          1.322185,
          2.405044,
          2.23972,
          4.124904,
          41.861498,
          0.064107,
          13.001604,
          10.342139,
          9.270152,
          116.22382,
          1.555222,
          42.462869,
          8.045513,
          3.026107,
          27.84496,
          62.866706,
          144.572428,
          455.009748,
          0.322016,
          6.955524,
          5.435026,
          5.903901,
          0.202552,
          0.807291,
          4.381346,
          8.153103,
          0.159668,
          0.04373,
          0.048629,
          8.466513,
          16.745249,
          63.861626,
          2.170854,
          1.442972,
          1.904278,
          53.654868,
          4.699884,
          0.51228,
          21.975004,
          0.272016,
          0.905267,
          1.039364,
          4.466558,
          43.469157,
          10.630944,
          8.547288,
          0.04941,
          0.80772,
          5.059173,
          7.805452,
          0.807728,
          8.726424,
          2.337248,
          12.505013,
          3.923162,
          3.530528,
          36.9835,
          0.219237,
          38.896985,
          809.246214,
          16.070668,
          3.448331,
          2.047664,
          29.729549,
          13.605785,
          3.637892,
          0.368695,
          1.41743,
          5.701421,
          5.283539,
          0.332655,
          179.958546,
          1.650064,
          1.646947,
          7.899666,
          0.303711,
          0.063873,
          5.423582,
          0.170864,
          11.143219,
          7.390686,
          0.086992,
          58.01608,
          1.299292,
          0.330887,
          5.453517,
          5.110858,
          21.127403,
          1.799649,
          40.410674,
          0.022518,
          19.586972,
          0.065087,
          29.639704,
          1.706345,
          8.999963
         ]
        }
       ],
       "layout": {
        "autosize": true,
        "font": {
         "color": "black",
         "family": "Gilroy",
         "size": 12
        },
        "height": 750,
        "margin": {
         "b": 0,
         "l": 0,
         "r": 0,
         "t": 0
        },
        "scene": {
         "aspectmode": "auto",
         "aspectratio": {
          "x": 1,
          "y": 1,
          "z": 1
         },
         "camera": {
          "center": {
           "x": 0,
           "y": 0,
           "z": 0
          },
          "eye": {
           "x": 2.0356694216590583,
           "y": 4.666669485232149,
           "z": 0.6814914914458344
          },
          "projection": {
           "type": "perspective"
          },
          "up": {
           "x": 0,
           "y": 0,
           "z": 1
          }
         },
         "xaxis": {
          "title": {
           "text": "GDP Per Capita"
          },
          "type": "linear"
         },
         "yaxis": {
          "title": {
           "text": "PM2.5 Concetrations"
          },
          "type": "linear"
         },
         "zaxis": {
          "title": {
           "text": "Urban Population in Millions"
          },
          "type": "linear"
         }
        },
        "showlegend": true,
        "template": {
         "data": {
          "bar": [
           {
            "error_x": {
             "color": "#2a3f5f"
            },
            "error_y": {
             "color": "#2a3f5f"
            },
            "marker": {
             "line": {
              "color": "white",
              "width": 0.5
             },
             "pattern": {
              "fillmode": "overlay",
              "size": 10,
              "solidity": 0.2
             }
            },
            "type": "bar"
           }
          ],
          "barpolar": [
           {
            "marker": {
             "line": {
              "color": "white",
              "width": 0.5
             },
             "pattern": {
              "fillmode": "overlay",
              "size": 10,
              "solidity": 0.2
             }
            },
            "type": "barpolar"
           }
          ],
          "carpet": [
           {
            "aaxis": {
             "endlinecolor": "#2a3f5f",
             "gridcolor": "#C8D4E3",
             "linecolor": "#C8D4E3",
             "minorgridcolor": "#C8D4E3",
             "startlinecolor": "#2a3f5f"
            },
            "baxis": {
             "endlinecolor": "#2a3f5f",
             "gridcolor": "#C8D4E3",
             "linecolor": "#C8D4E3",
             "minorgridcolor": "#C8D4E3",
             "startlinecolor": "#2a3f5f"
            },
            "type": "carpet"
           }
          ],
          "choropleth": [
           {
            "colorbar": {
             "outlinewidth": 0,
             "ticks": ""
            },
            "type": "choropleth"
           }
          ],
          "contour": [
           {
            "colorbar": {
             "outlinewidth": 0,
             "ticks": ""
            },
            "colorscale": [
             [
              0,
              "#0d0887"
             ],
             [
              0.1111111111111111,
              "#46039f"
             ],
             [
              0.2222222222222222,
              "#7201a8"
             ],
             [
              0.3333333333333333,
              "#9c179e"
             ],
             [
              0.4444444444444444,
              "#bd3786"
             ],
             [
              0.5555555555555556,
              "#d8576b"
             ],
             [
              0.6666666666666666,
              "#ed7953"
             ],
             [
              0.7777777777777778,
              "#fb9f3a"
             ],
             [
              0.8888888888888888,
              "#fdca26"
             ],
             [
              1,
              "#f0f921"
             ]
            ],
            "type": "contour"
           }
          ],
          "contourcarpet": [
           {
            "colorbar": {
             "outlinewidth": 0,
             "ticks": ""
            },
            "type": "contourcarpet"
           }
          ],
          "heatmap": [
           {
            "colorbar": {
             "outlinewidth": 0,
             "ticks": ""
            },
            "colorscale": [
             [
              0,
              "#0d0887"
             ],
             [
              0.1111111111111111,
              "#46039f"
             ],
             [
              0.2222222222222222,
              "#7201a8"
             ],
             [
              0.3333333333333333,
              "#9c179e"
             ],
             [
              0.4444444444444444,
              "#bd3786"
             ],
             [
              0.5555555555555556,
              "#d8576b"
             ],
             [
              0.6666666666666666,
              "#ed7953"
             ],
             [
              0.7777777777777778,
              "#fb9f3a"
             ],
             [
              0.8888888888888888,
              "#fdca26"
             ],
             [
              1,
              "#f0f921"
             ]
            ],
            "type": "heatmap"
           }
          ],
          "heatmapgl": [
           {
            "colorbar": {
             "outlinewidth": 0,
             "ticks": ""
            },
            "colorscale": [
             [
              0,
              "#0d0887"
             ],
             [
              0.1111111111111111,
              "#46039f"
             ],
             [
              0.2222222222222222,
              "#7201a8"
             ],
             [
              0.3333333333333333,
              "#9c179e"
             ],
             [
              0.4444444444444444,
              "#bd3786"
             ],
             [
              0.5555555555555556,
              "#d8576b"
             ],
             [
              0.6666666666666666,
              "#ed7953"
             ],
             [
              0.7777777777777778,
              "#fb9f3a"
             ],
             [
              0.8888888888888888,
              "#fdca26"
             ],
             [
              1,
              "#f0f921"
             ]
            ],
            "type": "heatmapgl"
           }
          ],
          "histogram": [
           {
            "marker": {
             "pattern": {
              "fillmode": "overlay",
              "size": 10,
              "solidity": 0.2
             }
            },
            "type": "histogram"
           }
          ],
          "histogram2d": [
           {
            "colorbar": {
             "outlinewidth": 0,
             "ticks": ""
            },
            "colorscale": [
             [
              0,
              "#0d0887"
             ],
             [
              0.1111111111111111,
              "#46039f"
             ],
             [
              0.2222222222222222,
              "#7201a8"
             ],
             [
              0.3333333333333333,
              "#9c179e"
             ],
             [
              0.4444444444444444,
              "#bd3786"
             ],
             [
              0.5555555555555556,
              "#d8576b"
             ],
             [
              0.6666666666666666,
              "#ed7953"
             ],
             [
              0.7777777777777778,
              "#fb9f3a"
             ],
             [
              0.8888888888888888,
              "#fdca26"
             ],
             [
              1,
              "#f0f921"
             ]
            ],
            "type": "histogram2d"
           }
          ],
          "histogram2dcontour": [
           {
            "colorbar": {
             "outlinewidth": 0,
             "ticks": ""
            },
            "colorscale": [
             [
              0,
              "#0d0887"
             ],
             [
              0.1111111111111111,
              "#46039f"
             ],
             [
              0.2222222222222222,
              "#7201a8"
             ],
             [
              0.3333333333333333,
              "#9c179e"
             ],
             [
              0.4444444444444444,
              "#bd3786"
             ],
             [
              0.5555555555555556,
              "#d8576b"
             ],
             [
              0.6666666666666666,
              "#ed7953"
             ],
             [
              0.7777777777777778,
              "#fb9f3a"
             ],
             [
              0.8888888888888888,
              "#fdca26"
             ],
             [
              1,
              "#f0f921"
             ]
            ],
            "type": "histogram2dcontour"
           }
          ],
          "mesh3d": [
           {
            "colorbar": {
             "outlinewidth": 0,
             "ticks": ""
            },
            "type": "mesh3d"
           }
          ],
          "parcoords": [
           {
            "line": {
             "colorbar": {
              "outlinewidth": 0,
              "ticks": ""
             }
            },
            "type": "parcoords"
           }
          ],
          "pie": [
           {
            "automargin": true,
            "type": "pie"
           }
          ],
          "scatter": [
           {
            "fillpattern": {
             "fillmode": "overlay",
             "size": 10,
             "solidity": 0.2
            },
            "type": "scatter"
           }
          ],
          "scatter3d": [
           {
            "line": {
             "colorbar": {
              "outlinewidth": 0,
              "ticks": ""
             }
            },
            "marker": {
             "colorbar": {
              "outlinewidth": 0,
              "ticks": ""
             }
            },
            "type": "scatter3d"
           }
          ],
          "scattercarpet": [
           {
            "marker": {
             "colorbar": {
              "outlinewidth": 0,
              "ticks": ""
             }
            },
            "type": "scattercarpet"
           }
          ],
          "scattergeo": [
           {
            "marker": {
             "colorbar": {
              "outlinewidth": 0,
              "ticks": ""
             }
            },
            "type": "scattergeo"
           }
          ],
          "scattergl": [
           {
            "marker": {
             "colorbar": {
              "outlinewidth": 0,
              "ticks": ""
             }
            },
            "type": "scattergl"
           }
          ],
          "scattermapbox": [
           {
            "marker": {
             "colorbar": {
              "outlinewidth": 0,
              "ticks": ""
             }
            },
            "type": "scattermapbox"
           }
          ],
          "scatterpolar": [
           {
            "marker": {
             "colorbar": {
              "outlinewidth": 0,
              "ticks": ""
             }
            },
            "type": "scatterpolar"
           }
          ],
          "scatterpolargl": [
           {
            "marker": {
             "colorbar": {
              "outlinewidth": 0,
              "ticks": ""
             }
            },
            "type": "scatterpolargl"
           }
          ],
          "scatterternary": [
           {
            "marker": {
             "colorbar": {
              "outlinewidth": 0,
              "ticks": ""
             }
            },
            "type": "scatterternary"
           }
          ],
          "surface": [
           {
            "colorbar": {
             "outlinewidth": 0,
             "ticks": ""
            },
            "colorscale": [
             [
              0,
              "#0d0887"
             ],
             [
              0.1111111111111111,
              "#46039f"
             ],
             [
              0.2222222222222222,
              "#7201a8"
             ],
             [
              0.3333333333333333,
              "#9c179e"
             ],
             [
              0.4444444444444444,
              "#bd3786"
             ],
             [
              0.5555555555555556,
              "#d8576b"
             ],
             [
              0.6666666666666666,
              "#ed7953"
             ],
             [
              0.7777777777777778,
              "#fb9f3a"
             ],
             [
              0.8888888888888888,
              "#fdca26"
             ],
             [
              1,
              "#f0f921"
             ]
            ],
            "type": "surface"
           }
          ],
          "table": [
           {
            "cells": {
             "fill": {
              "color": "#EBF0F8"
             },
             "line": {
              "color": "white"
             }
            },
            "header": {
             "fill": {
              "color": "#C8D4E3"
             },
             "line": {
              "color": "white"
             }
            },
            "type": "table"
           }
          ]
         },
         "layout": {
          "annotationdefaults": {
           "arrowcolor": "#2a3f5f",
           "arrowhead": 0,
           "arrowwidth": 1
          },
          "autotypenumbers": "strict",
          "coloraxis": {
           "colorbar": {
            "outlinewidth": 0,
            "ticks": ""
           }
          },
          "colorscale": {
           "diverging": [
            [
             0,
             "#8e0152"
            ],
            [
             0.1,
             "#c51b7d"
            ],
            [
             0.2,
             "#de77ae"
            ],
            [
             0.3,
             "#f1b6da"
            ],
            [
             0.4,
             "#fde0ef"
            ],
            [
             0.5,
             "#f7f7f7"
            ],
            [
             0.6,
             "#e6f5d0"
            ],
            [
             0.7,
             "#b8e186"
            ],
            [
             0.8,
             "#7fbc41"
            ],
            [
             0.9,
             "#4d9221"
            ],
            [
             1,
             "#276419"
            ]
           ],
           "sequential": [
            [
             0,
             "#0d0887"
            ],
            [
             0.1111111111111111,
             "#46039f"
            ],
            [
             0.2222222222222222,
             "#7201a8"
            ],
            [
             0.3333333333333333,
             "#9c179e"
            ],
            [
             0.4444444444444444,
             "#bd3786"
            ],
            [
             0.5555555555555556,
             "#d8576b"
            ],
            [
             0.6666666666666666,
             "#ed7953"
            ],
            [
             0.7777777777777778,
             "#fb9f3a"
            ],
            [
             0.8888888888888888,
             "#fdca26"
            ],
            [
             1,
             "#f0f921"
            ]
           ],
           "sequentialminus": [
            [
             0,
             "#0d0887"
            ],
            [
             0.1111111111111111,
             "#46039f"
            ],
            [
             0.2222222222222222,
             "#7201a8"
            ],
            [
             0.3333333333333333,
             "#9c179e"
            ],
            [
             0.4444444444444444,
             "#bd3786"
            ],
            [
             0.5555555555555556,
             "#d8576b"
            ],
            [
             0.6666666666666666,
             "#ed7953"
            ],
            [
             0.7777777777777778,
             "#fb9f3a"
            ],
            [
             0.8888888888888888,
             "#fdca26"
            ],
            [
             1,
             "#f0f921"
            ]
           ]
          },
          "colorway": [
           "#636efa",
           "#EF553B",
           "#00cc96",
           "#ab63fa",
           "#FFA15A",
           "#19d3f3",
           "#FF6692",
           "#B6E880",
           "#FF97FF",
           "#FECB52"
          ],
          "font": {
           "color": "#2a3f5f"
          },
          "geo": {
           "bgcolor": "white",
           "lakecolor": "white",
           "landcolor": "white",
           "showlakes": true,
           "showland": true,
           "subunitcolor": "#C8D4E3"
          },
          "hoverlabel": {
           "align": "left"
          },
          "hovermode": "closest",
          "mapbox": {
           "style": "light"
          },
          "paper_bgcolor": "white",
          "plot_bgcolor": "white",
          "polar": {
           "angularaxis": {
            "gridcolor": "#EBF0F8",
            "linecolor": "#EBF0F8",
            "ticks": ""
           },
           "bgcolor": "white",
           "radialaxis": {
            "gridcolor": "#EBF0F8",
            "linecolor": "#EBF0F8",
            "ticks": ""
           }
          },
          "scene": {
           "xaxis": {
            "backgroundcolor": "white",
            "gridcolor": "#DFE8F3",
            "gridwidth": 2,
            "linecolor": "#EBF0F8",
            "showbackground": true,
            "ticks": "",
            "zerolinecolor": "#EBF0F8"
           },
           "yaxis": {
            "backgroundcolor": "white",
            "gridcolor": "#DFE8F3",
            "gridwidth": 2,
            "linecolor": "#EBF0F8",
            "showbackground": true,
            "ticks": "",
            "zerolinecolor": "#EBF0F8"
           },
           "zaxis": {
            "backgroundcolor": "white",
            "gridcolor": "#DFE8F3",
            "gridwidth": 2,
            "linecolor": "#EBF0F8",
            "showbackground": true,
            "ticks": "",
            "zerolinecolor": "#EBF0F8"
           }
          },
          "shapedefaults": {
           "line": {
            "color": "#2a3f5f"
           }
          },
          "ternary": {
           "aaxis": {
            "gridcolor": "#DFE8F3",
            "linecolor": "#A2B1C6",
            "ticks": ""
           },
           "baxis": {
            "gridcolor": "#DFE8F3",
            "linecolor": "#A2B1C6",
            "ticks": ""
           },
           "bgcolor": "white",
           "caxis": {
            "gridcolor": "#DFE8F3",
            "linecolor": "#A2B1C6",
            "ticks": ""
           }
          },
          "title": {
           "x": 0.05
          },
          "xaxis": {
           "automargin": true,
           "gridcolor": "#EBF0F8",
           "linecolor": "#EBF0F8",
           "ticks": "",
           "title": {
            "standoff": 15
           },
           "zerolinecolor": "#EBF0F8",
           "zerolinewidth": 2
          },
          "yaxis": {
           "automargin": true,
           "gridcolor": "#EBF0F8",
           "linecolor": "#EBF0F8",
           "ticks": "",
           "title": {
            "standoff": 15
           },
           "zerolinecolor": "#EBF0F8",
           "zerolinewidth": 2
          }
         }
        },
        "title": {
         "text": "K-Means Clustering",
         "x": 0.5,
         "y": 0.9
        },
        "width": 750
       }
      },
      "image/png": "[encoded data removed]",
      "text/html": [
       "<div>                            <div id=\"2fc4dd90-145f-42fc-a9a7-aaa4edf461c3\" class=\"plotly-graph-div\" style=\"height:750px; width:750px;\"></div>            <script type=\"text/javascript\">                require([\"plotly\"], function(Plotly) {                    window.PLOTLYENV=window.PLOTLYENV || {};                                    if (document.getElementById(\"2fc4dd90-145f-42fc-a9a7-aaa4edf461c3\")) {                    Plotly.newPlot(                        \"2fc4dd90-145f-42fc-a9a7-aaa4edf461c3\",                        [{\"marker\":{\"color\":[2,2,2,2,1,2,0,2,1,1,1,0,0,2,0,2,2,0,0,2,0,0,2,2,2,1,1,0,2,0,0,0,1,0,0,1,0,1,2,0,0,2,2,2,0,2,0,0,2,1,1,0,0,0,0,0,1,2,0,1,1,0,2,2,0,1,1,2,0,2,2,2,0,2,0,0,0,0,2,0,1,2,1,0,2,2,1,1,2,2,2,0,1,2,2,2,0,0,2,0,2,1,0,1,1,1,2,2,0,2,1,0,0,0,0,2,2,0,1,0,1,0,2,1,0,2,2,1,1,0,2,0,1,2,0,2,0,0,0,2,1,1,1,0,0,2,0,2,2,0,0,2,0,2,2,1,2,2,2,2,2,0,1,0,0,0,0,2,1,2,0,1,0,0,2,2,1,0,1,1,2,1,0,2,1,2,0,2],\"colorscale\":[[0.0,\"rgb(252, 222, 156)\"],[0.16666666666666666,\"rgb(250, 164, 118)\"],[0.3333333333333333,\"rgb(240, 116, 110)\"],[0.5,\"rgb(227, 79, 111)\"],[0.6666666666666666,\"rgb(220, 57, 119)\"],[0.8333333333333334,\"rgb(185, 37, 122)\"],[1.0,\"rgb(124, 29, 111)\"]],\"size\":10},\"mode\":\"markers\",\"name\":\"Countries\",\"opacity\":0.6,\"text\":[\"Zimbabwe\",\"Zambia\",\"Yemen, Rep.\",\"West Bank and Gaza\",\"Virgin Islands (U.S.)\",\"Vietnam\",\"Vanuatu\",\"Uzbekistan\",\"Uruguay\",\"United States\",\"United Kingdom\",\"United Arab Emirates\",\"Ukraine\",\"Uganda\",\"Turkmenistan\",\"Turkiye\",\"Tunisia\",\"Trinidad and Tobago\",\"Tonga\",\"Togo\",\"Timor-Leste\",\"Thailand\",\"Tanzania\",\"Tajikistan\",\"Syrian Arab Republic\",\"Switzerland\",\"Sweden\",\"Suriname\",\"Sudan\",\"St. Vincent and the Grenadines\",\"St. Lucia\",\"Sri Lanka\",\"Spain\",\"South Africa\",\"Solomon Islands\",\"Slovenia\",\"Slovak Republic\",\"Singapore\",\"Sierra Leone\",\"Seychelles\",\"Serbia\",\"Senegal\",\"Saudi Arabia\",\"Sao Tome and Principe\",\"Samoa\",\"Rwanda\",\"Russian Federation\",\"Romania\",\"Qatar\",\"Puerto Rico\",\"Portugal\",\"Poland\",\"Philippines\",\"Peru\",\"Paraguay\",\"Papua New Guinea\",\"Panama\",\"Pakistan\",\"Oman\",\"Norway\",\"Northern Mariana Islands\",\"North Macedonia\",\"Nigeria\",\"Niger\",\"Nicaragua\",\"New Zealand\",\"Netherlands\",\"Nepal\",\"Namibia\",\"Myanmar\",\"Mozambique\",\"Morocco\",\"Montenegro\",\"Mongolia\",\"Moldova\",\"Micronesia, Fed. Sts.\",\"Mexico\",\"Mauritius\",\"Mauritania\",\"Marshall Islands\",\"Malta\",\"Mali\",\"Maldives\",\"Malaysia\",\"Malawi\",\"Madagascar\",\"Luxembourg\",\"Lithuania\",\"Libya\",\"Liberia\",\"Lesotho\",\"Lebanon\",\"Latvia\",\"Lao PDR\",\"Kyrgyz Republic\",\"Kuwait\",\"Korea, Rep.\",\"Kiribati\",\"Kenya\",\"Kazakhstan\",\"Jordan\",\"Japan\",\"Jamaica\",\"Italy\",\"Israel\",\"Ireland\",\"Iraq\",\"Iran, Islamic Rep.\",\"Indonesia\",\"India\",\"Iceland\",\"Hungary\",\"Honduras\",\"Haiti\",\"Guyana\",\"Guinea-Bissau\",\"Guinea\",\"Guatemala\",\"Guam\",\"Grenada\",\"Greenland\",\"Greece\",\"Ghana\",\"Germany\",\"Georgia\",\"Gambia, The\",\"Gabon\",\"France\",\"Finland\",\"Fiji\",\"Ethiopia\",\"Eswatini\",\"Estonia\",\"Equatorial Guinea\",\"El Salvador\",\"Egypt, Arab Rep.\",\"Ecuador\",\"Dominican Republic\",\"Dominica\",\"Djibouti\",\"Denmark\",\"Czechia\",\"Cyprus\",\"Cuba\",\"Croatia\",\"Cote d'Ivoire\",\"Costa Rica\",\"Congo, Rep.\",\"Congo, Dem. Rep.\",\"Comoros\",\"Colombia\",\"China\",\"Chile\",\"Chad\",\"Central African Republic\",\"Canada\",\"Cameroon\",\"Cambodia\",\"Cabo Verde\",\"Burundi\",\"Burkina Faso\",\"Bulgaria\",\"Brunei Darussalam\",\"Brazil\",\"Botswana\",\"Bosnia and Herzegovina\",\"Bolivia\",\"Bhutan\",\"Bermuda\",\"Benin\",\"Belize\",\"Belgium\",\"Belarus\",\"Barbados\",\"Bangladesh\",\"Bahrain\",\"Bahamas, The\",\"Azerbaijan\",\"Austria\",\"Australia\",\"Armenia\",\"Argentina\",\"Antigua and Barbuda\",\"Angola\",\"Andorra\",\"Algeria\",\"Albania\",\"Afghanistan\"],\"x\":[1192.107012,1495.752138,893.7165729,3620.360487,35365.0693,2992.071742,3032.197958,1916.764642,18769.78752,59907.75426,40621.33448,43063.96748,2638.326172,766.1776058,6354.53283,10464.1014,3569.755725,16094.66678,4367.302044,814.4199071,1283.52585,6436.791746,976.2122192,844.3693648,862.3190638,82254.37693,53791.50873,6112.851175,3188.75,8030.585057,11270.47161,4401.056075,28185.32137,6734.475153,2283.576156,23514.02546,17585.197,61150.7272,484.4464498,16416.77619,6292.543629,1385.199333,20138.14633,1805.524651,4261.653789,756.5476411,10720.33301,10727.94969,59407.69805,31108.76057,21490.42986,13815.6218,3077.43564,6676.284221,6136.058301,2495.131383,15185.97248,1567.640986,17802.57512,75496.75406,30751.64107,5450.492881,1941.879485,514.5433128,2127.280585,42924.9956,48675.22234,1027.965486,5453.570622,1175.202557,462.7001369,3288.502197,7803.411137,3708.248223,3509.64734,3320.354976,9434.386487,10844.03633,1634.643606,4507.622862,28823.52512,795.682733,10062.98312,9979.800841,500.1655472,503.4980587,110193.2138,16885.40739,10529.26744,706.892692,1062.712512,8679.897422,15695.11515,2439.463355,1242.769643,29263.08965,31616.8434,1563.550457,1675.973916,9247.581331,4073.116404,38834.05293,5273.150744,32406.72032,41114.78171,69970.94891,4725.193573,5758.59072,3839.785069,1957.968841,72010.14903,14621.2396,2403.304451,1384.038372,6220.978568,718.2457991,843.4642789,4454.04815,35663.02504,9309.230667,50766.59942,18582.08934,1998.73798,44652.58917,4357.000936,632.0011462,6975.695793,38781.04949,46412.13648,5825.129207,755.7517677,3824.046783,20437.76538,8410.39725,3986.049014,2315.896627,6246.404252,7513.491343,7408.091301,2655.73322,57610.09818,20636.19995,26697.17188,8543.360968,13655.81594,2076.148,12118.13341,2088.500117,451.0890984,1414.586566,6450.319585,8816.986905,15045.52768,662.89753,414.7402866,45129.4293,1479.862349,1400.89926,3132.621798,243.1358094,711.1846047,8366.293221,28186.80303,9896.684783,6705.351862,5255.807058,3280.008213,3240.704766,111820.5815,1095.274459,6100.994681,44198.48239,5785.670673,17843.19793,1815.609426,24349.90987,30969.8762,4147.089716,47429.15846,53936.14025,4041.995021,14613.04182,16110.55628,2283.214233,40632.48439,4134.93672,4531.019374,530.1498308],\"y\":[22.25167109,27.43803476,50.45600689,33.22563038,10.26531228,29.62672834,11.65277703,28.4559012,9.27488332,7.409441662,10.47269039,40.91750982,20.30977582,50.49432132,21.76772098,44.31152568,37.65599375,24.10856843,10.78547886,35.73133561,19.25720917,26.25672656,29.07664051,46.15218537,43.75725947,10.3031001,6.18466509,24.78001054,55.37083444,22.20051632,22.40081712,11.09961724,9.697927863,25.10220499,11.87912184,16.02397998,17.56291134,19.0782565,21.62594668,20.17864936,24.72635819,40.6958259,87.94544668,28.53958436,11.54802701,43.21021716,16.16022381,14.61134019,91.18732793,8.349033339,8.160752248,20.87782222,18.06979891,24.78672805,11.90908085,12.29441826,11.40005433,58.28241877,41.11523827,6.956519803,9.892981129,29.72694451,71.79817438,94.05381768,17.61418045,5.956001129,12.03440807,99.73437372,25.3587654,35.55745292,21.29869546,32.59354146,20.78181355,40.11284905,16.25103271,11.28339944,20.92111579,14.45782732,47.42299178,10.24133222,13.90954337,38.52660616,7.795820799,16.03580871,23.56592147,22.54228288,10.3646374,11.85328236,54.25468179,17.98411246,28.02865352,30.62111051,13.42645752,25.10953834,22.73776806,60.74515954,25.03942539,10.64085586,28.57837427,13.82428836,33.00608118,11.70477819,13.40415053,16.75071194,21.38110224,8.208576735,61.63623571,38.97876028,16.5026533,90.87321047,6.481147263,15.92604819,20.62885065,15.01982438,22.37557463,29.77470228,26.0624902,24.07064893,11.63440681,22.72268748,11.60217946,16.21826638,34.7135141,12.02876736,22.19605462,33.98263855,44.38554846,11.81496362,5.861331001,10.8401599,38.97873776,17.16878731,6.732124015,53.24062104,24.47229229,86.99945205,14.88610066,13.72632115,19.49315376,45.5496176,10.02965344,16.07124535,17.2944062,19.7060474,17.90177229,25.88626634,15.7259203,46.63822028,44.9092636,20.5468246,16.52721022,52.66459583,21.03629906,66.0292055,56.82849738,6.428383133,72.79309622,25.61429187,34.7787001,38.89626795,42.93559251,19.14913234,5.903065468,12.70662947,23.09438618,27.74766896,21.5689866,37.9265032,11.64635919,38.99995876,23.01189211,12.88651847,18.76557991,23.0801758,60.84578458,70.81620768,17.36772049,19.92866362,12.47796673,8.550324401,32.52811834,13.31183395,18.62234285,32.38850491,10.30762139,38.8840107,18.20060252,56.91080835],\"z\":[4.755312,7.434012,10.817186,3.38093,0.102564,33.111857,0.073033,16.372437,3.259303,266.788716,54.923317,7.821224,31.043768,9.307879,3.053007,61.27513,8.107611,0.786693,0.024424,3.232367,0.375606,34.881915,18.597942,2.408285,10.156105,6.234162,8.764881,0.38803,13.981657,0.054657,0.032974,3.942265,37.311863,37.298236,0.149877,1.121491,2.923642,5.612253,3.196631,0.053922,3.927608,7.084752,28.592972,0.149719,0.038312,2.094446,107.349517,10.565369,2.686753,3.112035,6.65935,22.824769,49.827667,24.563784,3.895863,1.194221,2.759313,78.853074,3.795173,4.320306,0.046432,1.197983,95.817238,3.55415,3.778085,4.162127,15.60267,5.449547,1.15874,15.854871,10.129295,21.994745,0.413735,2.116539,1.172526,0.024966,98.10803,0.516481,2.197486,0.036161,0.442474,8.028117,0.186048,24.124786,2.988658,9.55764,0.541038,1.909625,5.090937,2.431748,0.601912,5.40235,1.322185,2.405044,2.23972,4.124904,41.861498,0.064107,13.001604,10.342139,9.270152,116.22382,1.555222,42.462869,8.045513,3.026107,27.84496,62.866706,144.572428,455.009748,0.322016,6.955524,5.435026,5.903901,0.202552,0.807291,4.381346,8.153103,0.159668,0.04373,0.048629,8.466513,16.745249,63.861626,2.170854,1.442972,1.904278,53.654868,4.699884,0.51228,21.975004,0.272016,0.905267,1.039364,4.466558,43.469157,10.630944,8.547288,0.04941,0.80772,5.059173,7.805452,0.807728,8.726424,2.337248,12.505013,3.923162,3.530528,36.9835,0.219237,38.896985,809.246214,16.070668,3.448331,2.047664,29.729549,13.605785,3.637892,0.368695,1.41743,5.701421,5.283539,0.332655,179.958546,1.650064,1.646947,7.899666,0.303711,0.063873,5.423582,0.170864,11.143219,7.390686,0.086992,58.01608,1.299292,0.330887,5.453517,5.110858,21.127403,1.799649,40.410674,0.022518,19.586972,0.065087,29.639704,1.706345,8.999963],\"type\":\"scatter3d\"}],                        {\"template\":{\"data\":{\"barpolar\":[{\"marker\":{\"line\":{\"color\":\"white\",\"width\":0.5},\"pattern\":{\"fillmode\":\"overlay\",\"size\":10,\"solidity\":0.2}},\"type\":\"barpolar\"}],\"bar\":[{\"error_x\":{\"color\":\"#2a3f5f\"},\"error_y\":{\"color\":\"#2a3f5f\"},\"marker\":{\"line\":{\"color\":\"white\",\"width\":0.5},\"pattern\":{\"fillmode\":\"overlay\",\"size\":10,\"solidity\":0.2}},\"type\":\"bar\"}],\"carpet\":[{\"aaxis\":{\"endlinecolor\":\"#2a3f5f\",\"gridcolor\":\"#C8D4E3\",\"linecolor\":\"#C8D4E3\",\"minorgridcolor\":\"#C8D4E3\",\"startlinecolor\":\"#2a3f5f\"},\"baxis\":{\"endlinecolor\":\"#2a3f5f\",\"gridcolor\":\"#C8D4E3\",\"linecolor\":\"#C8D4E3\",\"minorgridcolor\":\"#C8D4E3\",\"startlinecolor\":\"#2a3f5f\"},\"type\":\"carpet\"}],\"choropleth\":[{\"colorbar\":{\"outlinewidth\":0,\"ticks\":\"\"},\"type\":\"choropleth\"}],\"contourcarpet\":[{\"colorbar\":{\"outlinewidth\":0,\"ticks\":\"\"},\"type\":\"contourcarpet\"}],\"contour\":[{\"colorbar\":{\"outlinewidth\":0,\"ticks\":\"\"},\"colorscale\":[[0.0,\"#0d0887\"],[0.1111111111111111,\"#46039f\"],[0.2222222222222222,\"#7201a8\"],[0.3333333333333333,\"#9c179e\"],[0.4444444444444444,\"#bd3786\"],[0.5555555555555556,\"#d8576b\"],[0.6666666666666666,\"#ed7953\"],[0.7777777777777778,\"#fb9f3a\"],[0.8888888888888888,\"#fdca26\"],[1.0,\"#f0f921\"]],\"type\":\"contour\"}],\"heatmapgl\":[{\"colorbar\":{\"outlinewidth\":0,\"ticks\":\"\"},\"colorscale\":[[0.0,\"#0d0887\"],[0.1111111111111111,\"#46039f\"],[0.2222222222222222,\"#7201a8\"],[0.3333333333333333,\"#9c179e\"],[0.4444444444444444,\"#bd3786\"],[0.5555555555555556,\"#d8576b\"],[0.6666666666666666,\"#ed7953\"],[0.7777777777777778,\"#fb9f3a\"],[0.8888888888888888,\"#fdca26\"],[1.0,\"#f0f921\"]],\"type\":\"heatmapgl\"}],\"heatmap\":[{\"colorbar\":{\"outlinewidth\":0,\"ticks\":\"\"},\"colorscale\":[[0.0,\"#0d0887\"],[0.1111111111111111,\"#46039f\"],[0.2222222222222222,\"#7201a8\"],[0.3333333333333333,\"#9c179e\"],[0.4444444444444444,\"#bd3786\"],[0.5555555555555556,\"#d8576b\"],[0.6666666666666666,\"#ed7953\"],[0.7777777777777778,\"#fb9f3a\"],[0.8888888888888888,\"#fdca26\"],[1.0,\"#f0f921\"]],\"type\":\"heatmap\"}],\"histogram2dcontour\":[{\"colorbar\":{\"outlinewidth\":0,\"ticks\":\"\"},\"colorscale\":[[0.0,\"#0d0887\"],[0.1111111111111111,\"#46039f\"],[0.2222222222222222,\"#7201a8\"],[0.3333333333333333,\"#9c179e\"],[0.4444444444444444,\"#bd3786\"],[0.5555555555555556,\"#d8576b\"],[0.6666666666666666,\"#ed7953\"],[0.7777777777777778,\"#fb9f3a\"],[0.8888888888888888,\"#fdca26\"],[1.0,\"#f0f921\"]],\"type\":\"histogram2dcontour\"}],\"histogram2d\":[{\"colorbar\":{\"outlinewidth\":0,\"ticks\":\"\"},\"colorscale\":[[0.0,\"#0d0887\"],[0.1111111111111111,\"#46039f\"],[0.2222222222222222,\"#7201a8\"],[0.3333333333333333,\"#9c179e\"],[0.4444444444444444,\"#bd3786\"],[0.5555555555555556,\"#d8576b\"],[0.6666666666666666,\"#ed7953\"],[0.7777777777777778,\"#fb9f3a\"],[0.8888888888888888,\"#fdca26\"],[1.0,\"#f0f921\"]],\"type\":\"histogram2d\"}],\"histogram\":[{\"marker\":{\"pattern\":{\"fillmode\":\"overlay\",\"size\":10,\"solidity\":0.2}},\"type\":\"histogram\"}],\"mesh3d\":[{\"colorbar\":{\"outlinewidth\":0,\"ticks\":\"\"},\"type\":\"mesh3d\"}],\"parcoords\":[{\"line\":{\"colorbar\":{\"outlinewidth\":0,\"ticks\":\"\"}},\"type\":\"parcoords\"}],\"pie\":[{\"automargin\":true,\"type\":\"pie\"}],\"scatter3d\":[{\"line\":{\"colorbar\":{\"outlinewidth\":0,\"ticks\":\"\"}},\"marker\":{\"colorbar\":{\"outlinewidth\":0,\"ticks\":\"\"}},\"type\":\"scatter3d\"}],\"scattercarpet\":[{\"marker\":{\"colorbar\":{\"outlinewidth\":0,\"ticks\":\"\"}},\"type\":\"scattercarpet\"}],\"scattergeo\":[{\"marker\":{\"colorbar\":{\"outlinewidth\":0,\"ticks\":\"\"}},\"type\":\"scattergeo\"}],\"scattergl\":[{\"marker\":{\"colorbar\":{\"outlinewidth\":0,\"ticks\":\"\"}},\"type\":\"scattergl\"}],\"scattermapbox\":[{\"marker\":{\"colorbar\":{\"outlinewidth\":0,\"ticks\":\"\"}},\"type\":\"scattermapbox\"}],\"scatterpolargl\":[{\"marker\":{\"colorbar\":{\"outlinewidth\":0,\"ticks\":\"\"}},\"type\":\"scatterpolargl\"}],\"scatterpolar\":[{\"marker\":{\"colorbar\":{\"outlinewidth\":0,\"ticks\":\"\"}},\"type\":\"scatterpolar\"}],\"scatter\":[{\"fillpattern\":{\"fillmode\":\"overlay\",\"size\":10,\"solidity\":0.2},\"type\":\"scatter\"}],\"scatterternary\":[{\"marker\":{\"colorbar\":{\"outlinewidth\":0,\"ticks\":\"\"}},\"type\":\"scatterternary\"}],\"surface\":[{\"colorbar\":{\"outlinewidth\":0,\"ticks\":\"\"},\"colorscale\":[[0.0,\"#0d0887\"],[0.1111111111111111,\"#46039f\"],[0.2222222222222222,\"#7201a8\"],[0.3333333333333333,\"#9c179e\"],[0.4444444444444444,\"#bd3786\"],[0.5555555555555556,\"#d8576b\"],[0.6666666666666666,\"#ed7953\"],[0.7777777777777778,\"#fb9f3a\"],[0.8888888888888888,\"#fdca26\"],[1.0,\"#f0f921\"]],\"type\":\"surface\"}],\"table\":[{\"cells\":{\"fill\":{\"color\":\"#EBF0F8\"},\"line\":{\"color\":\"white\"}},\"header\":{\"fill\":{\"color\":\"#C8D4E3\"},\"line\":{\"color\":\"white\"}},\"type\":\"table\"}]},\"layout\":{\"annotationdefaults\":{\"arrowcolor\":\"#2a3f5f\",\"arrowhead\":0,\"arrowwidth\":1},\"autotypenumbers\":\"strict\",\"coloraxis\":{\"colorbar\":{\"outlinewidth\":0,\"ticks\":\"\"}},\"colorscale\":{\"diverging\":[[0,\"#8e0152\"],[0.1,\"#c51b7d\"],[0.2,\"#de77ae\"],[0.3,\"#f1b6da\"],[0.4,\"#fde0ef\"],[0.5,\"#f7f7f7\"],[0.6,\"#e6f5d0\"],[0.7,\"#b8e186\"],[0.8,\"#7fbc41\"],[0.9,\"#4d9221\"],[1,\"#276419\"]],\"sequential\":[[0.0,\"#0d0887\"],[0.1111111111111111,\"#46039f\"],[0.2222222222222222,\"#7201a8\"],[0.3333333333333333,\"#9c179e\"],[0.4444444444444444,\"#bd3786\"],[0.5555555555555556,\"#d8576b\"],[0.6666666666666666,\"#ed7953\"],[0.7777777777777778,\"#fb9f3a\"],[0.8888888888888888,\"#fdca26\"],[1.0,\"#f0f921\"]],\"sequentialminus\":[[0.0,\"#0d0887\"],[0.1111111111111111,\"#46039f\"],[0.2222222222222222,\"#7201a8\"],[0.3333333333333333,\"#9c179e\"],[0.4444444444444444,\"#bd3786\"],[0.5555555555555556,\"#d8576b\"],[0.6666666666666666,\"#ed7953\"],[0.7777777777777778,\"#fb9f3a\"],[0.8888888888888888,\"#fdca26\"],[1.0,\"#f0f921\"]]},\"colorway\":[\"#636efa\",\"#EF553B\",\"#00cc96\",\"#ab63fa\",\"#FFA15A\",\"#19d3f3\",\"#FF6692\",\"#B6E880\",\"#FF97FF\",\"#FECB52\"],\"font\":{\"color\":\"#2a3f5f\"},\"geo\":{\"bgcolor\":\"white\",\"lakecolor\":\"white\",\"landcolor\":\"white\",\"showlakes\":true,\"showland\":true,\"subunitcolor\":\"#C8D4E3\"},\"hoverlabel\":{\"align\":\"left\"},\"hovermode\":\"closest\",\"mapbox\":{\"style\":\"light\"},\"paper_bgcolor\":\"white\",\"plot_bgcolor\":\"white\",\"polar\":{\"angularaxis\":{\"gridcolor\":\"#EBF0F8\",\"linecolor\":\"#EBF0F8\",\"ticks\":\"\"},\"bgcolor\":\"white\",\"radialaxis\":{\"gridcolor\":\"#EBF0F8\",\"linecolor\":\"#EBF0F8\",\"ticks\":\"\"}},\"scene\":{\"xaxis\":{\"backgroundcolor\":\"white\",\"gridcolor\":\"#DFE8F3\",\"gridwidth\":2,\"linecolor\":\"#EBF0F8\",\"showbackground\":true,\"ticks\":\"\",\"zerolinecolor\":\"#EBF0F8\"},\"yaxis\":{\"backgroundcolor\":\"white\",\"gridcolor\":\"#DFE8F3\",\"gridwidth\":2,\"linecolor\":\"#EBF0F8\",\"showbackground\":true,\"ticks\":\"\",\"zerolinecolor\":\"#EBF0F8\"},\"zaxis\":{\"backgroundcolor\":\"white\",\"gridcolor\":\"#DFE8F3\",\"gridwidth\":2,\"linecolor\":\"#EBF0F8\",\"showbackground\":true,\"ticks\":\"\",\"zerolinecolor\":\"#EBF0F8\"}},\"shapedefaults\":{\"line\":{\"color\":\"#2a3f5f\"}},\"ternary\":{\"aaxis\":{\"gridcolor\":\"#DFE8F3\",\"linecolor\":\"#A2B1C6\",\"ticks\":\"\"},\"baxis\":{\"gridcolor\":\"#DFE8F3\",\"linecolor\":\"#A2B1C6\",\"ticks\":\"\"},\"bgcolor\":\"white\",\"caxis\":{\"gridcolor\":\"#DFE8F3\",\"linecolor\":\"#A2B1C6\",\"ticks\":\"\"}},\"title\":{\"x\":0.05},\"xaxis\":{\"automargin\":true,\"gridcolor\":\"#EBF0F8\",\"linecolor\":\"#EBF0F8\",\"ticks\":\"\",\"title\":{\"standoff\":15},\"zerolinecolor\":\"#EBF0F8\",\"zerolinewidth\":2},\"yaxis\":{\"automargin\":true,\"gridcolor\":\"#EBF0F8\",\"linecolor\":\"#EBF0F8\",\"ticks\":\"\",\"title\":{\"standoff\":15},\"zerolinecolor\":\"#EBF0F8\",\"zerolinewidth\":2}}},\"margin\":{\"l\":0,\"r\":0,\"b\":0,\"t\":0},\"width\":750,\"height\":750,\"scene\":{\"xaxis\":{\"title\":{\"text\":\"GDP Per Capita\"}},\"yaxis\":{\"title\":{\"text\":\"PM2.5 Concetrations\"}},\"zaxis\":{\"title\":{\"text\":\"Urban Population in Millions\"}}},\"title\":{\"text\":\"K-Means Clustering\",\"x\":0.5,\"y\":0.9},\"font\":{\"family\":\"Gilroy\",\"color\":\"black\",\"size\":12},\"autosize\":true,\"showlegend\":true},                        {\"responsive\": true}                    ).then(function(){\n",
       "                            \n",
       "var gd = document.getElementById('2fc4dd90-145f-42fc-a9a7-aaa4edf461c3');\n",
       "var x = new MutationObserver(function (mutations, observer) {{\n",
       "        var display = window.getComputedStyle(gd).display;\n",
       "        if (!display || display === 'none') {{\n",
       "            console.log([gd, 'removed!']);\n",
       "            Plotly.purge(gd);\n",
       "            observer.disconnect();\n",
       "        }}\n",
       "}});\n",
       "\n",
       "// Listen for the removal of the full notebook cells\n",
       "var notebookContainer = gd.closest('#notebook-container');\n",
       "if (notebookContainer) {{\n",
       "    x.observe(notebookContainer, {childList: true});\n",
       "}}\n",
       "\n",
       "// Listen for the clearing of the current output cell\n",
       "var outputEl = gd.closest('.output');\n",
       "if (outputEl) {{\n",
       "    x.observe(outputEl, {childList: true});\n",
       "}}\n",
       "\n",
       "                        })                };                });            </script>        </div>"
      ]
     },
     "metadata": {},
     "output_type": "display_data"
    }
   ],
   "source": [
    "fig.add_trace(go.Scatter3d(x = df_5['gdp_per_capita'], y = df_5['pm2_5'], z = df_5['urban_pop'],\n",
    "                      mode = 'markers',\n",
    "                           marker = dict(\n",
    "                           size = 10,\n",
    "                           color = df_5['pm2_5'],\n",
    "                           colorscale = 'sunsetdark'),\n",
    "                           opacity = 0.6,\n",
    "                           \n",
    "                       name = 'Countries',\n",
    "                        marker_color=df_5['clusters'],\n",
    "                                text=df_5['country'],))\n",
    "fig.update_layout(margin=dict(l=0, r=0, b=0, t=0))\n",
    "fig.update_layout(width = 1000, \n",
    "                 height = 1000)\n",
    "fig.update_scenes(xaxis_title_text = 'GDP Per Capita', \n",
    "                  yaxis_title_text = 'PM2.5 Concetrations',\n",
    "                  zaxis_title_text = 'Urban Population in Millions',\n",
    "                  )\n",
    "fig.update_layout(title='K-Means Clustering', title_x = 0.5, title_y = 0.9,\n",
    "                  font = dict(family = \"Gilroy\", color  = 'black', size = 12),\n",
    "                  template = 'plotly_white',\n",
    "                  width=750, height=750,\n",
    "                  autosize = True,\n",
    "                  showlegend = True,\n",
    "                  margin=dict(l=0, r=0, b=0, t=0))"
   ]
  },
  {
   "cell_type": "markdown",
   "id": "c871b93f-13c0-4e37-b173-012743827638",
   "metadata": {},
   "source": [
    "### Average values of each cluster "
   ]
  },
  {
   "cell_type": "code",
   "execution_count": 319,
   "id": "f7053e23-52ca-4f3b-b44b-3d7cabb74717",
   "metadata": {},
   "outputs": [],
   "source": [
    "cluster_pm2_5 = pd.DataFrame(df_5.groupby(['clusters']).pm2_5.mean())\n",
    "cluster_gdppp = pd.DataFrame(df_5.groupby(['clusters']).gdp_per_capita.mean())\n",
    "cluster_urban_pop = pd.DataFrame(df_5.groupby(['clusters']).urban_pop.mean())\n",
    "cluster_access_to_e = pd.DataFrame(df_5.groupby(['clusters']).access_to_e_per.mean())"
   ]
  },
  {
   "cell_type": "code",
   "execution_count": 320,
   "id": "b32d42ef-65cb-402b-b5a8-f8374eac914a",
   "metadata": {},
   "outputs": [],
   "source": [
    "df_summary = pd.concat([cluster_pm2_5,cluster_gdppp, cluster_access_to_e, cluster_urban_pop], axis =1)"
   ]
  },
  {
   "cell_type": "code",
   "execution_count": 322,
   "id": "680a0a4a-8974-4dac-b30f-008714e46719",
   "metadata": {},
   "outputs": [],
   "source": [
    "df_summary.columns = ['pm2_5', 'gdp_per_capita', 'access_to_e_per', 'urban_pop']"
   ]
  },
  {
   "cell_type": "code",
   "execution_count": 323,
   "id": "d589d734-c582-4835-92c5-6ff501860225",
   "metadata": {},
   "outputs": [
    {
     "data": {
      "text/html": [
       "<div>\n",
       "<style scoped>\n",
       "    .dataframe tbody tr th:only-of-type {\n",
       "        vertical-align: middle;\n",
       "    }\n",
       "\n",
       "    .dataframe tbody tr th {\n",
       "        vertical-align: top;\n",
       "    }\n",
       "\n",
       "    .dataframe thead th {\n",
       "        text-align: right;\n",
       "    }\n",
       "</style>\n",
       "<table border=\"1\" class=\"dataframe\">\n",
       "  <thead>\n",
       "    <tr style=\"text-align: right;\">\n",
       "      <th></th>\n",
       "      <th>pm2_5</th>\n",
       "      <th>gdp_per_capita</th>\n",
       "      <th>access_to_e_per</th>\n",
       "      <th>urban_pop</th>\n",
       "    </tr>\n",
       "    <tr>\n",
       "      <th>clusters</th>\n",
       "      <th></th>\n",
       "      <th></th>\n",
       "      <th></th>\n",
       "      <th></th>\n",
       "    </tr>\n",
       "  </thead>\n",
       "  <tbody>\n",
       "    <tr>\n",
       "      <th>0</th>\n",
       "      <td>19.399017</td>\n",
       "      <td>8248.614497</td>\n",
       "      <td>93.315701</td>\n",
       "      <td>14.088601</td>\n",
       "    </tr>\n",
       "    <tr>\n",
       "      <th>1</th>\n",
       "      <td>11.029203</td>\n",
       "      <td>42358.254796</td>\n",
       "      <td>99.847727</td>\n",
       "      <td>19.104068</td>\n",
       "    </tr>\n",
       "    <tr>\n",
       "      <th>2</th>\n",
       "      <td>44.585793</td>\n",
       "      <td>4033.886413</td>\n",
       "      <td>65.430385</td>\n",
       "      <td>30.962065</td>\n",
       "    </tr>\n",
       "  </tbody>\n",
       "</table>\n",
       "</div>"
      ],
      "text/plain": [
       "              pm2_5  gdp_per_capita  access_to_e_per  urban_pop\n",
       "clusters                                                       \n",
       "0         19.399017     8248.614497        93.315701  14.088601\n",
       "1         11.029203    42358.254796        99.847727  19.104068\n",
       "2         44.585793     4033.886413        65.430385  30.962065"
      ]
     },
     "execution_count": 323,
     "metadata": {},
     "output_type": "execute_result"
    }
   ],
   "source": [
    "df_summary"
   ]
  },
  {
   "cell_type": "code",
   "execution_count": 324,
   "id": "a87c7fe7-7fd9-44ef-927c-31bada8a5c9e",
   "metadata": {},
   "outputs": [],
   "source": [
    "# We can observe a low income cluster a high income cluster and a middle income cluster"
   ]
  },
  {
   "cell_type": "code",
   "execution_count": null,
   "id": "1faecbd6-2b1a-4842-a010-36a347273e14",
   "metadata": {},
   "outputs": [],
   "source": []
  }
 ],
 "metadata": {
  "kernelspec": {
   "display_name": "Python 3 (ipykernel)",
   "language": "python",
   "name": "python3"
  },
  "language_info": {
   "codemirror_mode": {
    "name": "ipython",
    "version": 3
   },
   "file_extension": ".py",
   "mimetype": "text/x-python",
   "name": "python",
   "nbconvert_exporter": "python",
   "pygments_lexer": "ipython3",
   "version": "3.9.10"
  }
 },
 "nbformat": 4,
 "nbformat_minor": 5
}
