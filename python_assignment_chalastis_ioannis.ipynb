{
 "cells": [
  {
   "cell_type": "code",
   "execution_count": 1,
   "id": "ee74a59a-7c9e-4399-8fac-b6431b3d3d93",
   "metadata": {},
   "outputs": [],
   "source": [
    "import pandas as pd\n",
    "import numpy as np\n",
    "import plotly.express as px\n",
    "import plotly.graph_objects"
   ]
  },
  {
   "cell_type": "code",
   "execution_count": 2,
   "id": "da2828d7-ca53-4be2-a1a9-9f8d970668e3",
   "metadata": {},
   "outputs": [],
   "source": [
    "df = pd.read_csv('https://storage.googleapis.com/courses_data/Assignment%20CSV/finance_liquor_sales.csv')"
   ]
  },
  {
   "cell_type": "code",
   "execution_count": 3,
   "id": "e3f74cf1-6964-4a4a-ad9d-805d3e2d5dce",
   "metadata": {},
   "outputs": [
    {
     "data": {
      "text/html": [
       "<div>\n",
       "<style scoped>\n",
       "    .dataframe tbody tr th:only-of-type {\n",
       "        vertical-align: middle;\n",
       "    }\n",
       "\n",
       "    .dataframe tbody tr th {\n",
       "        vertical-align: top;\n",
       "    }\n",
       "\n",
       "    .dataframe thead th {\n",
       "        text-align: right;\n",
       "    }\n",
       "</style>\n",
       "<table border=\"1\" class=\"dataframe\">\n",
       "  <thead>\n",
       "    <tr style=\"text-align: right;\">\n",
       "      <th></th>\n",
       "      <th>invoice_and_item_number</th>\n",
       "      <th>date</th>\n",
       "      <th>store_number</th>\n",
       "      <th>store_name</th>\n",
       "      <th>address</th>\n",
       "      <th>city</th>\n",
       "      <th>zip_code</th>\n",
       "      <th>store_location</th>\n",
       "      <th>county_number</th>\n",
       "      <th>county</th>\n",
       "      <th>...</th>\n",
       "      <th>item_number</th>\n",
       "      <th>item_description</th>\n",
       "      <th>pack</th>\n",
       "      <th>bottle_volume_ml</th>\n",
       "      <th>state_bottle_cost</th>\n",
       "      <th>state_bottle_retail</th>\n",
       "      <th>bottles_sold</th>\n",
       "      <th>sale_dollars</th>\n",
       "      <th>volume_sold_liters</th>\n",
       "      <th>volume_sold_gallons</th>\n",
       "    </tr>\n",
       "  </thead>\n",
       "  <tbody>\n",
       "    <tr>\n",
       "      <th>0</th>\n",
       "      <td>INV-31797900035</td>\n",
       "      <td>2020-11-10</td>\n",
       "      <td>4967</td>\n",
       "      <td>Jeff's Market / Blue Grass</td>\n",
       "      <td>102, W Mayne St</td>\n",
       "      <td>Blue Grass</td>\n",
       "      <td>52726.0</td>\n",
       "      <td>POINT (-90.766126 41.509119)</td>\n",
       "      <td>82.0</td>\n",
       "      <td>SCOTT</td>\n",
       "      <td>...</td>\n",
       "      <td>26858</td>\n",
       "      <td>Templeton 4YR Rye</td>\n",
       "      <td>12</td>\n",
       "      <td>375</td>\n",
       "      <td>9.99</td>\n",
       "      <td>14.99</td>\n",
       "      <td>1</td>\n",
       "      <td>14.99</td>\n",
       "      <td>0.37</td>\n",
       "      <td>0.09</td>\n",
       "    </tr>\n",
       "    <tr>\n",
       "      <th>1</th>\n",
       "      <td>INV-23548800092</td>\n",
       "      <td>2019-11-27</td>\n",
       "      <td>2601</td>\n",
       "      <td>Hy-Vee Food Store / Fairfield</td>\n",
       "      <td>1300 West Burlington Ave</td>\n",
       "      <td>Fairfield</td>\n",
       "      <td>52556.0</td>\n",
       "      <td>POINT (-91.978702 41.006456)</td>\n",
       "      <td>51.0</td>\n",
       "      <td>JEFFERSON</td>\n",
       "      <td>...</td>\n",
       "      <td>86251</td>\n",
       "      <td>Juarez Triple Sec</td>\n",
       "      <td>12</td>\n",
       "      <td>1000</td>\n",
       "      <td>2.42</td>\n",
       "      <td>3.63</td>\n",
       "      <td>6</td>\n",
       "      <td>21.78</td>\n",
       "      <td>6.00</td>\n",
       "      <td>1.58</td>\n",
       "    </tr>\n",
       "    <tr>\n",
       "      <th>2</th>\n",
       "      <td>INV-23609300026</td>\n",
       "      <td>2019-12-02</td>\n",
       "      <td>4962</td>\n",
       "      <td>Hilltop Grocery</td>\n",
       "      <td>1312 Harrison St</td>\n",
       "      <td>Davenport</td>\n",
       "      <td>52803.0</td>\n",
       "      <td>NaN</td>\n",
       "      <td>82.0</td>\n",
       "      <td>SCOTT</td>\n",
       "      <td>...</td>\n",
       "      <td>41844</td>\n",
       "      <td>Everclear Alcohol</td>\n",
       "      <td>24</td>\n",
       "      <td>375</td>\n",
       "      <td>4.20</td>\n",
       "      <td>6.30</td>\n",
       "      <td>3</td>\n",
       "      <td>18.90</td>\n",
       "      <td>1.12</td>\n",
       "      <td>0.29</td>\n",
       "    </tr>\n",
       "    <tr>\n",
       "      <th>3</th>\n",
       "      <td>INV-39482900037</td>\n",
       "      <td>2021-08-24</td>\n",
       "      <td>3719</td>\n",
       "      <td>Wal-Mart 0581 / Marshalltown</td>\n",
       "      <td>2802 S Center St</td>\n",
       "      <td>Marshalltown</td>\n",
       "      <td>50158.0</td>\n",
       "      <td>POINT (-92.91231 42.012918)</td>\n",
       "      <td>64.0</td>\n",
       "      <td>MARSHALL</td>\n",
       "      <td>...</td>\n",
       "      <td>65259</td>\n",
       "      <td>Jagermeister Liqueur Mini Meisters</td>\n",
       "      <td>12</td>\n",
       "      <td>20</td>\n",
       "      <td>4.93</td>\n",
       "      <td>7.40</td>\n",
       "      <td>12</td>\n",
       "      <td>88.80</td>\n",
       "      <td>0.24</td>\n",
       "      <td>0.06</td>\n",
       "    </tr>\n",
       "    <tr>\n",
       "      <th>4</th>\n",
       "      <td>INV-39520400088</td>\n",
       "      <td>2021-08-25</td>\n",
       "      <td>5423</td>\n",
       "      <td>Stammer Liquor Corp</td>\n",
       "      <td>615 2nd Ave</td>\n",
       "      <td>Sheldon</td>\n",
       "      <td>51201.0</td>\n",
       "      <td>POINT (-95.854899 43.184242)</td>\n",
       "      <td>71.0</td>\n",
       "      <td>OBRIEN</td>\n",
       "      <td>...</td>\n",
       "      <td>77487</td>\n",
       "      <td>Tortilla Gold DSS</td>\n",
       "      <td>12</td>\n",
       "      <td>1000</td>\n",
       "      <td>4.85</td>\n",
       "      <td>7.28</td>\n",
       "      <td>4</td>\n",
       "      <td>29.12</td>\n",
       "      <td>4.00</td>\n",
       "      <td>1.05</td>\n",
       "    </tr>\n",
       "  </tbody>\n",
       "</table>\n",
       "<p>5 rows × 24 columns</p>\n",
       "</div>"
      ],
      "text/plain": [
       "  invoice_and_item_number        date  store_number  \\\n",
       "0         INV-31797900035  2020-11-10          4967   \n",
       "1         INV-23548800092  2019-11-27          2601   \n",
       "2         INV-23609300026  2019-12-02          4962   \n",
       "3         INV-39482900037  2021-08-24          3719   \n",
       "4         INV-39520400088  2021-08-25          5423   \n",
       "\n",
       "                      store_name                   address          city  \\\n",
       "0     Jeff's Market / Blue Grass           102, W Mayne St    Blue Grass   \n",
       "1  Hy-Vee Food Store / Fairfield  1300 West Burlington Ave     Fairfield   \n",
       "2                Hilltop Grocery          1312 Harrison St     Davenport   \n",
       "3   Wal-Mart 0581 / Marshalltown          2802 S Center St  Marshalltown   \n",
       "4            Stammer Liquor Corp               615 2nd Ave       Sheldon   \n",
       "\n",
       "   zip_code                store_location  county_number     county  ...  \\\n",
       "0   52726.0  POINT (-90.766126 41.509119)           82.0      SCOTT  ...   \n",
       "1   52556.0  POINT (-91.978702 41.006456)           51.0  JEFFERSON  ...   \n",
       "2   52803.0                           NaN           82.0      SCOTT  ...   \n",
       "3   50158.0   POINT (-92.91231 42.012918)           64.0   MARSHALL  ...   \n",
       "4   51201.0  POINT (-95.854899 43.184242)           71.0     OBRIEN  ...   \n",
       "\n",
       "   item_number                    item_description  pack bottle_volume_ml  \\\n",
       "0        26858                   Templeton 4YR Rye    12              375   \n",
       "1        86251                   Juarez Triple Sec    12             1000   \n",
       "2        41844                   Everclear Alcohol    24              375   \n",
       "3        65259  Jagermeister Liqueur Mini Meisters    12               20   \n",
       "4        77487                   Tortilla Gold DSS    12             1000   \n",
       "\n",
       "   state_bottle_cost state_bottle_retail  bottles_sold  sale_dollars  \\\n",
       "0               9.99               14.99             1         14.99   \n",
       "1               2.42                3.63             6         21.78   \n",
       "2               4.20                6.30             3         18.90   \n",
       "3               4.93                7.40            12         88.80   \n",
       "4               4.85                7.28             4         29.12   \n",
       "\n",
       "   volume_sold_liters  volume_sold_gallons  \n",
       "0                0.37                 0.09  \n",
       "1                6.00                 1.58  \n",
       "2                1.12                 0.29  \n",
       "3                0.24                 0.06  \n",
       "4                4.00                 1.05  \n",
       "\n",
       "[5 rows x 24 columns]"
      ]
     },
     "execution_count": 3,
     "metadata": {},
     "output_type": "execute_result"
    }
   ],
   "source": [
    "df.head()"
   ]
  },
  {
   "cell_type": "code",
   "execution_count": 4,
   "id": "b4b54acd-5e24-4433-aa31-5b7156855e40",
   "metadata": {},
   "outputs": [
    {
     "name": "stdout",
     "output_type": "stream",
     "text": [
      "<class 'pandas.core.frame.DataFrame'>\n",
      "RangeIndex: 200 entries, 0 to 199\n",
      "Data columns (total 24 columns):\n",
      " #   Column                   Non-Null Count  Dtype  \n",
      "---  ------                   --------------  -----  \n",
      " 0   invoice_and_item_number  200 non-null    object \n",
      " 1   date                     200 non-null    object \n",
      " 2   store_number             200 non-null    int64  \n",
      " 3   store_name               200 non-null    object \n",
      " 4   address                  200 non-null    object \n",
      " 5   city                     200 non-null    object \n",
      " 6   zip_code                 200 non-null    float64\n",
      " 7   store_location           182 non-null    object \n",
      " 8   county_number            199 non-null    float64\n",
      " 9   county                   199 non-null    object \n",
      " 10  category                 197 non-null    float64\n",
      " 11  category_name            191 non-null    object \n",
      " 12  vendor_number            200 non-null    float64\n",
      " 13  vendor_name              200 non-null    object \n",
      " 14  item_number              200 non-null    int64  \n",
      " 15  item_description         200 non-null    object \n",
      " 16  pack                     200 non-null    int64  \n",
      " 17  bottle_volume_ml         200 non-null    int64  \n",
      " 18  state_bottle_cost        200 non-null    float64\n",
      " 19  state_bottle_retail      200 non-null    float64\n",
      " 20  bottles_sold             200 non-null    int64  \n",
      " 21  sale_dollars             200 non-null    float64\n",
      " 22  volume_sold_liters       200 non-null    float64\n",
      " 23  volume_sold_gallons      200 non-null    float64\n",
      "dtypes: float64(9), int64(5), object(10)\n",
      "memory usage: 37.6+ KB\n"
     ]
    }
   ],
   "source": [
    "df.info()"
   ]
  },
  {
   "cell_type": "markdown",
   "id": "389b57a5-a4d8-4b40-8205-30ac62a26c66",
   "metadata": {},
   "source": [
    "## Data Cleaning "
   ]
  },
  {
   "cell_type": "code",
   "execution_count": 5,
   "id": "43a9a1b0-77ac-4577-8179-a7a205fb141b",
   "metadata": {},
   "outputs": [
    {
     "data": {
      "text/plain": [
       "invoice_and_item_number     0\n",
       "date                        0\n",
       "store_number                0\n",
       "store_name                  0\n",
       "address                     0\n",
       "city                        0\n",
       "zip_code                    0\n",
       "store_location             18\n",
       "county_number               1\n",
       "county                      1\n",
       "category                    3\n",
       "category_name               9\n",
       "vendor_number               0\n",
       "vendor_name                 0\n",
       "item_number                 0\n",
       "item_description            0\n",
       "pack                        0\n",
       "bottle_volume_ml            0\n",
       "state_bottle_cost           0\n",
       "state_bottle_retail         0\n",
       "bottles_sold                0\n",
       "sale_dollars                0\n",
       "volume_sold_liters          0\n",
       "volume_sold_gallons         0\n",
       "dtype: int64"
      ]
     },
     "execution_count": 5,
     "metadata": {},
     "output_type": "execute_result"
    }
   ],
   "source": [
    "df.isnull().sum()"
   ]
  },
  {
   "cell_type": "code",
   "execution_count": 6,
   "id": "bd579891-71ce-417e-b423-fc4bec33e72b",
   "metadata": {},
   "outputs": [
    {
     "data": {
      "text/plain": [
       "np.int64(0)"
      ]
     },
     "execution_count": 6,
     "metadata": {},
     "output_type": "execute_result"
    }
   ],
   "source": [
    "df.duplicated().sum()"
   ]
  },
  {
   "cell_type": "code",
   "execution_count": 7,
   "id": "4bffb22e-51a0-4f77-a16e-d36bcba14642",
   "metadata": {},
   "outputs": [],
   "source": [
    "df.dropna(inplace = True)"
   ]
  },
  {
   "cell_type": "code",
   "execution_count": 8,
   "id": "54c47ebc-e555-446b-96ed-351fb363d59d",
   "metadata": {},
   "outputs": [
    {
     "name": "stdout",
     "output_type": "stream",
     "text": [
      "<class 'pandas.core.frame.DataFrame'>\n",
      "Index: 173 entries, 0 to 198\n",
      "Data columns (total 24 columns):\n",
      " #   Column                   Non-Null Count  Dtype  \n",
      "---  ------                   --------------  -----  \n",
      " 0   invoice_and_item_number  173 non-null    object \n",
      " 1   date                     173 non-null    object \n",
      " 2   store_number             173 non-null    int64  \n",
      " 3   store_name               173 non-null    object \n",
      " 4   address                  173 non-null    object \n",
      " 5   city                     173 non-null    object \n",
      " 6   zip_code                 173 non-null    float64\n",
      " 7   store_location           173 non-null    object \n",
      " 8   county_number            173 non-null    float64\n",
      " 9   county                   173 non-null    object \n",
      " 10  category                 173 non-null    float64\n",
      " 11  category_name            173 non-null    object \n",
      " 12  vendor_number            173 non-null    float64\n",
      " 13  vendor_name              173 non-null    object \n",
      " 14  item_number              173 non-null    int64  \n",
      " 15  item_description         173 non-null    object \n",
      " 16  pack                     173 non-null    int64  \n",
      " 17  bottle_volume_ml         173 non-null    int64  \n",
      " 18  state_bottle_cost        173 non-null    float64\n",
      " 19  state_bottle_retail      173 non-null    float64\n",
      " 20  bottles_sold             173 non-null    int64  \n",
      " 21  sale_dollars             173 non-null    float64\n",
      " 22  volume_sold_liters       173 non-null    float64\n",
      " 23  volume_sold_gallons      173 non-null    float64\n",
      "dtypes: float64(9), int64(5), object(10)\n",
      "memory usage: 33.8+ KB\n"
     ]
    }
   ],
   "source": [
    "df.info()"
   ]
  },
  {
   "cell_type": "markdown",
   "id": "86176af5-148b-4385-937f-f3b7a3c2e4e7",
   "metadata": {},
   "source": [
    "## Date manipulation"
   ]
  },
  {
   "cell_type": "code",
   "execution_count": 9,
   "id": "5c05fb7b-b5e2-490c-bb6b-e6ade67ad092",
   "metadata": {},
   "outputs": [],
   "source": [
    "df['date'] = pd.to_datetime(df['date'])"
   ]
  },
  {
   "cell_type": "code",
   "execution_count": 10,
   "id": "73a0b7af-0727-4964-8578-6038102a4a99",
   "metadata": {},
   "outputs": [],
   "source": [
    "df['year'] = df['date'].dt.year"
   ]
  },
  {
   "cell_type": "code",
   "execution_count": 11,
   "id": "b3487b2e-df03-4dd1-b41e-f8327d525e48",
   "metadata": {},
   "outputs": [],
   "source": [
    "df['month'] = df['date'].dt.month"
   ]
  },
  {
   "cell_type": "markdown",
   "id": "a6d8a74c-73b1-4116-927a-6f5605b427b1",
   "metadata": {},
   "source": [
    "## 2016-2019 Data"
   ]
  },
  {
   "cell_type": "code",
   "execution_count": 12,
   "id": "c6970dd3-d87f-4696-9af0-a7c31bad7c01",
   "metadata": {},
   "outputs": [],
   "source": [
    "data_2016_2019 = df[(df['year'] >= 2016) & (df['year'] <= 2019)]"
   ]
  },
  {
   "cell_type": "code",
   "execution_count": 13,
   "id": "41197102-e946-4586-933e-2b224059eba5",
   "metadata": {},
   "outputs": [
    {
     "name": "stdout",
     "output_type": "stream",
     "text": [
      "<class 'pandas.core.frame.DataFrame'>\n",
      "Index: 60 entries, 1 to 197\n",
      "Data columns (total 26 columns):\n",
      " #   Column                   Non-Null Count  Dtype         \n",
      "---  ------                   --------------  -----         \n",
      " 0   invoice_and_item_number  60 non-null     object        \n",
      " 1   date                     60 non-null     datetime64[ns]\n",
      " 2   store_number             60 non-null     int64         \n",
      " 3   store_name               60 non-null     object        \n",
      " 4   address                  60 non-null     object        \n",
      " 5   city                     60 non-null     object        \n",
      " 6   zip_code                 60 non-null     float64       \n",
      " 7   store_location           60 non-null     object        \n",
      " 8   county_number            60 non-null     float64       \n",
      " 9   county                   60 non-null     object        \n",
      " 10  category                 60 non-null     float64       \n",
      " 11  category_name            60 non-null     object        \n",
      " 12  vendor_number            60 non-null     float64       \n",
      " 13  vendor_name              60 non-null     object        \n",
      " 14  item_number              60 non-null     int64         \n",
      " 15  item_description         60 non-null     object        \n",
      " 16  pack                     60 non-null     int64         \n",
      " 17  bottle_volume_ml         60 non-null     int64         \n",
      " 18  state_bottle_cost        60 non-null     float64       \n",
      " 19  state_bottle_retail      60 non-null     float64       \n",
      " 20  bottles_sold             60 non-null     int64         \n",
      " 21  sale_dollars             60 non-null     float64       \n",
      " 22  volume_sold_liters       60 non-null     float64       \n",
      " 23  volume_sold_gallons      60 non-null     float64       \n",
      " 24  year                     60 non-null     int32         \n",
      " 25  month                    60 non-null     int32         \n",
      "dtypes: datetime64[ns](1), float64(9), int32(2), int64(5), object(9)\n",
      "memory usage: 12.2+ KB\n"
     ]
    }
   ],
   "source": [
    "data_2016_2019.info()"
   ]
  },
  {
   "cell_type": "code",
   "execution_count": 14,
   "id": "c109e277-a320-40fd-b53d-db8ac0c600f3",
   "metadata": {},
   "outputs": [
    {
     "name": "stderr",
     "output_type": "stream",
     "text": [
      "C:\\Users\\tomah\\AppData\\Local\\Temp\\ipykernel_12792\\3870406734.py:1: SettingWithCopyWarning: \n",
      "A value is trying to be set on a copy of a slice from a DataFrame.\n",
      "Try using .loc[row_indexer,col_indexer] = value instead\n",
      "\n",
      "See the caveats in the documentation: https://pandas.pydata.org/pandas-docs/stable/user_guide/indexing.html#returning-a-view-versus-a-copy\n",
      "  data_2016_2019['zip_code'] = data_2016_2019['zip_code'].astype(int)\n"
     ]
    }
   ],
   "source": [
    "data_2016_2019['zip_code'] = data_2016_2019['zip_code'].astype(int)"
   ]
  },
  {
   "cell_type": "markdown",
   "id": "8d48fc6d-c1df-42cc-b68d-d92333234840",
   "metadata": {},
   "source": [
    "## Most popular item per zip code"
   ]
  },
  {
   "cell_type": "code",
   "execution_count": 15,
   "id": "b60f00a7-7df0-47b4-833a-638928ff03b8",
   "metadata": {},
   "outputs": [],
   "source": [
    "popular_items = data_2016_2019.groupby(['zip_code', 'item_description'])['bottles_sold'].sum()\n",
    "popular_items = popular_items.loc[popular_items.groupby('zip_code').idxmax()]"
   ]
  },
  {
   "cell_type": "code",
   "execution_count": 16,
   "id": "11c5c674-2f7b-461f-8b8b-2efe6f68f8c4",
   "metadata": {},
   "outputs": [
    {
     "data": {
      "text/plain": [
       "zip_code  item_description             \n",
       "50010     Member's Mark Spiced Rum         288\n",
       "50022     Paramount Triple Sec               4\n",
       "50131     Platinum 7x Vodka                 48\n",
       "50158     Kamora Coffee Liqueur              6\n",
       "50263     Jagermeister w/2 Shot Glasses     84\n",
       "Name: bottles_sold, dtype: int64"
      ]
     },
     "execution_count": 16,
     "metadata": {},
     "output_type": "execute_result"
    }
   ],
   "source": [
    "popular_items.head()"
   ]
  },
  {
   "cell_type": "code",
   "execution_count": 17,
   "id": "8e16a96b-0c0c-43c5-a6f4-7bc5609041d5",
   "metadata": {},
   "outputs": [],
   "source": [
    "popular_items = popular_items.reset_index()"
   ]
  },
  {
   "cell_type": "code",
   "execution_count": 30,
   "id": "4b4a8c41-12dd-48e8-a449-785bc863caa3",
   "metadata": {},
   "outputs": [
    {
     "data": {
      "application/vnd.plotly.v1+json": {
       "config": {
        "plotlyServerURL": "https://plot.ly"
       },
       "data": [
        {
         "customdata": [
          [
           "Member's Mark Spiced Rum"
          ],
          [
           "Paramount Triple Sec"
          ],
          [
           "Platinum 7x Vodka"
          ],
          [
           "Kamora Coffee Liqueur"
          ],
          [
           "Jagermeister w/2 Shot Glasses"
          ],
          [
           "Kahlua Coffee"
          ],
          [
           "Avion Silver w/Powell & Mahoney Margarita Mix"
          ],
          [
           "Juarez Triple Sec"
          ],
          [
           "Paul Masson Peach Grande Amber Brandy"
          ],
          [
           "Di Amore Quattro Orange"
          ],
          [
           "Bacardi Gold Rum PET"
          ],
          [
           "Ole Smoky Blackberry Moonshine Mini"
          ],
          [
           "Five O'clock Vodka"
          ],
          [
           "Titos Vodka"
          ],
          [
           "Phillips Root Beer Schnapps"
          ],
          [
           "Ole Smoky Apple Pie Moonshine 70prf Mini"
          ],
          [
           "Tortilla Gold Dss"
          ],
          [
           "Pinnacle Peach w/ Punch Dispenser"
          ],
          [
           "Jameson"
          ],
          [
           "Bacardi Gold Rum"
          ],
          [
           "Kahlua Coffee Liqueur"
          ],
          [
           "Dekuyper Triple Sec"
          ],
          [
           "Basil Hayden Dark Rye"
          ],
          [
           "Juarez Triple Sec"
          ],
          [
           "Paramount Gold Rum"
          ],
          [
           "Kamora Coffee Liqueur"
          ],
          [
           "Bacardi Gold Rum Mini"
          ],
          [
           "Five O'clock Vodka"
          ],
          [
           "Kahlua Coffee"
          ],
          [
           "Juarez Triple Sec"
          ],
          [
           "Maestro Agavero Gold"
          ],
          [
           "Juarez Gold Dss"
          ],
          [
           "Cedar Ridge Single Malt Single Barrel Select"
          ],
          [
           "Montezuma Triple Sec"
          ],
          [
           "Everclear Alcohol"
          ],
          [
           "Juarez Triple Sec"
          ],
          [
           "Five O'clock Vodka"
          ],
          [
           "Kapali Coffee Liqueur"
          ],
          [
           "Paramount Gold Rum"
          ],
          [
           "Dekuyper Peachtree"
          ],
          [
           "Martell VSSD"
          ]
         ],
         "hovertemplate": "Zip Code=%{x}<br>Bottles Sold=%{marker.color}<br>item_description=%{customdata[0]}<extra></extra>",
         "legendgroup": "",
         "marker": {
          "color": [
           288,
           4,
           48,
           6,
           84,
           72,
           90,
           240,
           24,
           120,
           102,
           48,
           30,
           108,
           4,
           8,
           768,
           180,
           60,
           5,
           240,
           6,
           18,
           48,
           2,
           4,
           5,
           2,
           1,
           60,
           48,
           1560,
           90,
           216,
           36,
           6,
           48,
           36,
           24,
           4,
           2
          ],
          "coloraxis": "coloraxis",
          "line": {
           "width": 0
          },
          "size": [
           288,
           4,
           48,
           6,
           84,
           72,
           90,
           240,
           24,
           120,
           102,
           48,
           30,
           108,
           4,
           8,
           768,
           180,
           60,
           5,
           240,
           6,
           18,
           48,
           2,
           4,
           5,
           2,
           1,
           60,
           48,
           1560,
           90,
           216,
           36,
           6,
           48,
           36,
           24,
           4,
           2
          ],
          "sizemode": "area",
          "sizeref": 0.43333333333333335,
          "symbol": "circle"
         },
         "mode": "markers",
         "name": "",
         "orientation": "v",
         "showlegend": false,
         "type": "scatter",
         "x": [
          50010,
          50022,
          50131,
          50158,
          50263,
          50265,
          50266,
          50314,
          50317,
          50320,
          50327,
          50401,
          50461,
          50501,
          50588,
          50662,
          50702,
          50703,
          50707,
          50801,
          51106,
          51247,
          51401,
          51501,
          51555,
          52001,
          52003,
          52136,
          52172,
          52240,
          52241,
          52314,
          52338,
          52402,
          52411,
          52556,
          52601,
          52627,
          52732,
          52761,
          52804
         ],
         "xaxis": "x",
         "y": [
          288,
          4,
          48,
          6,
          84,
          72,
          90,
          240,
          24,
          120,
          102,
          48,
          30,
          108,
          4,
          8,
          768,
          180,
          60,
          5,
          240,
          6,
          18,
          48,
          2,
          4,
          5,
          2,
          1,
          60,
          48,
          1560,
          90,
          216,
          36,
          6,
          48,
          36,
          24,
          4,
          2
         ],
         "yaxis": "y"
        }
       ],
       "layout": {
        "coloraxis": {
         "colorbar": {
          "title": {
           "text": "Bottles Sold"
          }
         },
         "colorscale": [
          [
           0,
           "rgb(255,255,204)"
          ],
          [
           0.125,
           "rgb(255,237,160)"
          ],
          [
           0.25,
           "rgb(254,217,118)"
          ],
          [
           0.375,
           "rgb(254,178,76)"
          ],
          [
           0.5,
           "rgb(253,141,60)"
          ],
          [
           0.625,
           "rgb(252,78,42)"
          ],
          [
           0.75,
           "rgb(227,26,28)"
          ],
          [
           0.875,
           "rgb(189,0,38)"
          ],
          [
           1,
           "rgb(128,0,38)"
          ]
         ]
        },
        "font": {
         "color": "white",
         "family": "Century Gothic",
         "size": 14,
         "weight": "normal"
        },
        "height": 800,
        "legend": {
         "bgcolor": "rgba(0, 0, 0, 0.5)",
         "font": {
          "color": "white",
          "family": "Century Gothic",
          "size": 12,
          "weight": "normal"
         },
         "itemsizing": "constant",
         "tracegroupgap": 0
        },
        "margin": {
         "b": 50,
         "l": 50,
         "r": 50,
         "t": 50
        },
        "paper_bgcolor": "black",
        "plot_bgcolor": "black",
        "showlegend": true,
        "template": {
         "data": {
          "bar": [
           {
            "error_x": {
             "color": "#2a3f5f"
            },
            "error_y": {
             "color": "#2a3f5f"
            },
            "marker": {
             "line": {
              "color": "#E5ECF6",
              "width": 0.5
             },
             "pattern": {
              "fillmode": "overlay",
              "size": 10,
              "solidity": 0.2
             }
            },
            "type": "bar"
           }
          ],
          "barpolar": [
           {
            "marker": {
             "line": {
              "color": "#E5ECF6",
              "width": 0.5
             },
             "pattern": {
              "fillmode": "overlay",
              "size": 10,
              "solidity": 0.2
             }
            },
            "type": "barpolar"
           }
          ],
          "carpet": [
           {
            "aaxis": {
             "endlinecolor": "#2a3f5f",
             "gridcolor": "white",
             "linecolor": "white",
             "minorgridcolor": "white",
             "startlinecolor": "#2a3f5f"
            },
            "baxis": {
             "endlinecolor": "#2a3f5f",
             "gridcolor": "white",
             "linecolor": "white",
             "minorgridcolor": "white",
             "startlinecolor": "#2a3f5f"
            },
            "type": "carpet"
           }
          ],
          "choropleth": [
           {
            "colorbar": {
             "outlinewidth": 0,
             "ticks": ""
            },
            "type": "choropleth"
           }
          ],
          "contour": [
           {
            "colorbar": {
             "outlinewidth": 0,
             "ticks": ""
            },
            "colorscale": [
             [
              0,
              "#0d0887"
             ],
             [
              0.1111111111111111,
              "#46039f"
             ],
             [
              0.2222222222222222,
              "#7201a8"
             ],
             [
              0.3333333333333333,
              "#9c179e"
             ],
             [
              0.4444444444444444,
              "#bd3786"
             ],
             [
              0.5555555555555556,
              "#d8576b"
             ],
             [
              0.6666666666666666,
              "#ed7953"
             ],
             [
              0.7777777777777778,
              "#fb9f3a"
             ],
             [
              0.8888888888888888,
              "#fdca26"
             ],
             [
              1,
              "#f0f921"
             ]
            ],
            "type": "contour"
           }
          ],
          "contourcarpet": [
           {
            "colorbar": {
             "outlinewidth": 0,
             "ticks": ""
            },
            "type": "contourcarpet"
           }
          ],
          "heatmap": [
           {
            "colorbar": {
             "outlinewidth": 0,
             "ticks": ""
            },
            "colorscale": [
             [
              0,
              "#0d0887"
             ],
             [
              0.1111111111111111,
              "#46039f"
             ],
             [
              0.2222222222222222,
              "#7201a8"
             ],
             [
              0.3333333333333333,
              "#9c179e"
             ],
             [
              0.4444444444444444,
              "#bd3786"
             ],
             [
              0.5555555555555556,
              "#d8576b"
             ],
             [
              0.6666666666666666,
              "#ed7953"
             ],
             [
              0.7777777777777778,
              "#fb9f3a"
             ],
             [
              0.8888888888888888,
              "#fdca26"
             ],
             [
              1,
              "#f0f921"
             ]
            ],
            "type": "heatmap"
           }
          ],
          "heatmapgl": [
           {
            "colorbar": {
             "outlinewidth": 0,
             "ticks": ""
            },
            "colorscale": [
             [
              0,
              "#0d0887"
             ],
             [
              0.1111111111111111,
              "#46039f"
             ],
             [
              0.2222222222222222,
              "#7201a8"
             ],
             [
              0.3333333333333333,
              "#9c179e"
             ],
             [
              0.4444444444444444,
              "#bd3786"
             ],
             [
              0.5555555555555556,
              "#d8576b"
             ],
             [
              0.6666666666666666,
              "#ed7953"
             ],
             [
              0.7777777777777778,
              "#fb9f3a"
             ],
             [
              0.8888888888888888,
              "#fdca26"
             ],
             [
              1,
              "#f0f921"
             ]
            ],
            "type": "heatmapgl"
           }
          ],
          "histogram": [
           {
            "marker": {
             "pattern": {
              "fillmode": "overlay",
              "size": 10,
              "solidity": 0.2
             }
            },
            "type": "histogram"
           }
          ],
          "histogram2d": [
           {
            "colorbar": {
             "outlinewidth": 0,
             "ticks": ""
            },
            "colorscale": [
             [
              0,
              "#0d0887"
             ],
             [
              0.1111111111111111,
              "#46039f"
             ],
             [
              0.2222222222222222,
              "#7201a8"
             ],
             [
              0.3333333333333333,
              "#9c179e"
             ],
             [
              0.4444444444444444,
              "#bd3786"
             ],
             [
              0.5555555555555556,
              "#d8576b"
             ],
             [
              0.6666666666666666,
              "#ed7953"
             ],
             [
              0.7777777777777778,
              "#fb9f3a"
             ],
             [
              0.8888888888888888,
              "#fdca26"
             ],
             [
              1,
              "#f0f921"
             ]
            ],
            "type": "histogram2d"
           }
          ],
          "histogram2dcontour": [
           {
            "colorbar": {
             "outlinewidth": 0,
             "ticks": ""
            },
            "colorscale": [
             [
              0,
              "#0d0887"
             ],
             [
              0.1111111111111111,
              "#46039f"
             ],
             [
              0.2222222222222222,
              "#7201a8"
             ],
             [
              0.3333333333333333,
              "#9c179e"
             ],
             [
              0.4444444444444444,
              "#bd3786"
             ],
             [
              0.5555555555555556,
              "#d8576b"
             ],
             [
              0.6666666666666666,
              "#ed7953"
             ],
             [
              0.7777777777777778,
              "#fb9f3a"
             ],
             [
              0.8888888888888888,
              "#fdca26"
             ],
             [
              1,
              "#f0f921"
             ]
            ],
            "type": "histogram2dcontour"
           }
          ],
          "mesh3d": [
           {
            "colorbar": {
             "outlinewidth": 0,
             "ticks": ""
            },
            "type": "mesh3d"
           }
          ],
          "parcoords": [
           {
            "line": {
             "colorbar": {
              "outlinewidth": 0,
              "ticks": ""
             }
            },
            "type": "parcoords"
           }
          ],
          "pie": [
           {
            "automargin": true,
            "type": "pie"
           }
          ],
          "scatter": [
           {
            "fillpattern": {
             "fillmode": "overlay",
             "size": 10,
             "solidity": 0.2
            },
            "type": "scatter"
           }
          ],
          "scatter3d": [
           {
            "line": {
             "colorbar": {
              "outlinewidth": 0,
              "ticks": ""
             }
            },
            "marker": {
             "colorbar": {
              "outlinewidth": 0,
              "ticks": ""
             }
            },
            "type": "scatter3d"
           }
          ],
          "scattercarpet": [
           {
            "marker": {
             "colorbar": {
              "outlinewidth": 0,
              "ticks": ""
             }
            },
            "type": "scattercarpet"
           }
          ],
          "scattergeo": [
           {
            "marker": {
             "colorbar": {
              "outlinewidth": 0,
              "ticks": ""
             }
            },
            "type": "scattergeo"
           }
          ],
          "scattergl": [
           {
            "marker": {
             "colorbar": {
              "outlinewidth": 0,
              "ticks": ""
             }
            },
            "type": "scattergl"
           }
          ],
          "scattermapbox": [
           {
            "marker": {
             "colorbar": {
              "outlinewidth": 0,
              "ticks": ""
             }
            },
            "type": "scattermapbox"
           }
          ],
          "scatterpolar": [
           {
            "marker": {
             "colorbar": {
              "outlinewidth": 0,
              "ticks": ""
             }
            },
            "type": "scatterpolar"
           }
          ],
          "scatterpolargl": [
           {
            "marker": {
             "colorbar": {
              "outlinewidth": 0,
              "ticks": ""
             }
            },
            "type": "scatterpolargl"
           }
          ],
          "scatterternary": [
           {
            "marker": {
             "colorbar": {
              "outlinewidth": 0,
              "ticks": ""
             }
            },
            "type": "scatterternary"
           }
          ],
          "surface": [
           {
            "colorbar": {
             "outlinewidth": 0,
             "ticks": ""
            },
            "colorscale": [
             [
              0,
              "#0d0887"
             ],
             [
              0.1111111111111111,
              "#46039f"
             ],
             [
              0.2222222222222222,
              "#7201a8"
             ],
             [
              0.3333333333333333,
              "#9c179e"
             ],
             [
              0.4444444444444444,
              "#bd3786"
             ],
             [
              0.5555555555555556,
              "#d8576b"
             ],
             [
              0.6666666666666666,
              "#ed7953"
             ],
             [
              0.7777777777777778,
              "#fb9f3a"
             ],
             [
              0.8888888888888888,
              "#fdca26"
             ],
             [
              1,
              "#f0f921"
             ]
            ],
            "type": "surface"
           }
          ],
          "table": [
           {
            "cells": {
             "fill": {
              "color": "#EBF0F8"
             },
             "line": {
              "color": "white"
             }
            },
            "header": {
             "fill": {
              "color": "#C8D4E3"
             },
             "line": {
              "color": "white"
             }
            },
            "type": "table"
           }
          ]
         },
         "layout": {
          "annotationdefaults": {
           "arrowcolor": "#2a3f5f",
           "arrowhead": 0,
           "arrowwidth": 1
          },
          "autotypenumbers": "strict",
          "coloraxis": {
           "colorbar": {
            "outlinewidth": 0,
            "ticks": ""
           }
          },
          "colorscale": {
           "diverging": [
            [
             0,
             "#8e0152"
            ],
            [
             0.1,
             "#c51b7d"
            ],
            [
             0.2,
             "#de77ae"
            ],
            [
             0.3,
             "#f1b6da"
            ],
            [
             0.4,
             "#fde0ef"
            ],
            [
             0.5,
             "#f7f7f7"
            ],
            [
             0.6,
             "#e6f5d0"
            ],
            [
             0.7,
             "#b8e186"
            ],
            [
             0.8,
             "#7fbc41"
            ],
            [
             0.9,
             "#4d9221"
            ],
            [
             1,
             "#276419"
            ]
           ],
           "sequential": [
            [
             0,
             "#0d0887"
            ],
            [
             0.1111111111111111,
             "#46039f"
            ],
            [
             0.2222222222222222,
             "#7201a8"
            ],
            [
             0.3333333333333333,
             "#9c179e"
            ],
            [
             0.4444444444444444,
             "#bd3786"
            ],
            [
             0.5555555555555556,
             "#d8576b"
            ],
            [
             0.6666666666666666,
             "#ed7953"
            ],
            [
             0.7777777777777778,
             "#fb9f3a"
            ],
            [
             0.8888888888888888,
             "#fdca26"
            ],
            [
             1,
             "#f0f921"
            ]
           ],
           "sequentialminus": [
            [
             0,
             "#0d0887"
            ],
            [
             0.1111111111111111,
             "#46039f"
            ],
            [
             0.2222222222222222,
             "#7201a8"
            ],
            [
             0.3333333333333333,
             "#9c179e"
            ],
            [
             0.4444444444444444,
             "#bd3786"
            ],
            [
             0.5555555555555556,
             "#d8576b"
            ],
            [
             0.6666666666666666,
             "#ed7953"
            ],
            [
             0.7777777777777778,
             "#fb9f3a"
            ],
            [
             0.8888888888888888,
             "#fdca26"
            ],
            [
             1,
             "#f0f921"
            ]
           ]
          },
          "colorway": [
           "#636efa",
           "#EF553B",
           "#00cc96",
           "#ab63fa",
           "#FFA15A",
           "#19d3f3",
           "#FF6692",
           "#B6E880",
           "#FF97FF",
           "#FECB52"
          ],
          "font": {
           "color": "#2a3f5f"
          },
          "geo": {
           "bgcolor": "white",
           "lakecolor": "white",
           "landcolor": "#E5ECF6",
           "showlakes": true,
           "showland": true,
           "subunitcolor": "white"
          },
          "hoverlabel": {
           "align": "left"
          },
          "hovermode": "closest",
          "mapbox": {
           "style": "light"
          },
          "paper_bgcolor": "white",
          "plot_bgcolor": "#E5ECF6",
          "polar": {
           "angularaxis": {
            "gridcolor": "white",
            "linecolor": "white",
            "ticks": ""
           },
           "bgcolor": "#E5ECF6",
           "radialaxis": {
            "gridcolor": "white",
            "linecolor": "white",
            "ticks": ""
           }
          },
          "scene": {
           "xaxis": {
            "backgroundcolor": "#E5ECF6",
            "gridcolor": "white",
            "gridwidth": 2,
            "linecolor": "white",
            "showbackground": true,
            "ticks": "",
            "zerolinecolor": "white"
           },
           "yaxis": {
            "backgroundcolor": "#E5ECF6",
            "gridcolor": "white",
            "gridwidth": 2,
            "linecolor": "white",
            "showbackground": true,
            "ticks": "",
            "zerolinecolor": "white"
           },
           "zaxis": {
            "backgroundcolor": "#E5ECF6",
            "gridcolor": "white",
            "gridwidth": 2,
            "linecolor": "white",
            "showbackground": true,
            "ticks": "",
            "zerolinecolor": "white"
           }
          },
          "shapedefaults": {
           "line": {
            "color": "#2a3f5f"
           }
          },
          "ternary": {
           "aaxis": {
            "gridcolor": "white",
            "linecolor": "white",
            "ticks": ""
           },
           "baxis": {
            "gridcolor": "white",
            "linecolor": "white",
            "ticks": ""
           },
           "bgcolor": "#E5ECF6",
           "caxis": {
            "gridcolor": "white",
            "linecolor": "white",
            "ticks": ""
           }
          },
          "title": {
           "x": 0.05
          },
          "xaxis": {
           "automargin": true,
           "gridcolor": "white",
           "linecolor": "white",
           "ticks": "",
           "title": {
            "standoff": 15
           },
           "zerolinecolor": "white",
           "zerolinewidth": 2
          },
          "yaxis": {
           "automargin": true,
           "gridcolor": "white",
           "linecolor": "white",
           "ticks": "",
           "title": {
            "standoff": 15
           },
           "zerolinecolor": "white",
           "zerolinewidth": 2
          }
         }
        },
        "title": {
         "font": {
          "color": "white",
          "family": "Century Gothic",
          "size": 24,
          "weight": "normal"
         },
         "text": "Most Famous Item per Zip Code"
        },
        "width": 1200,
        "xaxis": {
         "anchor": "y",
         "autorange": true,
         "color": "white",
         "domain": [
          0,
          1
         ],
         "range": [
          49784.59773961169,
          52973.13832013432
         ],
         "showgrid": false,
         "tickcolor": "white",
         "tickfont": {
          "color": "white",
          "weight": "normal"
         },
         "title": {
          "font": {
           "color": "white",
           "weight": "normal"
          },
          "text": "Zip Code"
         },
         "type": "linear",
         "zeroline": false
        },
        "yaxis": {
         "anchor": "x",
         "autorange": true,
         "color": "white",
         "domain": [
          0,
          1
         ],
         "range": [
          -101.38940890314815,
          1783.228396405794
         ],
         "showgrid": false,
         "tickcolor": "white",
         "tickfont": {
          "color": "white",
          "weight": "normal"
         },
         "title": {
          "font": {
           "color": "white",
           "weight": "normal"
          },
          "text": "Bottles Sold"
         },
         "type": "linear",
         "zeroline": false
        }
       }
      },
      "image/png": "[encoded data removed]",
      "text/html": [
       "<div>                            <div id=\"a89a2783-d5d8-4ecc-9a0a-af64aceecf75\" class=\"plotly-graph-div\" style=\"height:800px; width:1200px;\"></div>            <script type=\"text/javascript\">                require([\"plotly\"], function(Plotly) {                    window.PLOTLYENV=window.PLOTLYENV || {};                                    if (document.getElementById(\"a89a2783-d5d8-4ecc-9a0a-af64aceecf75\")) {                    Plotly.newPlot(                        \"a89a2783-d5d8-4ecc-9a0a-af64aceecf75\",                        [{\"customdata\":[[\"Member's Mark Spiced Rum\"],[\"Paramount Triple Sec\"],[\"Platinum 7x Vodka\"],[\"Kamora Coffee Liqueur\"],[\"Jagermeister w\\u002f2 Shot Glasses\"],[\"Kahlua Coffee\"],[\"Avion Silver w\\u002fPowell & Mahoney Margarita Mix\"],[\"Juarez Triple Sec\"],[\"Paul Masson Peach Grande Amber Brandy\"],[\"Di Amore Quattro Orange\"],[\"Bacardi Gold Rum PET\"],[\"Ole Smoky Blackberry Moonshine Mini\"],[\"Five O'clock Vodka\"],[\"Titos Vodka\"],[\"Phillips Root Beer Schnapps\"],[\"Ole Smoky Apple Pie Moonshine 70prf Mini\"],[\"Tortilla Gold Dss\"],[\"Pinnacle Peach w\\u002f Punch Dispenser\"],[\"Jameson\"],[\"Bacardi Gold Rum\"],[\"Kahlua Coffee Liqueur\"],[\"Dekuyper Triple Sec\"],[\"Basil Hayden Dark Rye\"],[\"Juarez Triple Sec\"],[\"Paramount Gold Rum\"],[\"Kamora Coffee Liqueur\"],[\"Bacardi Gold Rum Mini\"],[\"Five O'clock Vodka\"],[\"Kahlua Coffee\"],[\"Juarez Triple Sec\"],[\"Maestro Agavero Gold\"],[\"Juarez Gold Dss\"],[\"Cedar Ridge Single Malt Single Barrel Select\"],[\"Montezuma Triple Sec\"],[\"Everclear Alcohol\"],[\"Juarez Triple Sec\"],[\"Five O'clock Vodka\"],[\"Kapali Coffee Liqueur\"],[\"Paramount Gold Rum\"],[\"Dekuyper Peachtree\"],[\"Martell VSSD\"]],\"hovertemplate\":\"Zip Code=%{x}\\u003cbr\\u003eBottles Sold=%{marker.color}\\u003cbr\\u003eitem_description=%{customdata[0]}\\u003cextra\\u003e\\u003c\\u002fextra\\u003e\",\"legendgroup\":\"\",\"marker\":{\"color\":[288,4,48,6,84,72,90,240,24,120,102,48,30,108,4,8,768,180,60,5,240,6,18,48,2,4,5,2,1,60,48,1560,90,216,36,6,48,36,24,4,2],\"coloraxis\":\"coloraxis\",\"size\":[288,4,48,6,84,72,90,240,24,120,102,48,30,108,4,8,768,180,60,5,240,6,18,48,2,4,5,2,1,60,48,1560,90,216,36,6,48,36,24,4,2],\"sizemode\":\"area\",\"sizeref\":0.43333333333333335,\"symbol\":\"circle\",\"line\":{\"width\":0}},\"mode\":\"markers\",\"name\":\"\",\"orientation\":\"v\",\"showlegend\":false,\"x\":[50010,50022,50131,50158,50263,50265,50266,50314,50317,50320,50327,50401,50461,50501,50588,50662,50702,50703,50707,50801,51106,51247,51401,51501,51555,52001,52003,52136,52172,52240,52241,52314,52338,52402,52411,52556,52601,52627,52732,52761,52804],\"xaxis\":\"x\",\"y\":[288,4,48,6,84,72,90,240,24,120,102,48,30,108,4,8,768,180,60,5,240,6,18,48,2,4,5,2,1,60,48,1560,90,216,36,6,48,36,24,4,2],\"yaxis\":\"y\",\"type\":\"scatter\"}],                        {\"template\":{\"data\":{\"histogram2dcontour\":[{\"type\":\"histogram2dcontour\",\"colorbar\":{\"outlinewidth\":0,\"ticks\":\"\"},\"colorscale\":[[0.0,\"#0d0887\"],[0.1111111111111111,\"#46039f\"],[0.2222222222222222,\"#7201a8\"],[0.3333333333333333,\"#9c179e\"],[0.4444444444444444,\"#bd3786\"],[0.5555555555555556,\"#d8576b\"],[0.6666666666666666,\"#ed7953\"],[0.7777777777777778,\"#fb9f3a\"],[0.8888888888888888,\"#fdca26\"],[1.0,\"#f0f921\"]]}],\"choropleth\":[{\"type\":\"choropleth\",\"colorbar\":{\"outlinewidth\":0,\"ticks\":\"\"}}],\"histogram2d\":[{\"type\":\"histogram2d\",\"colorbar\":{\"outlinewidth\":0,\"ticks\":\"\"},\"colorscale\":[[0.0,\"#0d0887\"],[0.1111111111111111,\"#46039f\"],[0.2222222222222222,\"#7201a8\"],[0.3333333333333333,\"#9c179e\"],[0.4444444444444444,\"#bd3786\"],[0.5555555555555556,\"#d8576b\"],[0.6666666666666666,\"#ed7953\"],[0.7777777777777778,\"#fb9f3a\"],[0.8888888888888888,\"#fdca26\"],[1.0,\"#f0f921\"]]}],\"heatmap\":[{\"type\":\"heatmap\",\"colorbar\":{\"outlinewidth\":0,\"ticks\":\"\"},\"colorscale\":[[0.0,\"#0d0887\"],[0.1111111111111111,\"#46039f\"],[0.2222222222222222,\"#7201a8\"],[0.3333333333333333,\"#9c179e\"],[0.4444444444444444,\"#bd3786\"],[0.5555555555555556,\"#d8576b\"],[0.6666666666666666,\"#ed7953\"],[0.7777777777777778,\"#fb9f3a\"],[0.8888888888888888,\"#fdca26\"],[1.0,\"#f0f921\"]]}],\"heatmapgl\":[{\"type\":\"heatmapgl\",\"colorbar\":{\"outlinewidth\":0,\"ticks\":\"\"},\"colorscale\":[[0.0,\"#0d0887\"],[0.1111111111111111,\"#46039f\"],[0.2222222222222222,\"#7201a8\"],[0.3333333333333333,\"#9c179e\"],[0.4444444444444444,\"#bd3786\"],[0.5555555555555556,\"#d8576b\"],[0.6666666666666666,\"#ed7953\"],[0.7777777777777778,\"#fb9f3a\"],[0.8888888888888888,\"#fdca26\"],[1.0,\"#f0f921\"]]}],\"contourcarpet\":[{\"type\":\"contourcarpet\",\"colorbar\":{\"outlinewidth\":0,\"ticks\":\"\"}}],\"contour\":[{\"type\":\"contour\",\"colorbar\":{\"outlinewidth\":0,\"ticks\":\"\"},\"colorscale\":[[0.0,\"#0d0887\"],[0.1111111111111111,\"#46039f\"],[0.2222222222222222,\"#7201a8\"],[0.3333333333333333,\"#9c179e\"],[0.4444444444444444,\"#bd3786\"],[0.5555555555555556,\"#d8576b\"],[0.6666666666666666,\"#ed7953\"],[0.7777777777777778,\"#fb9f3a\"],[0.8888888888888888,\"#fdca26\"],[1.0,\"#f0f921\"]]}],\"surface\":[{\"type\":\"surface\",\"colorbar\":{\"outlinewidth\":0,\"ticks\":\"\"},\"colorscale\":[[0.0,\"#0d0887\"],[0.1111111111111111,\"#46039f\"],[0.2222222222222222,\"#7201a8\"],[0.3333333333333333,\"#9c179e\"],[0.4444444444444444,\"#bd3786\"],[0.5555555555555556,\"#d8576b\"],[0.6666666666666666,\"#ed7953\"],[0.7777777777777778,\"#fb9f3a\"],[0.8888888888888888,\"#fdca26\"],[1.0,\"#f0f921\"]]}],\"mesh3d\":[{\"type\":\"mesh3d\",\"colorbar\":{\"outlinewidth\":0,\"ticks\":\"\"}}],\"scatter\":[{\"fillpattern\":{\"fillmode\":\"overlay\",\"size\":10,\"solidity\":0.2},\"type\":\"scatter\"}],\"parcoords\":[{\"type\":\"parcoords\",\"line\":{\"colorbar\":{\"outlinewidth\":0,\"ticks\":\"\"}}}],\"scatterpolargl\":[{\"type\":\"scatterpolargl\",\"marker\":{\"colorbar\":{\"outlinewidth\":0,\"ticks\":\"\"}}}],\"bar\":[{\"error_x\":{\"color\":\"#2a3f5f\"},\"error_y\":{\"color\":\"#2a3f5f\"},\"marker\":{\"line\":{\"color\":\"#E5ECF6\",\"width\":0.5},\"pattern\":{\"fillmode\":\"overlay\",\"size\":10,\"solidity\":0.2}},\"type\":\"bar\"}],\"scattergeo\":[{\"type\":\"scattergeo\",\"marker\":{\"colorbar\":{\"outlinewidth\":0,\"ticks\":\"\"}}}],\"scatterpolar\":[{\"type\":\"scatterpolar\",\"marker\":{\"colorbar\":{\"outlinewidth\":0,\"ticks\":\"\"}}}],\"histogram\":[{\"marker\":{\"pattern\":{\"fillmode\":\"overlay\",\"size\":10,\"solidity\":0.2}},\"type\":\"histogram\"}],\"scattergl\":[{\"type\":\"scattergl\",\"marker\":{\"colorbar\":{\"outlinewidth\":0,\"ticks\":\"\"}}}],\"scatter3d\":[{\"type\":\"scatter3d\",\"line\":{\"colorbar\":{\"outlinewidth\":0,\"ticks\":\"\"}},\"marker\":{\"colorbar\":{\"outlinewidth\":0,\"ticks\":\"\"}}}],\"scattermapbox\":[{\"type\":\"scattermapbox\",\"marker\":{\"colorbar\":{\"outlinewidth\":0,\"ticks\":\"\"}}}],\"scatterternary\":[{\"type\":\"scatterternary\",\"marker\":{\"colorbar\":{\"outlinewidth\":0,\"ticks\":\"\"}}}],\"scattercarpet\":[{\"type\":\"scattercarpet\",\"marker\":{\"colorbar\":{\"outlinewidth\":0,\"ticks\":\"\"}}}],\"carpet\":[{\"aaxis\":{\"endlinecolor\":\"#2a3f5f\",\"gridcolor\":\"white\",\"linecolor\":\"white\",\"minorgridcolor\":\"white\",\"startlinecolor\":\"#2a3f5f\"},\"baxis\":{\"endlinecolor\":\"#2a3f5f\",\"gridcolor\":\"white\",\"linecolor\":\"white\",\"minorgridcolor\":\"white\",\"startlinecolor\":\"#2a3f5f\"},\"type\":\"carpet\"}],\"table\":[{\"cells\":{\"fill\":{\"color\":\"#EBF0F8\"},\"line\":{\"color\":\"white\"}},\"header\":{\"fill\":{\"color\":\"#C8D4E3\"},\"line\":{\"color\":\"white\"}},\"type\":\"table\"}],\"barpolar\":[{\"marker\":{\"line\":{\"color\":\"#E5ECF6\",\"width\":0.5},\"pattern\":{\"fillmode\":\"overlay\",\"size\":10,\"solidity\":0.2}},\"type\":\"barpolar\"}],\"pie\":[{\"automargin\":true,\"type\":\"pie\"}]},\"layout\":{\"autotypenumbers\":\"strict\",\"colorway\":[\"#636efa\",\"#EF553B\",\"#00cc96\",\"#ab63fa\",\"#FFA15A\",\"#19d3f3\",\"#FF6692\",\"#B6E880\",\"#FF97FF\",\"#FECB52\"],\"font\":{\"color\":\"#2a3f5f\"},\"hovermode\":\"closest\",\"hoverlabel\":{\"align\":\"left\"},\"paper_bgcolor\":\"white\",\"plot_bgcolor\":\"#E5ECF6\",\"polar\":{\"bgcolor\":\"#E5ECF6\",\"angularaxis\":{\"gridcolor\":\"white\",\"linecolor\":\"white\",\"ticks\":\"\"},\"radialaxis\":{\"gridcolor\":\"white\",\"linecolor\":\"white\",\"ticks\":\"\"}},\"ternary\":{\"bgcolor\":\"#E5ECF6\",\"aaxis\":{\"gridcolor\":\"white\",\"linecolor\":\"white\",\"ticks\":\"\"},\"baxis\":{\"gridcolor\":\"white\",\"linecolor\":\"white\",\"ticks\":\"\"},\"caxis\":{\"gridcolor\":\"white\",\"linecolor\":\"white\",\"ticks\":\"\"}},\"coloraxis\":{\"colorbar\":{\"outlinewidth\":0,\"ticks\":\"\"}},\"colorscale\":{\"sequential\":[[0.0,\"#0d0887\"],[0.1111111111111111,\"#46039f\"],[0.2222222222222222,\"#7201a8\"],[0.3333333333333333,\"#9c179e\"],[0.4444444444444444,\"#bd3786\"],[0.5555555555555556,\"#d8576b\"],[0.6666666666666666,\"#ed7953\"],[0.7777777777777778,\"#fb9f3a\"],[0.8888888888888888,\"#fdca26\"],[1.0,\"#f0f921\"]],\"sequentialminus\":[[0.0,\"#0d0887\"],[0.1111111111111111,\"#46039f\"],[0.2222222222222222,\"#7201a8\"],[0.3333333333333333,\"#9c179e\"],[0.4444444444444444,\"#bd3786\"],[0.5555555555555556,\"#d8576b\"],[0.6666666666666666,\"#ed7953\"],[0.7777777777777778,\"#fb9f3a\"],[0.8888888888888888,\"#fdca26\"],[1.0,\"#f0f921\"]],\"diverging\":[[0,\"#8e0152\"],[0.1,\"#c51b7d\"],[0.2,\"#de77ae\"],[0.3,\"#f1b6da\"],[0.4,\"#fde0ef\"],[0.5,\"#f7f7f7\"],[0.6,\"#e6f5d0\"],[0.7,\"#b8e186\"],[0.8,\"#7fbc41\"],[0.9,\"#4d9221\"],[1,\"#276419\"]]},\"xaxis\":{\"gridcolor\":\"white\",\"linecolor\":\"white\",\"ticks\":\"\",\"title\":{\"standoff\":15},\"zerolinecolor\":\"white\",\"automargin\":true,\"zerolinewidth\":2},\"yaxis\":{\"gridcolor\":\"white\",\"linecolor\":\"white\",\"ticks\":\"\",\"title\":{\"standoff\":15},\"zerolinecolor\":\"white\",\"automargin\":true,\"zerolinewidth\":2},\"scene\":{\"xaxis\":{\"backgroundcolor\":\"#E5ECF6\",\"gridcolor\":\"white\",\"linecolor\":\"white\",\"showbackground\":true,\"ticks\":\"\",\"zerolinecolor\":\"white\",\"gridwidth\":2},\"yaxis\":{\"backgroundcolor\":\"#E5ECF6\",\"gridcolor\":\"white\",\"linecolor\":\"white\",\"showbackground\":true,\"ticks\":\"\",\"zerolinecolor\":\"white\",\"gridwidth\":2},\"zaxis\":{\"backgroundcolor\":\"#E5ECF6\",\"gridcolor\":\"white\",\"linecolor\":\"white\",\"showbackground\":true,\"ticks\":\"\",\"zerolinecolor\":\"white\",\"gridwidth\":2}},\"shapedefaults\":{\"line\":{\"color\":\"#2a3f5f\"}},\"annotationdefaults\":{\"arrowcolor\":\"#2a3f5f\",\"arrowhead\":0,\"arrowwidth\":1},\"geo\":{\"bgcolor\":\"white\",\"landcolor\":\"#E5ECF6\",\"subunitcolor\":\"white\",\"showland\":true,\"showlakes\":true,\"lakecolor\":\"white\"},\"title\":{\"x\":0.05},\"mapbox\":{\"style\":\"light\"}}},\"xaxis\":{\"anchor\":\"y\",\"domain\":[0.0,1.0],\"title\":{\"text\":\"Zip Code\",\"font\":{\"color\":\"white\",\"weight\":\"normal\"}},\"tickfont\":{\"color\":\"white\",\"weight\":\"normal\"},\"showgrid\":false,\"zeroline\":false,\"color\":\"white\",\"tickcolor\":\"white\"},\"yaxis\":{\"anchor\":\"x\",\"domain\":[0.0,1.0],\"title\":{\"text\":\"Bottles Sold\",\"font\":{\"color\":\"white\",\"weight\":\"normal\"}},\"tickfont\":{\"color\":\"white\",\"weight\":\"normal\"},\"showgrid\":false,\"zeroline\":false,\"color\":\"white\",\"tickcolor\":\"white\"},\"coloraxis\":{\"colorbar\":{\"title\":{\"text\":\"Bottles Sold\"}},\"colorscale\":[[0.0,\"rgb(255,255,204)\"],[0.125,\"rgb(255,237,160)\"],[0.25,\"rgb(254,217,118)\"],[0.375,\"rgb(254,178,76)\"],[0.5,\"rgb(253,141,60)\"],[0.625,\"rgb(252,78,42)\"],[0.75,\"rgb(227,26,28)\"],[0.875,\"rgb(189,0,38)\"],[1.0,\"rgb(128,0,38)\"]]},\"legend\":{\"tracegroupgap\":0,\"itemsizing\":\"constant\",\"font\":{\"family\":\"Century Gothic\",\"size\":12,\"color\":\"white\",\"weight\":\"normal\"},\"bgcolor\":\"rgba(0, 0, 0, 0.5)\"},\"title\":{\"text\":\"Most Famous Item per Zip Code\",\"font\":{\"family\":\"Century Gothic\",\"size\":24,\"color\":\"white\",\"weight\":\"normal\"}},\"font\":{\"family\":\"Century Gothic\",\"size\":14,\"color\":\"white\",\"weight\":\"normal\"},\"margin\":{\"l\":50,\"r\":50,\"t\":50,\"b\":50},\"paper_bgcolor\":\"black\",\"plot_bgcolor\":\"black\",\"showlegend\":true,\"width\":1200,\"height\":800},                        {\"responsive\": true}                    ).then(function(){\n",
       "                            \n",
       "var gd = document.getElementById('a89a2783-d5d8-4ecc-9a0a-af64aceecf75');\n",
       "var x = new MutationObserver(function (mutations, observer) {{\n",
       "        var display = window.getComputedStyle(gd).display;\n",
       "        if (!display || display === 'none') {{\n",
       "            console.log([gd, 'removed!']);\n",
       "            Plotly.purge(gd);\n",
       "            observer.disconnect();\n",
       "        }}\n",
       "}});\n",
       "\n",
       "// Listen for the removal of the full notebook cells\n",
       "var notebookContainer = gd.closest('#notebook-container');\n",
       "if (notebookContainer) {{\n",
       "    x.observe(notebookContainer, {childList: true});\n",
       "}}\n",
       "\n",
       "// Listen for the clearing of the current output cell\n",
       "var outputEl = gd.closest('.output');\n",
       "if (outputEl) {{\n",
       "    x.observe(outputEl, {childList: true});\n",
       "}}\n",
       "\n",
       "                        })                };                });            </script>        </div>"
      ]
     },
     "metadata": {},
     "output_type": "display_data"
    }
   ],
   "source": [
    "\n",
    "fig = px.scatter(\n",
    "    popular_items,\n",
    "    x='zip_code',\n",
    "    y='bottles_sold',\n",
    "    size='bottles_sold',\n",
    "    color='bottles_sold',\n",
    "    color_continuous_scale='YlOrRd',\n",
    "    title='Most Famous Item per Zip Code',\n",
    "    labels={'zip_code': 'Zip Code', 'bottles_sold': 'Bottles Sold'},\n",
    "    hover_data={'item_description': True, 'bottles_sold': True},\n",
    "    size_max=60\n",
    ")\n",
    "\n",
    "fig.update_traces(marker=dict(\n",
    "    line=dict(width=0)  \n",
    "))\n",
    "\n",
    "fig.update_layout(\n",
    "    title='Most Famous Item per Zip Code',\n",
    "    title_font=dict(\n",
    "        family='Century Gothic',\n",
    "        size=24,\n",
    "        color='white',\n",
    "        weight='normal'\n",
    "    ),\n",
    "    font=dict(\n",
    "        family='Century Gothic',\n",
    "        size=14,\n",
    "        color='white',\n",
    "        weight='normal'\n",
    "    ),\n",
    "    paper_bgcolor='black',\n",
    "    plot_bgcolor='black',\n",
    "    xaxis=dict(\n",
    "        showgrid=False,\n",
    "        zeroline=False,\n",
    "        color='white',\n",
    "        tickcolor='white',\n",
    "        title_font=dict(color='white', weight='normal'),\n",
    "        tickfont=dict(color='white', weight='normal')\n",
    "    ),\n",
    "    yaxis=dict(\n",
    "        showgrid=False,\n",
    "        zeroline=False,\n",
    "        color='white',\n",
    "        tickcolor='white',\n",
    "        title_font=dict(color='white', weight='normal'),\n",
    "        tickfont=dict(color='white', weight='normal')\n",
    "    ),\n",
    "    showlegend=True,\n",
    "    legend=dict(\n",
    "        font=dict(\n",
    "            family='Century Gothic',\n",
    "            size=12,\n",
    "            color='white',\n",
    "            weight='normal'\n",
    "        ),\n",
    "        bgcolor='rgba(0, 0, 0, 0.5)'\n",
    "    ),\n",
    "    margin=dict(l=50, r=50, t=50, b=50),\n",
    "    width=1200,\n",
    "    height=800\n",
    ")\n",
    "\n",
    "fig.show()\n"
   ]
  },
  {
   "cell_type": "markdown",
   "id": "c78f2085-4320-4b98-9a49-9ee017509623",
   "metadata": {},
   "source": [
    "## % of Total Sales per Store"
   ]
  },
  {
   "cell_type": "code",
   "execution_count": 33,
   "id": "15afa342-e89d-41a5-a0a4-d47ee2fcba29",
   "metadata": {},
   "outputs": [],
   "source": [
    "sales_per_store = data_2016_2019[['store_name','sale_dollars']]"
   ]
  },
  {
   "cell_type": "code",
   "execution_count": 38,
   "id": "90854402-bd99-4593-9919-45aa1750c20d",
   "metadata": {},
   "outputs": [],
   "source": [
    "sales_per_store = data_2016_2019.groupby('store_name')['sale_dollars'].sum().reset_index()\n",
    "sales_per_store['percentage_of_total_sales'] = sales_per_store['sale_dollars'] / data_2016_2019['sale_dollars'].sum()"
   ]
  },
  {
   "cell_type": "code",
   "execution_count": 40,
   "id": "bc78e579-87f1-4def-91d8-0d17b975585c",
   "metadata": {},
   "outputs": [],
   "source": [
    "sales_per_store= sales_per_store.sort_values(by = 'percentage_of_total_sales', ascending=False)"
   ]
  },
  {
   "cell_type": "code",
   "execution_count": 41,
   "id": "dea98a1e-9b74-44db-a93f-dd3ab26b61b2",
   "metadata": {},
   "outputs": [
    {
     "data": {
      "text/html": [
       "<div>\n",
       "<style scoped>\n",
       "    .dataframe tbody tr th:only-of-type {\n",
       "        vertical-align: middle;\n",
       "    }\n",
       "\n",
       "    .dataframe tbody tr th {\n",
       "        vertical-align: top;\n",
       "    }\n",
       "\n",
       "    .dataframe thead th {\n",
       "        text-align: right;\n",
       "    }\n",
       "</style>\n",
       "<table border=\"1\" class=\"dataframe\">\n",
       "  <thead>\n",
       "    <tr style=\"text-align: right;\">\n",
       "      <th></th>\n",
       "      <th>store_name</th>\n",
       "      <th>sale_dollars</th>\n",
       "      <th>percentage_of_total_sales</th>\n",
       "    </tr>\n",
       "  </thead>\n",
       "  <tbody>\n",
       "    <tr>\n",
       "      <th>49</th>\n",
       "      <td>Wilkie Liquors</td>\n",
       "      <td>11620.80</td>\n",
       "      <td>0.205418</td>\n",
       "    </tr>\n",
       "    <tr>\n",
       "      <th>41</th>\n",
       "      <td>Sam's Club 6432 / Sioux City</td>\n",
       "      <td>6641.04</td>\n",
       "      <td>0.117392</td>\n",
       "    </tr>\n",
       "    <tr>\n",
       "      <th>42</th>\n",
       "      <td>Sam's Club 6514 / Waterloo</td>\n",
       "      <td>5199.36</td>\n",
       "      <td>0.091908</td>\n",
       "    </tr>\n",
       "    <tr>\n",
       "      <th>14</th>\n",
       "      <td>Hy-Vee #3 / BDI / Des Moines</td>\n",
       "      <td>4124.04</td>\n",
       "      <td>0.072900</td>\n",
       "    </tr>\n",
       "    <tr>\n",
       "      <th>43</th>\n",
       "      <td>Sam's Club 6568 / Ames</td>\n",
       "      <td>3913.92</td>\n",
       "      <td>0.069185</td>\n",
       "    </tr>\n",
       "    <tr>\n",
       "      <th>2</th>\n",
       "      <td>Cedar Ridge Vineyards</td>\n",
       "      <td>3712.50</td>\n",
       "      <td>0.065625</td>\n",
       "    </tr>\n",
       "    <tr>\n",
       "      <th>32</th>\n",
       "      <td>Hy-Vee Wine and Spirits / WDM</td>\n",
       "      <td>3372.30</td>\n",
       "      <td>0.059611</td>\n",
       "    </tr>\n",
       "    <tr>\n",
       "      <th>8</th>\n",
       "      <td>Fareway Stores #138 / Pleasant Hill</td>\n",
       "      <td>2295.00</td>\n",
       "      <td>0.040568</td>\n",
       "    </tr>\n",
       "    <tr>\n",
       "      <th>19</th>\n",
       "      <td>Hy-Vee Food Store #2 / Waterloo</td>\n",
       "      <td>1992.15</td>\n",
       "      <td>0.035215</td>\n",
       "    </tr>\n",
       "    <tr>\n",
       "      <th>24</th>\n",
       "      <td>Hy-Vee Food Store / Fort Dodge</td>\n",
       "      <td>1563.84</td>\n",
       "      <td>0.027644</td>\n",
       "    </tr>\n",
       "    <tr>\n",
       "      <th>16</th>\n",
       "      <td>Hy-Vee / Waukee</td>\n",
       "      <td>1518.72</td>\n",
       "      <td>0.026846</td>\n",
       "    </tr>\n",
       "    <tr>\n",
       "      <th>7</th>\n",
       "      <td>Fareway Stores #067 / Evansdale</td>\n",
       "      <td>1349.40</td>\n",
       "      <td>0.023853</td>\n",
       "    </tr>\n",
       "    <tr>\n",
       "      <th>9</th>\n",
       "      <td>Fareway Stores #153  /  W Des Moines</td>\n",
       "      <td>1349.28</td>\n",
       "      <td>0.023851</td>\n",
       "    </tr>\n",
       "    <tr>\n",
       "      <th>18</th>\n",
       "      <td>Hy-Vee Food Store #1 / Mason City</td>\n",
       "      <td>900.24</td>\n",
       "      <td>0.015913</td>\n",
       "    </tr>\n",
       "    <tr>\n",
       "      <th>3</th>\n",
       "      <td>Central City 2</td>\n",
       "      <td>871.20</td>\n",
       "      <td>0.015400</td>\n",
       "    </tr>\n",
       "    <tr>\n",
       "      <th>20</th>\n",
       "      <td>Hy-Vee Food Store #3 / Waterloo</td>\n",
       "      <td>807.84</td>\n",
       "      <td>0.014280</td>\n",
       "    </tr>\n",
       "    <tr>\n",
       "      <th>21</th>\n",
       "      <td>Hy-Vee Food Store / Carroll</td>\n",
       "      <td>737.46</td>\n",
       "      <td>0.013036</td>\n",
       "    </tr>\n",
       "    <tr>\n",
       "      <th>30</th>\n",
       "      <td>Hy-Vee Wine and Spirits / Iowa City</td>\n",
       "      <td>706.32</td>\n",
       "      <td>0.012485</td>\n",
       "    </tr>\n",
       "    <tr>\n",
       "      <th>44</th>\n",
       "      <td>Sam's Club 8162 / Cedar Rapids</td>\n",
       "      <td>691.20</td>\n",
       "      <td>0.012218</td>\n",
       "    </tr>\n",
       "    <tr>\n",
       "      <th>22</th>\n",
       "      <td>Hy-Vee Food Store / Coralville</td>\n",
       "      <td>504.00</td>\n",
       "      <td>0.008909</td>\n",
       "    </tr>\n",
       "    <tr>\n",
       "      <th>15</th>\n",
       "      <td>Hy-Vee #7 / Cedar Rapids</td>\n",
       "      <td>486.00</td>\n",
       "      <td>0.008591</td>\n",
       "    </tr>\n",
       "    <tr>\n",
       "      <th>37</th>\n",
       "      <td>Osage Payless Foods</td>\n",
       "      <td>324.00</td>\n",
       "      <td>0.005727</td>\n",
       "    </tr>\n",
       "    <tr>\n",
       "      <th>27</th>\n",
       "      <td>Hy-Vee Food and Drug / Clinton</td>\n",
       "      <td>282.24</td>\n",
       "      <td>0.004989</td>\n",
       "    </tr>\n",
       "    <tr>\n",
       "      <th>39</th>\n",
       "      <td>Quicker Liquor Store</td>\n",
       "      <td>237.24</td>\n",
       "      <td>0.004194</td>\n",
       "    </tr>\n",
       "    <tr>\n",
       "      <th>33</th>\n",
       "      <td>I-80 Liquor / Council Bluffs</td>\n",
       "      <td>174.24</td>\n",
       "      <td>0.003080</td>\n",
       "    </tr>\n",
       "    <tr>\n",
       "      <th>4</th>\n",
       "      <td>Depot Liquor &amp; Grocery</td>\n",
       "      <td>112.47</td>\n",
       "      <td>0.001988</td>\n",
       "    </tr>\n",
       "    <tr>\n",
       "      <th>11</th>\n",
       "      <td>Fareway Stores #412 / Oelwein</td>\n",
       "      <td>105.04</td>\n",
       "      <td>0.001857</td>\n",
       "    </tr>\n",
       "    <tr>\n",
       "      <th>40</th>\n",
       "      <td>Quik Stop  /  Burlington</td>\n",
       "      <td>81.60</td>\n",
       "      <td>0.001442</td>\n",
       "    </tr>\n",
       "    <tr>\n",
       "      <th>26</th>\n",
       "      <td>Hy-Vee Food Store / Marshalltown</td>\n",
       "      <td>75.54</td>\n",
       "      <td>0.001335</td>\n",
       "    </tr>\n",
       "    <tr>\n",
       "      <th>47</th>\n",
       "      <td>The Ox &amp; Wren Spirits and Gifts</td>\n",
       "      <td>75.12</td>\n",
       "      <td>0.001328</td>\n",
       "    </tr>\n",
       "    <tr>\n",
       "      <th>12</th>\n",
       "      <td>Fareway Stores #597 / Creston</td>\n",
       "      <td>71.25</td>\n",
       "      <td>0.001259</td>\n",
       "    </tr>\n",
       "    <tr>\n",
       "      <th>29</th>\n",
       "      <td>Hy-Vee Wine and Spirits / Hubbell</td>\n",
       "      <td>70.56</td>\n",
       "      <td>0.001247</td>\n",
       "    </tr>\n",
       "    <tr>\n",
       "      <th>46</th>\n",
       "      <td>Speedy Gas N Shop</td>\n",
       "      <td>68.18</td>\n",
       "      <td>0.001205</td>\n",
       "    </tr>\n",
       "    <tr>\n",
       "      <th>25</th>\n",
       "      <td>Hy-Vee Food Store / Johnston</td>\n",
       "      <td>64.32</td>\n",
       "      <td>0.001137</td>\n",
       "    </tr>\n",
       "    <tr>\n",
       "      <th>35</th>\n",
       "      <td>Logan Convenience Store</td>\n",
       "      <td>63.36</td>\n",
       "      <td>0.001120</td>\n",
       "    </tr>\n",
       "    <tr>\n",
       "      <th>34</th>\n",
       "      <td>Iowa Street Market, Inc.</td>\n",
       "      <td>50.36</td>\n",
       "      <td>0.000890</td>\n",
       "    </tr>\n",
       "    <tr>\n",
       "      <th>36</th>\n",
       "      <td>Nash Finch / Wholesale Food</td>\n",
       "      <td>45.72</td>\n",
       "      <td>0.000808</td>\n",
       "    </tr>\n",
       "    <tr>\n",
       "      <th>1</th>\n",
       "      <td>CVS Pharmacy #8526 / Cedar Rapids</td>\n",
       "      <td>42.00</td>\n",
       "      <td>0.000742</td>\n",
       "    </tr>\n",
       "    <tr>\n",
       "      <th>45</th>\n",
       "      <td>Sid's Beverage Shop</td>\n",
       "      <td>41.55</td>\n",
       "      <td>0.000734</td>\n",
       "    </tr>\n",
       "    <tr>\n",
       "      <th>48</th>\n",
       "      <td>Tobacco Hut #14 / Council Bluffs</td>\n",
       "      <td>33.24</td>\n",
       "      <td>0.000588</td>\n",
       "    </tr>\n",
       "    <tr>\n",
       "      <th>31</th>\n",
       "      <td>Hy-Vee Wine and Spirits / Storm Lake</td>\n",
       "      <td>33.00</td>\n",
       "      <td>0.000583</td>\n",
       "    </tr>\n",
       "    <tr>\n",
       "      <th>10</th>\n",
       "      <td>Fareway Stores #409 / Carroll</td>\n",
       "      <td>32.52</td>\n",
       "      <td>0.000575</td>\n",
       "    </tr>\n",
       "    <tr>\n",
       "      <th>28</th>\n",
       "      <td>Hy-Vee Wine and Spirits / Atlantic</td>\n",
       "      <td>23.04</td>\n",
       "      <td>0.000407</td>\n",
       "    </tr>\n",
       "    <tr>\n",
       "      <th>23</th>\n",
       "      <td>Hy-Vee Food Store / Fairfield</td>\n",
       "      <td>21.78</td>\n",
       "      <td>0.000385</td>\n",
       "    </tr>\n",
       "    <tr>\n",
       "      <th>38</th>\n",
       "      <td>Pump N Pak</td>\n",
       "      <td>21.00</td>\n",
       "      <td>0.000371</td>\n",
       "    </tr>\n",
       "    <tr>\n",
       "      <th>6</th>\n",
       "      <td>Famous Liquors</td>\n",
       "      <td>17.98</td>\n",
       "      <td>0.000318</td>\n",
       "    </tr>\n",
       "    <tr>\n",
       "      <th>17</th>\n",
       "      <td>Hy-Vee Drugstore / Council Bluffs</td>\n",
       "      <td>17.82</td>\n",
       "      <td>0.000315</td>\n",
       "    </tr>\n",
       "    <tr>\n",
       "      <th>13</th>\n",
       "      <td>Food Land Super Markets</td>\n",
       "      <td>13.26</td>\n",
       "      <td>0.000234</td>\n",
       "    </tr>\n",
       "    <tr>\n",
       "      <th>5</th>\n",
       "      <td>Double D Liquor Store</td>\n",
       "      <td>9.74</td>\n",
       "      <td>0.000172</td>\n",
       "    </tr>\n",
       "    <tr>\n",
       "      <th>0</th>\n",
       "      <td>Bootleggin' Barzini's Fin</td>\n",
       "      <td>6.75</td>\n",
       "      <td>0.000119</td>\n",
       "    </tr>\n",
       "  </tbody>\n",
       "</table>\n",
       "</div>"
      ],
      "text/plain": [
       "                              store_name  sale_dollars  \\\n",
       "49                        Wilkie Liquors      11620.80   \n",
       "41          Sam's Club 6432 / Sioux City       6641.04   \n",
       "42            Sam's Club 6514 / Waterloo       5199.36   \n",
       "14          Hy-Vee #3 / BDI / Des Moines       4124.04   \n",
       "43                Sam's Club 6568 / Ames       3913.92   \n",
       "2                  Cedar Ridge Vineyards       3712.50   \n",
       "32         Hy-Vee Wine and Spirits / WDM       3372.30   \n",
       "8    Fareway Stores #138 / Pleasant Hill       2295.00   \n",
       "19       Hy-Vee Food Store #2 / Waterloo       1992.15   \n",
       "24        Hy-Vee Food Store / Fort Dodge       1563.84   \n",
       "16                       Hy-Vee / Waukee       1518.72   \n",
       "7        Fareway Stores #067 / Evansdale       1349.40   \n",
       "9   Fareway Stores #153  /  W Des Moines       1349.28   \n",
       "18     Hy-Vee Food Store #1 / Mason City        900.24   \n",
       "3                         Central City 2        871.20   \n",
       "20       Hy-Vee Food Store #3 / Waterloo        807.84   \n",
       "21           Hy-Vee Food Store / Carroll        737.46   \n",
       "30   Hy-Vee Wine and Spirits / Iowa City        706.32   \n",
       "44        Sam's Club 8162 / Cedar Rapids        691.20   \n",
       "22        Hy-Vee Food Store / Coralville        504.00   \n",
       "15              Hy-Vee #7 / Cedar Rapids        486.00   \n",
       "37                   Osage Payless Foods        324.00   \n",
       "27        Hy-Vee Food and Drug / Clinton        282.24   \n",
       "39                  Quicker Liquor Store        237.24   \n",
       "33          I-80 Liquor / Council Bluffs        174.24   \n",
       "4                 Depot Liquor & Grocery        112.47   \n",
       "11         Fareway Stores #412 / Oelwein        105.04   \n",
       "40              Quik Stop  /  Burlington         81.60   \n",
       "26      Hy-Vee Food Store / Marshalltown         75.54   \n",
       "47       The Ox & Wren Spirits and Gifts         75.12   \n",
       "12         Fareway Stores #597 / Creston         71.25   \n",
       "29     Hy-Vee Wine and Spirits / Hubbell         70.56   \n",
       "46                     Speedy Gas N Shop         68.18   \n",
       "25          Hy-Vee Food Store / Johnston         64.32   \n",
       "35               Logan Convenience Store         63.36   \n",
       "34              Iowa Street Market, Inc.         50.36   \n",
       "36           Nash Finch / Wholesale Food         45.72   \n",
       "1      CVS Pharmacy #8526 / Cedar Rapids         42.00   \n",
       "45                   Sid's Beverage Shop         41.55   \n",
       "48      Tobacco Hut #14 / Council Bluffs         33.24   \n",
       "31  Hy-Vee Wine and Spirits / Storm Lake         33.00   \n",
       "10         Fareway Stores #409 / Carroll         32.52   \n",
       "28    Hy-Vee Wine and Spirits / Atlantic         23.04   \n",
       "23         Hy-Vee Food Store / Fairfield         21.78   \n",
       "38                            Pump N Pak         21.00   \n",
       "6                         Famous Liquors         17.98   \n",
       "17     Hy-Vee Drugstore / Council Bluffs         17.82   \n",
       "13               Food Land Super Markets         13.26   \n",
       "5                  Double D Liquor Store          9.74   \n",
       "0              Bootleggin' Barzini's Fin          6.75   \n",
       "\n",
       "    percentage_of_total_sales  \n",
       "49                   0.205418  \n",
       "41                   0.117392  \n",
       "42                   0.091908  \n",
       "14                   0.072900  \n",
       "43                   0.069185  \n",
       "2                    0.065625  \n",
       "32                   0.059611  \n",
       "8                    0.040568  \n",
       "19                   0.035215  \n",
       "24                   0.027644  \n",
       "16                   0.026846  \n",
       "7                    0.023853  \n",
       "9                    0.023851  \n",
       "18                   0.015913  \n",
       "3                    0.015400  \n",
       "20                   0.014280  \n",
       "21                   0.013036  \n",
       "30                   0.012485  \n",
       "44                   0.012218  \n",
       "22                   0.008909  \n",
       "15                   0.008591  \n",
       "37                   0.005727  \n",
       "27                   0.004989  \n",
       "39                   0.004194  \n",
       "33                   0.003080  \n",
       "4                    0.001988  \n",
       "11                   0.001857  \n",
       "40                   0.001442  \n",
       "26                   0.001335  \n",
       "47                   0.001328  \n",
       "12                   0.001259  \n",
       "29                   0.001247  \n",
       "46                   0.001205  \n",
       "25                   0.001137  \n",
       "35                   0.001120  \n",
       "34                   0.000890  \n",
       "36                   0.000808  \n",
       "1                    0.000742  \n",
       "45                   0.000734  \n",
       "48                   0.000588  \n",
       "31                   0.000583  \n",
       "10                   0.000575  \n",
       "28                   0.000407  \n",
       "23                   0.000385  \n",
       "38                   0.000371  \n",
       "6                    0.000318  \n",
       "17                   0.000315  \n",
       "13                   0.000234  \n",
       "5                    0.000172  \n",
       "0                    0.000119  "
      ]
     },
     "execution_count": 41,
     "metadata": {},
     "output_type": "execute_result"
    }
   ],
   "source": [
    "sales_per_store"
   ]
  },
  {
   "cell_type": "code",
   "execution_count": 64,
   "id": "e710090d-229b-41ad-bf08-38498119aae8",
   "metadata": {},
   "outputs": [
    {
     "data": {
      "application/vnd.plotly.v1+json": {
       "config": {
        "plotlyServerURL": "https://plot.ly"
       },
       "data": [
        {
         "alignmentgroup": "True",
         "hovertemplate": "Store Name=%{x}<br>Sales %=%{text}<extra></extra>",
         "insidetextanchor": "middle",
         "legendgroup": "",
         "marker": {
          "color": [
           0.20541781351856667,
           0.11739191073672571,
           0.0919077140038461,
           0.07289956626592917,
           0.06918533050104886,
           0.06562488233922611,
           0.05961125675759521,
           0.040568109082430685,
           0.03521470958978836,
           0.027643586800639827,
           0.026846012473058446,
           0.023852987536310228,
           0.02385086632799219,
           0.015913304801903005,
           0.015399972388938395,
           0.014279974397015602,
           0.013035885718487728,
           0.01248543215995749,
           0.012218159911885008,
           0.008909074935749484,
           0.008590893688044145,
           0.005727262458696097,
           0.0049890819640197115,
           0.004193628844756364,
           0.0030799944777876787,
           0.001988102496078858,
           0.0018567643477204877,
           0.001442421656264202,
           0.0013353006362034048,
           0.0013278764070902803,
           0.0012594674388336324,
           0.0012472704910049279,
           0.0012051998593638888,
           0.0011369676584670769,
           0.0011199979919227923,
           0.0008902004241356032,
           0.0008081803691715603,
           0.000742422911312457,
           0.0007344683801198235,
           0.0005875747040958589,
           0.0005833322874597876,
           0.0005748474541876454,
           0.00040727199706283357,
           0.00038499930972345984,
           0.0003712114556562285,
           0.00031782771298566613,
           0.0003149994352282853,
           0.00023439351914293286,
           0.00017217140848055552,
           0.00011931796788950202
          ],
          "colorscale": [
           [
            0,
            "rgb(255,255,204)"
           ],
           [
            0.125,
            "rgb(255,237,160)"
           ],
           [
            0.25,
            "rgb(254,217,118)"
           ],
           [
            0.375,
            "rgb(254,178,76)"
           ],
           [
            0.5,
            "rgb(253,141,60)"
           ],
           [
            0.625,
            "rgb(252,78,42)"
           ],
           [
            0.75,
            "rgb(227,26,28)"
           ],
           [
            0.875,
            "rgb(189,0,38)"
           ],
           [
            1,
            "rgb(128,0,38)"
           ]
          ],
          "pattern": {
           "shape": ""
          }
         },
         "name": "",
         "offsetgroup": "",
         "orientation": "v",
         "showlegend": false,
         "text": [
          0.20541781351856667,
          0.11739191073672571,
          0.0919077140038461,
          0.07289956626592917,
          0.06918533050104886,
          0.06562488233922611,
          0.05961125675759521,
          0.040568109082430685,
          0.03521470958978836,
          0.027643586800639827,
          0.026846012473058446,
          0.023852987536310228,
          0.02385086632799219,
          0.015913304801903005,
          0.015399972388938395,
          0.014279974397015602,
          0.013035885718487728,
          0.01248543215995749,
          0.012218159911885008,
          0.008909074935749484,
          0.008590893688044145,
          0.005727262458696097,
          0.0049890819640197115,
          0.004193628844756364,
          0.0030799944777876787,
          0.001988102496078858,
          0.0018567643477204877,
          0.001442421656264202,
          0.0013353006362034048,
          0.0013278764070902803,
          0.0012594674388336324,
          0.0012472704910049279,
          0.0012051998593638888,
          0.0011369676584670769,
          0.0011199979919227923,
          0.0008902004241356032,
          0.0008081803691715603,
          0.000742422911312457,
          0.0007344683801198235,
          0.0005875747040958589,
          0.0005833322874597876,
          0.0005748474541876454,
          0.00040727199706283357,
          0.00038499930972345984,
          0.0003712114556562285,
          0.00031782771298566613,
          0.0003149994352282853,
          0.00023439351914293286,
          0.00017217140848055552,
          0.00011931796788950202
         ],
         "textfont": {
          "color": "black",
          "size": 10
         },
         "textposition": "inside",
         "texttemplate": "%{text:.2%}",
         "type": "bar",
         "x": [
          "Wilkie Liquors",
          "Sam's Club 6432 / Sioux City",
          "Sam's Club 6514 / Waterloo",
          "Hy-Vee #3 / BDI / Des Moines",
          "Sam's Club 6568 / Ames",
          "Cedar Ridge Vineyards",
          "Hy-Vee Wine and Spirits / WDM",
          "Fareway Stores #138 / Pleasant Hill",
          "Hy-Vee Food Store #2 / Waterloo",
          "Hy-Vee Food Store / Fort Dodge",
          "Hy-Vee / Waukee",
          "Fareway Stores #067 / Evansdale",
          "Fareway Stores #153  /  W Des Moines",
          "Hy-Vee Food Store #1 / Mason City",
          "Central City 2",
          "Hy-Vee Food Store #3 / Waterloo",
          "Hy-Vee Food Store / Carroll",
          "Hy-Vee Wine and Spirits / Iowa City",
          "Sam's Club 8162 / Cedar Rapids",
          "Hy-Vee Food Store / Coralville",
          "Hy-Vee #7 / Cedar Rapids",
          "Osage Payless Foods",
          "Hy-Vee Food and Drug / Clinton",
          "Quicker Liquor Store",
          "I-80 Liquor / Council Bluffs",
          "Depot Liquor & Grocery",
          "Fareway Stores #412 / Oelwein",
          "Quik Stop  /  Burlington",
          "Hy-Vee Food Store / Marshalltown",
          "The Ox & Wren Spirits and Gifts",
          "Fareway Stores #597 / Creston",
          "Hy-Vee Wine and Spirits / Hubbell",
          "Speedy Gas N Shop",
          "Hy-Vee Food Store / Johnston",
          "Logan Convenience Store",
          "Iowa Street Market, Inc.",
          "Nash Finch / Wholesale Food",
          "CVS Pharmacy #8526 / Cedar Rapids",
          "Sid's Beverage Shop",
          "Tobacco Hut #14 / Council Bluffs",
          "Hy-Vee Wine and Spirits / Storm Lake",
          "Fareway Stores #409 / Carroll",
          "Hy-Vee Wine and Spirits / Atlantic",
          "Hy-Vee Food Store / Fairfield",
          "Pump N Pak",
          "Famous Liquors",
          "Hy-Vee Drugstore / Council Bluffs",
          "Food Land Super Markets",
          "Double D Liquor Store",
          "Bootleggin' Barzini's Fin"
         ],
         "xaxis": "x",
         "y": [
          0.20541781351856667,
          0.11739191073672571,
          0.0919077140038461,
          0.07289956626592917,
          0.06918533050104886,
          0.06562488233922611,
          0.05961125675759521,
          0.040568109082430685,
          0.03521470958978836,
          0.027643586800639827,
          0.026846012473058446,
          0.023852987536310228,
          0.02385086632799219,
          0.015913304801903005,
          0.015399972388938395,
          0.014279974397015602,
          0.013035885718487728,
          0.01248543215995749,
          0.012218159911885008,
          0.008909074935749484,
          0.008590893688044145,
          0.005727262458696097,
          0.0049890819640197115,
          0.004193628844756364,
          0.0030799944777876787,
          0.001988102496078858,
          0.0018567643477204877,
          0.001442421656264202,
          0.0013353006362034048,
          0.0013278764070902803,
          0.0012594674388336324,
          0.0012472704910049279,
          0.0012051998593638888,
          0.0011369676584670769,
          0.0011199979919227923,
          0.0008902004241356032,
          0.0008081803691715603,
          0.000742422911312457,
          0.0007344683801198235,
          0.0005875747040958589,
          0.0005833322874597876,
          0.0005748474541876454,
          0.00040727199706283357,
          0.00038499930972345984,
          0.0003712114556562285,
          0.00031782771298566613,
          0.0003149994352282853,
          0.00023439351914293286,
          0.00017217140848055552,
          0.00011931796788950202
         ],
         "yaxis": "y"
        }
       ],
       "layout": {
        "bargap": 0.2,
        "barmode": "relative",
        "font": {
         "color": "white",
         "family": "Century Gothic",
         "size": 14,
         "weight": "normal"
        },
        "height": 800,
        "legend": {
         "tracegroupgap": 0
        },
        "margin": {
         "b": 150,
         "l": 50,
         "r": 50,
         "t": 50
        },
        "paper_bgcolor": "black",
        "plot_bgcolor": "black",
        "template": {
         "data": {
          "bar": [
           {
            "error_x": {
             "color": "#2a3f5f"
            },
            "error_y": {
             "color": "#2a3f5f"
            },
            "marker": {
             "line": {
              "color": "#E5ECF6",
              "width": 0.5
             },
             "pattern": {
              "fillmode": "overlay",
              "size": 10,
              "solidity": 0.2
             }
            },
            "type": "bar"
           }
          ],
          "barpolar": [
           {
            "marker": {
             "line": {
              "color": "#E5ECF6",
              "width": 0.5
             },
             "pattern": {
              "fillmode": "overlay",
              "size": 10,
              "solidity": 0.2
             }
            },
            "type": "barpolar"
           }
          ],
          "carpet": [
           {
            "aaxis": {
             "endlinecolor": "#2a3f5f",
             "gridcolor": "white",
             "linecolor": "white",
             "minorgridcolor": "white",
             "startlinecolor": "#2a3f5f"
            },
            "baxis": {
             "endlinecolor": "#2a3f5f",
             "gridcolor": "white",
             "linecolor": "white",
             "minorgridcolor": "white",
             "startlinecolor": "#2a3f5f"
            },
            "type": "carpet"
           }
          ],
          "choropleth": [
           {
            "colorbar": {
             "outlinewidth": 0,
             "ticks": ""
            },
            "type": "choropleth"
           }
          ],
          "contour": [
           {
            "colorbar": {
             "outlinewidth": 0,
             "ticks": ""
            },
            "colorscale": [
             [
              0,
              "#0d0887"
             ],
             [
              0.1111111111111111,
              "#46039f"
             ],
             [
              0.2222222222222222,
              "#7201a8"
             ],
             [
              0.3333333333333333,
              "#9c179e"
             ],
             [
              0.4444444444444444,
              "#bd3786"
             ],
             [
              0.5555555555555556,
              "#d8576b"
             ],
             [
              0.6666666666666666,
              "#ed7953"
             ],
             [
              0.7777777777777778,
              "#fb9f3a"
             ],
             [
              0.8888888888888888,
              "#fdca26"
             ],
             [
              1,
              "#f0f921"
             ]
            ],
            "type": "contour"
           }
          ],
          "contourcarpet": [
           {
            "colorbar": {
             "outlinewidth": 0,
             "ticks": ""
            },
            "type": "contourcarpet"
           }
          ],
          "heatmap": [
           {
            "colorbar": {
             "outlinewidth": 0,
             "ticks": ""
            },
            "colorscale": [
             [
              0,
              "#0d0887"
             ],
             [
              0.1111111111111111,
              "#46039f"
             ],
             [
              0.2222222222222222,
              "#7201a8"
             ],
             [
              0.3333333333333333,
              "#9c179e"
             ],
             [
              0.4444444444444444,
              "#bd3786"
             ],
             [
              0.5555555555555556,
              "#d8576b"
             ],
             [
              0.6666666666666666,
              "#ed7953"
             ],
             [
              0.7777777777777778,
              "#fb9f3a"
             ],
             [
              0.8888888888888888,
              "#fdca26"
             ],
             [
              1,
              "#f0f921"
             ]
            ],
            "type": "heatmap"
           }
          ],
          "heatmapgl": [
           {
            "colorbar": {
             "outlinewidth": 0,
             "ticks": ""
            },
            "colorscale": [
             [
              0,
              "#0d0887"
             ],
             [
              0.1111111111111111,
              "#46039f"
             ],
             [
              0.2222222222222222,
              "#7201a8"
             ],
             [
              0.3333333333333333,
              "#9c179e"
             ],
             [
              0.4444444444444444,
              "#bd3786"
             ],
             [
              0.5555555555555556,
              "#d8576b"
             ],
             [
              0.6666666666666666,
              "#ed7953"
             ],
             [
              0.7777777777777778,
              "#fb9f3a"
             ],
             [
              0.8888888888888888,
              "#fdca26"
             ],
             [
              1,
              "#f0f921"
             ]
            ],
            "type": "heatmapgl"
           }
          ],
          "histogram": [
           {
            "marker": {
             "pattern": {
              "fillmode": "overlay",
              "size": 10,
              "solidity": 0.2
             }
            },
            "type": "histogram"
           }
          ],
          "histogram2d": [
           {
            "colorbar": {
             "outlinewidth": 0,
             "ticks": ""
            },
            "colorscale": [
             [
              0,
              "#0d0887"
             ],
             [
              0.1111111111111111,
              "#46039f"
             ],
             [
              0.2222222222222222,
              "#7201a8"
             ],
             [
              0.3333333333333333,
              "#9c179e"
             ],
             [
              0.4444444444444444,
              "#bd3786"
             ],
             [
              0.5555555555555556,
              "#d8576b"
             ],
             [
              0.6666666666666666,
              "#ed7953"
             ],
             [
              0.7777777777777778,
              "#fb9f3a"
             ],
             [
              0.8888888888888888,
              "#fdca26"
             ],
             [
              1,
              "#f0f921"
             ]
            ],
            "type": "histogram2d"
           }
          ],
          "histogram2dcontour": [
           {
            "colorbar": {
             "outlinewidth": 0,
             "ticks": ""
            },
            "colorscale": [
             [
              0,
              "#0d0887"
             ],
             [
              0.1111111111111111,
              "#46039f"
             ],
             [
              0.2222222222222222,
              "#7201a8"
             ],
             [
              0.3333333333333333,
              "#9c179e"
             ],
             [
              0.4444444444444444,
              "#bd3786"
             ],
             [
              0.5555555555555556,
              "#d8576b"
             ],
             [
              0.6666666666666666,
              "#ed7953"
             ],
             [
              0.7777777777777778,
              "#fb9f3a"
             ],
             [
              0.8888888888888888,
              "#fdca26"
             ],
             [
              1,
              "#f0f921"
             ]
            ],
            "type": "histogram2dcontour"
           }
          ],
          "mesh3d": [
           {
            "colorbar": {
             "outlinewidth": 0,
             "ticks": ""
            },
            "type": "mesh3d"
           }
          ],
          "parcoords": [
           {
            "line": {
             "colorbar": {
              "outlinewidth": 0,
              "ticks": ""
             }
            },
            "type": "parcoords"
           }
          ],
          "pie": [
           {
            "automargin": true,
            "type": "pie"
           }
          ],
          "scatter": [
           {
            "fillpattern": {
             "fillmode": "overlay",
             "size": 10,
             "solidity": 0.2
            },
            "type": "scatter"
           }
          ],
          "scatter3d": [
           {
            "line": {
             "colorbar": {
              "outlinewidth": 0,
              "ticks": ""
             }
            },
            "marker": {
             "colorbar": {
              "outlinewidth": 0,
              "ticks": ""
             }
            },
            "type": "scatter3d"
           }
          ],
          "scattercarpet": [
           {
            "marker": {
             "colorbar": {
              "outlinewidth": 0,
              "ticks": ""
             }
            },
            "type": "scattercarpet"
           }
          ],
          "scattergeo": [
           {
            "marker": {
             "colorbar": {
              "outlinewidth": 0,
              "ticks": ""
             }
            },
            "type": "scattergeo"
           }
          ],
          "scattergl": [
           {
            "marker": {
             "colorbar": {
              "outlinewidth": 0,
              "ticks": ""
             }
            },
            "type": "scattergl"
           }
          ],
          "scattermapbox": [
           {
            "marker": {
             "colorbar": {
              "outlinewidth": 0,
              "ticks": ""
             }
            },
            "type": "scattermapbox"
           }
          ],
          "scatterpolar": [
           {
            "marker": {
             "colorbar": {
              "outlinewidth": 0,
              "ticks": ""
             }
            },
            "type": "scatterpolar"
           }
          ],
          "scatterpolargl": [
           {
            "marker": {
             "colorbar": {
              "outlinewidth": 0,
              "ticks": ""
             }
            },
            "type": "scatterpolargl"
           }
          ],
          "scatterternary": [
           {
            "marker": {
             "colorbar": {
              "outlinewidth": 0,
              "ticks": ""
             }
            },
            "type": "scatterternary"
           }
          ],
          "surface": [
           {
            "colorbar": {
             "outlinewidth": 0,
             "ticks": ""
            },
            "colorscale": [
             [
              0,
              "#0d0887"
             ],
             [
              0.1111111111111111,
              "#46039f"
             ],
             [
              0.2222222222222222,
              "#7201a8"
             ],
             [
              0.3333333333333333,
              "#9c179e"
             ],
             [
              0.4444444444444444,
              "#bd3786"
             ],
             [
              0.5555555555555556,
              "#d8576b"
             ],
             [
              0.6666666666666666,
              "#ed7953"
             ],
             [
              0.7777777777777778,
              "#fb9f3a"
             ],
             [
              0.8888888888888888,
              "#fdca26"
             ],
             [
              1,
              "#f0f921"
             ]
            ],
            "type": "surface"
           }
          ],
          "table": [
           {
            "cells": {
             "fill": {
              "color": "#EBF0F8"
             },
             "line": {
              "color": "white"
             }
            },
            "header": {
             "fill": {
              "color": "#C8D4E3"
             },
             "line": {
              "color": "white"
             }
            },
            "type": "table"
           }
          ]
         },
         "layout": {
          "annotationdefaults": {
           "arrowcolor": "#2a3f5f",
           "arrowhead": 0,
           "arrowwidth": 1
          },
          "autotypenumbers": "strict",
          "coloraxis": {
           "colorbar": {
            "outlinewidth": 0,
            "ticks": ""
           }
          },
          "colorscale": {
           "diverging": [
            [
             0,
             "#8e0152"
            ],
            [
             0.1,
             "#c51b7d"
            ],
            [
             0.2,
             "#de77ae"
            ],
            [
             0.3,
             "#f1b6da"
            ],
            [
             0.4,
             "#fde0ef"
            ],
            [
             0.5,
             "#f7f7f7"
            ],
            [
             0.6,
             "#e6f5d0"
            ],
            [
             0.7,
             "#b8e186"
            ],
            [
             0.8,
             "#7fbc41"
            ],
            [
             0.9,
             "#4d9221"
            ],
            [
             1,
             "#276419"
            ]
           ],
           "sequential": [
            [
             0,
             "#0d0887"
            ],
            [
             0.1111111111111111,
             "#46039f"
            ],
            [
             0.2222222222222222,
             "#7201a8"
            ],
            [
             0.3333333333333333,
             "#9c179e"
            ],
            [
             0.4444444444444444,
             "#bd3786"
            ],
            [
             0.5555555555555556,
             "#d8576b"
            ],
            [
             0.6666666666666666,
             "#ed7953"
            ],
            [
             0.7777777777777778,
             "#fb9f3a"
            ],
            [
             0.8888888888888888,
             "#fdca26"
            ],
            [
             1,
             "#f0f921"
            ]
           ],
           "sequentialminus": [
            [
             0,
             "#0d0887"
            ],
            [
             0.1111111111111111,
             "#46039f"
            ],
            [
             0.2222222222222222,
             "#7201a8"
            ],
            [
             0.3333333333333333,
             "#9c179e"
            ],
            [
             0.4444444444444444,
             "#bd3786"
            ],
            [
             0.5555555555555556,
             "#d8576b"
            ],
            [
             0.6666666666666666,
             "#ed7953"
            ],
            [
             0.7777777777777778,
             "#fb9f3a"
            ],
            [
             0.8888888888888888,
             "#fdca26"
            ],
            [
             1,
             "#f0f921"
            ]
           ]
          },
          "colorway": [
           "#636efa",
           "#EF553B",
           "#00cc96",
           "#ab63fa",
           "#FFA15A",
           "#19d3f3",
           "#FF6692",
           "#B6E880",
           "#FF97FF",
           "#FECB52"
          ],
          "font": {
           "color": "#2a3f5f"
          },
          "geo": {
           "bgcolor": "white",
           "lakecolor": "white",
           "landcolor": "#E5ECF6",
           "showlakes": true,
           "showland": true,
           "subunitcolor": "white"
          },
          "hoverlabel": {
           "align": "left"
          },
          "hovermode": "closest",
          "mapbox": {
           "style": "light"
          },
          "paper_bgcolor": "white",
          "plot_bgcolor": "#E5ECF6",
          "polar": {
           "angularaxis": {
            "gridcolor": "white",
            "linecolor": "white",
            "ticks": ""
           },
           "bgcolor": "#E5ECF6",
           "radialaxis": {
            "gridcolor": "white",
            "linecolor": "white",
            "ticks": ""
           }
          },
          "scene": {
           "xaxis": {
            "backgroundcolor": "#E5ECF6",
            "gridcolor": "white",
            "gridwidth": 2,
            "linecolor": "white",
            "showbackground": true,
            "ticks": "",
            "zerolinecolor": "white"
           },
           "yaxis": {
            "backgroundcolor": "#E5ECF6",
            "gridcolor": "white",
            "gridwidth": 2,
            "linecolor": "white",
            "showbackground": true,
            "ticks": "",
            "zerolinecolor": "white"
           },
           "zaxis": {
            "backgroundcolor": "#E5ECF6",
            "gridcolor": "white",
            "gridwidth": 2,
            "linecolor": "white",
            "showbackground": true,
            "ticks": "",
            "zerolinecolor": "white"
           }
          },
          "shapedefaults": {
           "line": {
            "color": "#2a3f5f"
           }
          },
          "ternary": {
           "aaxis": {
            "gridcolor": "white",
            "linecolor": "white",
            "ticks": ""
           },
           "baxis": {
            "gridcolor": "white",
            "linecolor": "white",
            "ticks": ""
           },
           "bgcolor": "#E5ECF6",
           "caxis": {
            "gridcolor": "white",
            "linecolor": "white",
            "ticks": ""
           }
          },
          "title": {
           "x": 0.05
          },
          "xaxis": {
           "automargin": true,
           "gridcolor": "white",
           "linecolor": "white",
           "ticks": "",
           "title": {
            "standoff": 15
           },
           "zerolinecolor": "white",
           "zerolinewidth": 2
          },
          "yaxis": {
           "automargin": true,
           "gridcolor": "white",
           "linecolor": "white",
           "ticks": "",
           "title": {
            "standoff": 15
           },
           "zerolinecolor": "white",
           "zerolinewidth": 2
          }
         }
        },
        "title": {
         "font": {
          "color": "white",
          "family": "Century Gothic",
          "size": 24,
          "weight": "normal"
         },
         "text": "Percentage of Total Sales by Store"
        },
        "width": 1200,
        "xaxis": {
         "anchor": "y",
         "autorange": true,
         "color": "white",
         "domain": [
          0,
          1
         ],
         "range": [
          -0.5,
          49.5
         ],
         "showgrid": false,
         "tickcolor": "white",
         "tickfont": {
          "color": "white",
          "size": 10
         },
         "title": {
          "font": {
           "color": "white",
           "weight": "normal"
          },
          "text": "Store Name"
         },
         "type": "category",
         "zeroline": false
        },
        "yaxis": {
         "anchor": "x",
         "autorange": true,
         "color": "white",
         "domain": [
          0,
          1
         ],
         "range": [
          0,
          0.2162292773879649
         ],
         "showgrid": false,
         "tickcolor": "white",
         "tickfont": {
          "color": "white",
          "weight": "normal"
         },
         "title": {
          "font": {
           "color": "white",
           "weight": "normal"
          },
          "text": "Sales %"
         },
         "type": "linear",
         "zeroline": false
        }
       }
      },
      "image/png": "[encoded data removed]",
      "text/html": [
       "<div>                            <div id=\"548276fb-1a08-4c64-ae97-eac09057b6bb\" class=\"plotly-graph-div\" style=\"height:800px; width:1200px;\"></div>            <script type=\"text/javascript\">                require([\"plotly\"], function(Plotly) {                    window.PLOTLYENV=window.PLOTLYENV || {};                                    if (document.getElementById(\"548276fb-1a08-4c64-ae97-eac09057b6bb\")) {                    Plotly.newPlot(                        \"548276fb-1a08-4c64-ae97-eac09057b6bb\",                        [{\"alignmentgroup\":\"True\",\"hovertemplate\":\"Store Name=%{x}\\u003cbr\\u003eSales %=%{text}\\u003cextra\\u003e\\u003c\\u002fextra\\u003e\",\"legendgroup\":\"\",\"marker\":{\"color\":[0.20541781351856667,0.11739191073672571,0.0919077140038461,0.07289956626592917,0.06918533050104886,0.06562488233922611,0.05961125675759521,0.040568109082430685,0.03521470958978836,0.027643586800639827,0.026846012473058446,0.023852987536310228,0.02385086632799219,0.015913304801903005,0.015399972388938395,0.014279974397015602,0.013035885718487728,0.01248543215995749,0.012218159911885008,0.008909074935749484,0.008590893688044145,0.005727262458696097,0.0049890819640197115,0.004193628844756364,0.0030799944777876787,0.001988102496078858,0.0018567643477204877,0.001442421656264202,0.0013353006362034048,0.0013278764070902803,0.0012594674388336324,0.0012472704910049279,0.0012051998593638888,0.0011369676584670769,0.0011199979919227923,0.0008902004241356032,0.0008081803691715603,0.000742422911312457,0.0007344683801198235,0.0005875747040958589,0.0005833322874597876,0.0005748474541876454,0.00040727199706283357,0.00038499930972345984,0.0003712114556562285,0.00031782771298566613,0.0003149994352282853,0.00023439351914293286,0.00017217140848055552,0.00011931796788950202],\"pattern\":{\"shape\":\"\"},\"colorscale\":[[0.0,\"rgb(255,255,204)\"],[0.125,\"rgb(255,237,160)\"],[0.25,\"rgb(254,217,118)\"],[0.375,\"rgb(254,178,76)\"],[0.5,\"rgb(253,141,60)\"],[0.625,\"rgb(252,78,42)\"],[0.75,\"rgb(227,26,28)\"],[0.875,\"rgb(189,0,38)\"],[1.0,\"rgb(128,0,38)\"]]},\"name\":\"\",\"offsetgroup\":\"\",\"orientation\":\"v\",\"showlegend\":false,\"text\":[0.20541781351856667,0.11739191073672571,0.0919077140038461,0.07289956626592917,0.06918533050104886,0.06562488233922611,0.05961125675759521,0.040568109082430685,0.03521470958978836,0.027643586800639827,0.026846012473058446,0.023852987536310228,0.02385086632799219,0.015913304801903005,0.015399972388938395,0.014279974397015602,0.013035885718487728,0.01248543215995749,0.012218159911885008,0.008909074935749484,0.008590893688044145,0.005727262458696097,0.0049890819640197115,0.004193628844756364,0.0030799944777876787,0.001988102496078858,0.0018567643477204877,0.001442421656264202,0.0013353006362034048,0.0013278764070902803,0.0012594674388336324,0.0012472704910049279,0.0012051998593638888,0.0011369676584670769,0.0011199979919227923,0.0008902004241356032,0.0008081803691715603,0.000742422911312457,0.0007344683801198235,0.0005875747040958589,0.0005833322874597876,0.0005748474541876454,0.00040727199706283357,0.00038499930972345984,0.0003712114556562285,0.00031782771298566613,0.0003149994352282853,0.00023439351914293286,0.00017217140848055552,0.00011931796788950202],\"textposition\":\"inside\",\"x\":[\"Wilkie Liquors\",\"Sam's Club 6432 \\u002f Sioux City\",\"Sam's Club 6514 \\u002f Waterloo\",\"Hy-Vee #3 \\u002f BDI \\u002f Des Moines\",\"Sam's Club 6568 \\u002f Ames\",\"Cedar Ridge Vineyards\",\"Hy-Vee Wine and Spirits \\u002f WDM\",\"Fareway Stores #138 \\u002f Pleasant Hill\",\"Hy-Vee Food Store #2 \\u002f Waterloo\",\"Hy-Vee Food Store \\u002f Fort Dodge\",\"Hy-Vee \\u002f Waukee\",\"Fareway Stores #067 \\u002f Evansdale\",\"Fareway Stores #153  \\u002f  W Des Moines\",\"Hy-Vee Food Store #1 \\u002f Mason City\",\"Central City 2\",\"Hy-Vee Food Store #3 \\u002f Waterloo\",\"Hy-Vee Food Store \\u002f Carroll\",\"Hy-Vee Wine and Spirits \\u002f Iowa City\",\"Sam's Club 8162 \\u002f Cedar Rapids\",\"Hy-Vee Food Store \\u002f Coralville\",\"Hy-Vee #7 \\u002f Cedar Rapids\",\"Osage Payless Foods\",\"Hy-Vee Food and Drug \\u002f Clinton\",\"Quicker Liquor Store\",\"I-80 Liquor \\u002f Council Bluffs\",\"Depot Liquor & Grocery\",\"Fareway Stores #412 \\u002f Oelwein\",\"Quik Stop  \\u002f  Burlington\",\"Hy-Vee Food Store \\u002f Marshalltown\",\"The Ox & Wren Spirits and Gifts\",\"Fareway Stores #597 \\u002f Creston\",\"Hy-Vee Wine and Spirits \\u002f Hubbell\",\"Speedy Gas N Shop\",\"Hy-Vee Food Store \\u002f Johnston\",\"Logan Convenience Store\",\"Iowa Street Market, Inc.\",\"Nash Finch \\u002f Wholesale Food\",\"CVS Pharmacy #8526 \\u002f Cedar Rapids\",\"Sid's Beverage Shop\",\"Tobacco Hut #14 \\u002f Council Bluffs\",\"Hy-Vee Wine and Spirits \\u002f Storm Lake\",\"Fareway Stores #409 \\u002f Carroll\",\"Hy-Vee Wine and Spirits \\u002f Atlantic\",\"Hy-Vee Food Store \\u002f Fairfield\",\"Pump N Pak\",\"Famous Liquors\",\"Hy-Vee Drugstore \\u002f Council Bluffs\",\"Food Land Super Markets\",\"Double D Liquor Store\",\"Bootleggin' Barzini's Fin\"],\"xaxis\":\"x\",\"y\":[0.20541781351856667,0.11739191073672571,0.0919077140038461,0.07289956626592917,0.06918533050104886,0.06562488233922611,0.05961125675759521,0.040568109082430685,0.03521470958978836,0.027643586800639827,0.026846012473058446,0.023852987536310228,0.02385086632799219,0.015913304801903005,0.015399972388938395,0.014279974397015602,0.013035885718487728,0.01248543215995749,0.012218159911885008,0.008909074935749484,0.008590893688044145,0.005727262458696097,0.0049890819640197115,0.004193628844756364,0.0030799944777876787,0.001988102496078858,0.0018567643477204877,0.001442421656264202,0.0013353006362034048,0.0013278764070902803,0.0012594674388336324,0.0012472704910049279,0.0012051998593638888,0.0011369676584670769,0.0011199979919227923,0.0008902004241356032,0.0008081803691715603,0.000742422911312457,0.0007344683801198235,0.0005875747040958589,0.0005833322874597876,0.0005748474541876454,0.00040727199706283357,0.00038499930972345984,0.0003712114556562285,0.00031782771298566613,0.0003149994352282853,0.00023439351914293286,0.00017217140848055552,0.00011931796788950202],\"yaxis\":\"y\",\"type\":\"bar\",\"textfont\":{\"color\":\"black\",\"size\":10},\"insidetextanchor\":\"middle\",\"texttemplate\":\"%{text:.2%}\"}],                        {\"template\":{\"data\":{\"histogram2dcontour\":[{\"type\":\"histogram2dcontour\",\"colorbar\":{\"outlinewidth\":0,\"ticks\":\"\"},\"colorscale\":[[0.0,\"#0d0887\"],[0.1111111111111111,\"#46039f\"],[0.2222222222222222,\"#7201a8\"],[0.3333333333333333,\"#9c179e\"],[0.4444444444444444,\"#bd3786\"],[0.5555555555555556,\"#d8576b\"],[0.6666666666666666,\"#ed7953\"],[0.7777777777777778,\"#fb9f3a\"],[0.8888888888888888,\"#fdca26\"],[1.0,\"#f0f921\"]]}],\"choropleth\":[{\"type\":\"choropleth\",\"colorbar\":{\"outlinewidth\":0,\"ticks\":\"\"}}],\"histogram2d\":[{\"type\":\"histogram2d\",\"colorbar\":{\"outlinewidth\":0,\"ticks\":\"\"},\"colorscale\":[[0.0,\"#0d0887\"],[0.1111111111111111,\"#46039f\"],[0.2222222222222222,\"#7201a8\"],[0.3333333333333333,\"#9c179e\"],[0.4444444444444444,\"#bd3786\"],[0.5555555555555556,\"#d8576b\"],[0.6666666666666666,\"#ed7953\"],[0.7777777777777778,\"#fb9f3a\"],[0.8888888888888888,\"#fdca26\"],[1.0,\"#f0f921\"]]}],\"heatmap\":[{\"type\":\"heatmap\",\"colorbar\":{\"outlinewidth\":0,\"ticks\":\"\"},\"colorscale\":[[0.0,\"#0d0887\"],[0.1111111111111111,\"#46039f\"],[0.2222222222222222,\"#7201a8\"],[0.3333333333333333,\"#9c179e\"],[0.4444444444444444,\"#bd3786\"],[0.5555555555555556,\"#d8576b\"],[0.6666666666666666,\"#ed7953\"],[0.7777777777777778,\"#fb9f3a\"],[0.8888888888888888,\"#fdca26\"],[1.0,\"#f0f921\"]]}],\"heatmapgl\":[{\"type\":\"heatmapgl\",\"colorbar\":{\"outlinewidth\":0,\"ticks\":\"\"},\"colorscale\":[[0.0,\"#0d0887\"],[0.1111111111111111,\"#46039f\"],[0.2222222222222222,\"#7201a8\"],[0.3333333333333333,\"#9c179e\"],[0.4444444444444444,\"#bd3786\"],[0.5555555555555556,\"#d8576b\"],[0.6666666666666666,\"#ed7953\"],[0.7777777777777778,\"#fb9f3a\"],[0.8888888888888888,\"#fdca26\"],[1.0,\"#f0f921\"]]}],\"contourcarpet\":[{\"type\":\"contourcarpet\",\"colorbar\":{\"outlinewidth\":0,\"ticks\":\"\"}}],\"contour\":[{\"type\":\"contour\",\"colorbar\":{\"outlinewidth\":0,\"ticks\":\"\"},\"colorscale\":[[0.0,\"#0d0887\"],[0.1111111111111111,\"#46039f\"],[0.2222222222222222,\"#7201a8\"],[0.3333333333333333,\"#9c179e\"],[0.4444444444444444,\"#bd3786\"],[0.5555555555555556,\"#d8576b\"],[0.6666666666666666,\"#ed7953\"],[0.7777777777777778,\"#fb9f3a\"],[0.8888888888888888,\"#fdca26\"],[1.0,\"#f0f921\"]]}],\"surface\":[{\"type\":\"surface\",\"colorbar\":{\"outlinewidth\":0,\"ticks\":\"\"},\"colorscale\":[[0.0,\"#0d0887\"],[0.1111111111111111,\"#46039f\"],[0.2222222222222222,\"#7201a8\"],[0.3333333333333333,\"#9c179e\"],[0.4444444444444444,\"#bd3786\"],[0.5555555555555556,\"#d8576b\"],[0.6666666666666666,\"#ed7953\"],[0.7777777777777778,\"#fb9f3a\"],[0.8888888888888888,\"#fdca26\"],[1.0,\"#f0f921\"]]}],\"mesh3d\":[{\"type\":\"mesh3d\",\"colorbar\":{\"outlinewidth\":0,\"ticks\":\"\"}}],\"scatter\":[{\"fillpattern\":{\"fillmode\":\"overlay\",\"size\":10,\"solidity\":0.2},\"type\":\"scatter\"}],\"parcoords\":[{\"type\":\"parcoords\",\"line\":{\"colorbar\":{\"outlinewidth\":0,\"ticks\":\"\"}}}],\"scatterpolargl\":[{\"type\":\"scatterpolargl\",\"marker\":{\"colorbar\":{\"outlinewidth\":0,\"ticks\":\"\"}}}],\"bar\":[{\"error_x\":{\"color\":\"#2a3f5f\"},\"error_y\":{\"color\":\"#2a3f5f\"},\"marker\":{\"line\":{\"color\":\"#E5ECF6\",\"width\":0.5},\"pattern\":{\"fillmode\":\"overlay\",\"size\":10,\"solidity\":0.2}},\"type\":\"bar\"}],\"scattergeo\":[{\"type\":\"scattergeo\",\"marker\":{\"colorbar\":{\"outlinewidth\":0,\"ticks\":\"\"}}}],\"scatterpolar\":[{\"type\":\"scatterpolar\",\"marker\":{\"colorbar\":{\"outlinewidth\":0,\"ticks\":\"\"}}}],\"histogram\":[{\"marker\":{\"pattern\":{\"fillmode\":\"overlay\",\"size\":10,\"solidity\":0.2}},\"type\":\"histogram\"}],\"scattergl\":[{\"type\":\"scattergl\",\"marker\":{\"colorbar\":{\"outlinewidth\":0,\"ticks\":\"\"}}}],\"scatter3d\":[{\"type\":\"scatter3d\",\"line\":{\"colorbar\":{\"outlinewidth\":0,\"ticks\":\"\"}},\"marker\":{\"colorbar\":{\"outlinewidth\":0,\"ticks\":\"\"}}}],\"scattermapbox\":[{\"type\":\"scattermapbox\",\"marker\":{\"colorbar\":{\"outlinewidth\":0,\"ticks\":\"\"}}}],\"scatterternary\":[{\"type\":\"scatterternary\",\"marker\":{\"colorbar\":{\"outlinewidth\":0,\"ticks\":\"\"}}}],\"scattercarpet\":[{\"type\":\"scattercarpet\",\"marker\":{\"colorbar\":{\"outlinewidth\":0,\"ticks\":\"\"}}}],\"carpet\":[{\"aaxis\":{\"endlinecolor\":\"#2a3f5f\",\"gridcolor\":\"white\",\"linecolor\":\"white\",\"minorgridcolor\":\"white\",\"startlinecolor\":\"#2a3f5f\"},\"baxis\":{\"endlinecolor\":\"#2a3f5f\",\"gridcolor\":\"white\",\"linecolor\":\"white\",\"minorgridcolor\":\"white\",\"startlinecolor\":\"#2a3f5f\"},\"type\":\"carpet\"}],\"table\":[{\"cells\":{\"fill\":{\"color\":\"#EBF0F8\"},\"line\":{\"color\":\"white\"}},\"header\":{\"fill\":{\"color\":\"#C8D4E3\"},\"line\":{\"color\":\"white\"}},\"type\":\"table\"}],\"barpolar\":[{\"marker\":{\"line\":{\"color\":\"#E5ECF6\",\"width\":0.5},\"pattern\":{\"fillmode\":\"overlay\",\"size\":10,\"solidity\":0.2}},\"type\":\"barpolar\"}],\"pie\":[{\"automargin\":true,\"type\":\"pie\"}]},\"layout\":{\"autotypenumbers\":\"strict\",\"colorway\":[\"#636efa\",\"#EF553B\",\"#00cc96\",\"#ab63fa\",\"#FFA15A\",\"#19d3f3\",\"#FF6692\",\"#B6E880\",\"#FF97FF\",\"#FECB52\"],\"font\":{\"color\":\"#2a3f5f\"},\"hovermode\":\"closest\",\"hoverlabel\":{\"align\":\"left\"},\"paper_bgcolor\":\"white\",\"plot_bgcolor\":\"#E5ECF6\",\"polar\":{\"bgcolor\":\"#E5ECF6\",\"angularaxis\":{\"gridcolor\":\"white\",\"linecolor\":\"white\",\"ticks\":\"\"},\"radialaxis\":{\"gridcolor\":\"white\",\"linecolor\":\"white\",\"ticks\":\"\"}},\"ternary\":{\"bgcolor\":\"#E5ECF6\",\"aaxis\":{\"gridcolor\":\"white\",\"linecolor\":\"white\",\"ticks\":\"\"},\"baxis\":{\"gridcolor\":\"white\",\"linecolor\":\"white\",\"ticks\":\"\"},\"caxis\":{\"gridcolor\":\"white\",\"linecolor\":\"white\",\"ticks\":\"\"}},\"coloraxis\":{\"colorbar\":{\"outlinewidth\":0,\"ticks\":\"\"}},\"colorscale\":{\"sequential\":[[0.0,\"#0d0887\"],[0.1111111111111111,\"#46039f\"],[0.2222222222222222,\"#7201a8\"],[0.3333333333333333,\"#9c179e\"],[0.4444444444444444,\"#bd3786\"],[0.5555555555555556,\"#d8576b\"],[0.6666666666666666,\"#ed7953\"],[0.7777777777777778,\"#fb9f3a\"],[0.8888888888888888,\"#fdca26\"],[1.0,\"#f0f921\"]],\"sequentialminus\":[[0.0,\"#0d0887\"],[0.1111111111111111,\"#46039f\"],[0.2222222222222222,\"#7201a8\"],[0.3333333333333333,\"#9c179e\"],[0.4444444444444444,\"#bd3786\"],[0.5555555555555556,\"#d8576b\"],[0.6666666666666666,\"#ed7953\"],[0.7777777777777778,\"#fb9f3a\"],[0.8888888888888888,\"#fdca26\"],[1.0,\"#f0f921\"]],\"diverging\":[[0,\"#8e0152\"],[0.1,\"#c51b7d\"],[0.2,\"#de77ae\"],[0.3,\"#f1b6da\"],[0.4,\"#fde0ef\"],[0.5,\"#f7f7f7\"],[0.6,\"#e6f5d0\"],[0.7,\"#b8e186\"],[0.8,\"#7fbc41\"],[0.9,\"#4d9221\"],[1,\"#276419\"]]},\"xaxis\":{\"gridcolor\":\"white\",\"linecolor\":\"white\",\"ticks\":\"\",\"title\":{\"standoff\":15},\"zerolinecolor\":\"white\",\"automargin\":true,\"zerolinewidth\":2},\"yaxis\":{\"gridcolor\":\"white\",\"linecolor\":\"white\",\"ticks\":\"\",\"title\":{\"standoff\":15},\"zerolinecolor\":\"white\",\"automargin\":true,\"zerolinewidth\":2},\"scene\":{\"xaxis\":{\"backgroundcolor\":\"#E5ECF6\",\"gridcolor\":\"white\",\"linecolor\":\"white\",\"showbackground\":true,\"ticks\":\"\",\"zerolinecolor\":\"white\",\"gridwidth\":2},\"yaxis\":{\"backgroundcolor\":\"#E5ECF6\",\"gridcolor\":\"white\",\"linecolor\":\"white\",\"showbackground\":true,\"ticks\":\"\",\"zerolinecolor\":\"white\",\"gridwidth\":2},\"zaxis\":{\"backgroundcolor\":\"#E5ECF6\",\"gridcolor\":\"white\",\"linecolor\":\"white\",\"showbackground\":true,\"ticks\":\"\",\"zerolinecolor\":\"white\",\"gridwidth\":2}},\"shapedefaults\":{\"line\":{\"color\":\"#2a3f5f\"}},\"annotationdefaults\":{\"arrowcolor\":\"#2a3f5f\",\"arrowhead\":0,\"arrowwidth\":1},\"geo\":{\"bgcolor\":\"white\",\"landcolor\":\"#E5ECF6\",\"subunitcolor\":\"white\",\"showland\":true,\"showlakes\":true,\"lakecolor\":\"white\"},\"title\":{\"x\":0.05},\"mapbox\":{\"style\":\"light\"}}},\"xaxis\":{\"anchor\":\"y\",\"domain\":[0.0,1.0],\"title\":{\"text\":\"Store Name\",\"font\":{\"color\":\"white\",\"weight\":\"normal\"}},\"tickfont\":{\"size\":10,\"color\":\"white\"},\"showgrid\":false,\"zeroline\":false,\"color\":\"white\",\"tickcolor\":\"white\"},\"yaxis\":{\"anchor\":\"x\",\"domain\":[0.0,1.0],\"title\":{\"text\":\"Sales %\",\"font\":{\"color\":\"white\",\"weight\":\"normal\"}},\"tickfont\":{\"color\":\"white\",\"weight\":\"normal\"},\"showgrid\":false,\"zeroline\":false,\"color\":\"white\",\"tickcolor\":\"white\"},\"legend\":{\"tracegroupgap\":0},\"title\":{\"text\":\"Percentage of Total Sales by Store\",\"font\":{\"family\":\"Century Gothic\",\"size\":24,\"color\":\"white\",\"weight\":\"normal\"}},\"barmode\":\"relative\",\"font\":{\"family\":\"Century Gothic\",\"size\":14,\"color\":\"white\",\"weight\":\"normal\"},\"margin\":{\"l\":50,\"r\":50,\"t\":50,\"b\":150},\"paper_bgcolor\":\"black\",\"plot_bgcolor\":\"black\",\"width\":1200,\"height\":800,\"bargap\":0.2},                        {\"responsive\": true}                    ).then(function(){\n",
       "                            \n",
       "var gd = document.getElementById('548276fb-1a08-4c64-ae97-eac09057b6bb');\n",
       "var x = new MutationObserver(function (mutations, observer) {{\n",
       "        var display = window.getComputedStyle(gd).display;\n",
       "        if (!display || display === 'none') {{\n",
       "            console.log([gd, 'removed!']);\n",
       "            Plotly.purge(gd);\n",
       "            observer.disconnect();\n",
       "        }}\n",
       "}});\n",
       "\n",
       "// Listen for the removal of the full notebook cells\n",
       "var notebookContainer = gd.closest('#notebook-container');\n",
       "if (notebookContainer) {{\n",
       "    x.observe(notebookContainer, {childList: true});\n",
       "}}\n",
       "\n",
       "// Listen for the clearing of the current output cell\n",
       "var outputEl = gd.closest('.output');\n",
       "if (outputEl) {{\n",
       "    x.observe(outputEl, {childList: true});\n",
       "}}\n",
       "\n",
       "                        })                };                });            </script>        </div>"
      ]
     },
     "metadata": {},
     "output_type": "display_data"
    }
   ],
   "source": [
    "\n",
    "fig = px.bar(\n",
    "    sales_per_store,\n",
    "    x='store_name', \n",
    "    y='percentage_of_total_sales',\n",
    "    title='Percentage of Total Sales by Store',\n",
    "    labels={'store_name': 'Store Name', 'percentage_of_total_sales': 'Sales %'},\n",
    "    text='percentage_of_total_sales'  \n",
    ")\n",
    "\n",
    "\n",
    "fig.update_layout(\n",
    "    title='Percentage of Total Sales by Store',\n",
    "    title_font=dict(\n",
    "        family='Century Gothic',\n",
    "        size=24,\n",
    "        color='white',\n",
    "        weight='normal'\n",
    "    ),\n",
    "    font=dict(\n",
    "        family='Century Gothic',\n",
    "        size=14,\n",
    "        color='white',\n",
    "        weight='normal'\n",
    "    ),\n",
    "    paper_bgcolor='black',\n",
    "    plot_bgcolor='black',\n",
    "    xaxis=dict(\n",
    "        showgrid=False,\n",
    "        zeroline=False,\n",
    "        color='white',\n",
    "        tickcolor='white',\n",
    "        title_font=dict(color='white', weight='normal'),\n",
    "        tickfont=dict(size=10, color='white')  \n",
    "    ),\n",
    "    yaxis=dict(\n",
    "        showgrid=False,\n",
    "        zeroline=False,\n",
    "        color='white',\n",
    "        tickcolor='white',\n",
    "        title_font=dict(color='white', weight='normal'),\n",
    "        tickfont=dict(color='white', weight='normal')\n",
    "    ),\n",
    "    margin=dict(l=50, r=50, t=50, b=150),  \n",
    "    width=1200,\n",
    "    height=800,\n",
    "    bargap=0.2\n",
    ")\n",
    "\n",
    "\n",
    "fig.update_traces(\n",
    "    marker=dict(\n",
    "        color=sales_per_store['percentage_of_total_sales'],  \n",
    "        colorscale='YlOrRd'\n",
    "    ),\n",
    "    texttemplate='%{text:.2%}', \n",
    "    textposition='inside',       \n",
    "    insidetextanchor='middle',   \n",
    "    textfont=dict(\n",
    "        size=10,  \n",
    "        color='black'  \n",
    "    )\n",
    ")\n",
    "\n",
    "fig.show()\n",
    "\n"
   ]
  },
  {
   "cell_type": "code",
   "execution_count": null,
   "id": "e23eec39-f56a-435d-a7a7-a9b795ce751c",
   "metadata": {},
   "outputs": [],
   "source": []
  }
 ],
 "metadata": {
  "kernelspec": {
   "display_name": "Python 3 (ipykernel)",
   "language": "python",
   "name": "python3"
  },
  "language_info": {
   "codemirror_mode": {
    "name": "ipython",
    "version": 3
   },
   "file_extension": ".py",
   "mimetype": "text/x-python",
   "name": "python",
   "nbconvert_exporter": "python",
   "pygments_lexer": "ipython3",
   "version": "3.12.5"
  }
 },
 "nbformat": 4,
 "nbformat_minor": 5
}
